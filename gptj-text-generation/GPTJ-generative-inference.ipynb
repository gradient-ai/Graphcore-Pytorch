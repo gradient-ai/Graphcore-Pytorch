{
 "cells": [
  {
   "attachments": {},
   "cell_type": "markdown",
   "metadata": {},
   "source": [
    "# Text generation with GPT-J 6B\n",
    "\n",
    "[GPT-J](https://huggingface.co/EleutherAI/gpt-j-6B) is a causal decoder-only transformer model which can be used for text-generation.\n",
    "Causal means that a causal mask is used in the decoder attention, so that each token has visibility on previous tokens only.\n",
    "\n",
    "Language models are very powerful because a huge variety of tasks can be formulated as a text-to-text problem and thus adapted to fit the generative setup, where the model is asked to correctly predict future tokens. This idea has been widely explored in [T5 paper: Exploring the Limits of Transfer Learning with a Unified\n",
    "Text-to-Text Transformer](https://arxiv.org/pdf/1910.10683.pdf).\n",
    "\n",
    "In 5 lines of code, we show how GPT-J can be run on the Graphcore IPU and used to complete arbitrary NLP tasks using examples and structured prompting.\n",
    "For more complex tasks we show the benefit of fine-tuning and load a checkpoint from the Hugging Face Hub which achieves much better performance on the specific task.\n",
    "\n",
    "While no finetuning is performed in this notebook, you can find out how to fine-tune the model for your own dataset in the [finetuning notebook](finetuning.ipynb)."
   ]
  },
  {
   "cell_type": "code",
   "execution_count": 1,
   "metadata": {},
   "outputs": [],
   "source": [
    "%load_ext autoreload\n",
    "%autoreload 2"
   ]
  },
  {
   "attachments": {},
   "cell_type": "markdown",
   "metadata": {},
   "source": [
    "## Environment setup\n",
    "\n",
    "In order to run this notebook you will need to be in an environment with the Poplar SDK and PopART installed and enabled.\n"
   ]
  },
  {
   "attachments": {},
   "cell_type": "markdown",
   "metadata": {},
   "source": [
    "To ensure smooth execution of the notebook, we load and check environment variables."
   ]
  },
  {
   "cell_type": "code",
   "execution_count": 2,
   "metadata": {},
   "outputs": [],
   "source": [
    "import os\n",
    "\n",
    "number_of_ipus = int(os.getenv(\"NUM_AVAILABLE_IPU\", 16))\n",
    "if number_of_ipus < 16:\n",
    "    raise ValueError(\"This notebook is designed to run with at least 16 IPUs\")\n",
    "\n",
    "executable_cache_dir = os.getenv(\"POPLAR_EXECUTABLE_CACHE_DIR\", \"./exe_cache/\")\n",
    "os.environ[\"POPART_CACHE_DIR\"] = executable_cache_dir\n",
    "checkpoint_directory = os.getenv(\"CHECKPOINT_DIR\")"
   ]
  },
  {
   "attachments": {},
   "cell_type": "markdown",
   "metadata": {},
   "source": [
    "## Running GPT-J on the IPU\n",
    "\n",
    "This notebook demonstrate an interactive interface to GPT-J which can be used to do text generation from arbitrary prompts.\n",
    "While this application implements GPT-J in Graphcore's PopXL framework, no knowledge of the framework is required to use or train this application as all parameters are controlled through configuration options.\n",
    "\n",
    " <!-- PopXL is a framework which provides fine grained control of execution, memory and parallelism.  -->\n",
    "Several model configurations are available in the `config/` folder. They can be loaded as follows:"
   ]
  },
  {
   "cell_type": "code",
   "execution_count": 3,
   "metadata": {},
   "outputs": [
    {
     "name": "stdout",
     "output_type": "stream",
     "text": [
      "2023-02-10 18:06:22 INFO: Starting. Process id: 3925170\n",
      "checkpoint:\n",
      "  load: null\n",
      "  optim_state: true\n",
      "  save: null\n",
      "  steps: 0\n",
      "  to_keep: 4\n",
      "execution:\n",
      "  attention_serialisation: 1\n",
      "  available_memory_proportion:\n",
      "  - 0.4\n",
      "  code_load: false\n",
      "  data_parallel: 1\n",
      "  device_iterations: 1\n",
      "  io_tiles: 1\n",
      "  loss_scaling: 1\n",
      "  micro_batch_size: 16\n",
      "  tensor_parallel: 16\n",
      "inference:\n",
      "  output_length: 5\n",
      "model:\n",
      "  attention:\n",
      "    heads: 16\n",
      "    rotary_dim: 64\n",
      "    rotary_positional_embeddings_base: 10000\n",
      "  dropout_prob: 0.0\n",
      "  embedding:\n",
      "    vocab_size: 50400\n",
      "  eval: true\n",
      "  hidden_size: 4096\n",
      "  layers: 28\n",
      "  precision: float16\n",
      "  seed: 42\n",
      "  sequence_length: 1024\n",
      "training:\n",
      "  global_batch_size: 32\n",
      "  optimizer:\n",
      "    beta1: 0.9\n",
      "    beta2: 0.999\n",
      "    gradient_clipping: 1.0\n",
      "    learning_rate:\n",
      "      maximum: 0.01\n",
      "      warmup_proportion: 0.0\n",
      "    name: adamw\n",
      "    weight_decay: 0.01\n",
      "  steps: 1\n",
      "  stochastic_rounding: true\n",
      "\n"
     ]
    }
   ],
   "source": [
    "# --- Setup ---\n",
    "import run_inference\n",
    "\n",
    "config, *_ = run_inference.gptj_config_setup(\"config/inference.yml\", \"release\", \"gpt-j-mnli\")\n",
    "print(config.dumps_yaml())"
   ]
  },
  {
   "attachments": {},
   "cell_type": "markdown",
   "metadata": {},
   "source": [
    "This configuration object can be edited and stored in a new file to suit your needs. It contains all the arguments which control the execution of the application on the IPU and might need to be tuned to ensure the best performance for the application you are looking to deploy.\n",
    "\n",
    "Next we're going to combine this IPU configuration with pre-trained weights. The `pipeline` utility accepts directly the name of a pre-trained checkpoint from the Hugging Face Hub.\n",
    "In this case we are loading the [6 billion parameter GPT-J checkpoint from EleutherAI](https://huggingface.co/EleutherAI/gpt-j-6B), this checkpoint is trained on [the Pile](https://pile.eleuther.ai/) open source dataset.\n",
    "\n",
    "This checkpoint is a general language modelling checkpoint and has not been fine-tuned on a specific task.\n",
    "\n",
    "We create a `IPUGPTJPipeline`, in this first step the weights are downloaded from the Hugging Face Hub and a PopXL session is created, this initial step takes a few minutes:"
   ]
  },
  {
   "cell_type": "code",
   "execution_count": 4,
   "metadata": {},
   "outputs": [
    {
     "name": "stdout",
     "output_type": "stream",
     "text": [
      "2023-02-10 18:06:22 INFO: Creating session\n",
      "2023-02-10 18:06:22 INFO: Starting PopXL IR construction\n",
      "2023-02-10 18:06:50 INFO: PopXL IR construction duration: 0.46 mins\n",
      "2023-02-10 18:06:50 INFO: Starting PopXL compilation\n",
      "2023-02-10 18:06:53 INFO: PopXL compilation duration: 0.05 mins\n",
      "2023-02-10 18:06:53 INFO: Downloading 'EleutherAI/gpt-j-6B' pretrained weights and tokenizer\n"
     ]
    },
    {
     "name": "stderr",
     "output_type": "stream",
     "text": [
      "2023-02-10T18:06:51.169728Z popart:popart 3925170.3925170 W: [Ir::setIsPrepared] setIsPrepared was already called. It should only be called once.\n",
      "WARNING: The compile time engine option debug.branchRecordTile is set to \"23551\" when creating the Engine. (At compile-tile it was set to 1471)\n"
     ]
    },
    {
     "data": {
      "application/vnd.jupyter.widget-view+json": {
       "model_id": "c71ffc9d0371440982ce9f6e34e37bdf",
       "version_major": 2,
       "version_minor": 0
      },
      "text/plain": [
       "Downloading:   0%|          | 0.00/930 [00:00<?, ?B/s]"
      ]
     },
     "metadata": {},
     "output_type": "display_data"
    },
    {
     "data": {
      "application/vnd.jupyter.widget-view+json": {
       "model_id": "816bee405f964333bc5cb9cebdf98616",
       "version_major": 2,
       "version_minor": 0
      },
      "text/plain": [
       "Downloading:   0%|          | 0.00/22.5G [00:00<?, ?B/s]"
      ]
     },
     "metadata": {},
     "output_type": "display_data"
    },
    {
     "data": {
      "application/vnd.jupyter.widget-view+json": {
       "model_id": "85dc6aa483e84411add91280b90c49e1",
       "version_major": 2,
       "version_minor": 0
      },
      "text/plain": [
       "Downloading:   0%|          | 0.00/619 [00:00<?, ?B/s]"
      ]
     },
     "metadata": {},
     "output_type": "display_data"
    },
    {
     "data": {
      "application/vnd.jupyter.widget-view+json": {
       "model_id": "a509b53b246e43d49260ac62225969f2",
       "version_major": 2,
       "version_minor": 0
      },
      "text/plain": [
       "Downloading:   0%|          | 0.00/779k [00:00<?, ?B/s]"
      ]
     },
     "metadata": {},
     "output_type": "display_data"
    },
    {
     "data": {
      "application/vnd.jupyter.widget-view+json": {
       "model_id": "6c9d84485e504692b7affd9b36a68d37",
       "version_major": 2,
       "version_minor": 0
      },
      "text/plain": [
       "Downloading:   0%|          | 0.00/446k [00:00<?, ?B/s]"
      ]
     },
     "metadata": {},
     "output_type": "display_data"
    },
    {
     "data": {
      "application/vnd.jupyter.widget-view+json": {
       "model_id": "656bb78f13164db7965b01ed1ecb5c0a",
       "version_major": 2,
       "version_minor": 0
      },
      "text/plain": [
       "Downloading:   0%|          | 0.00/1.31M [00:00<?, ?B/s]"
      ]
     },
     "metadata": {},
     "output_type": "display_data"
    },
    {
     "data": {
      "application/vnd.jupyter.widget-view+json": {
       "model_id": "20f2dc1fa374437a85a3381b661b99e8",
       "version_major": 2,
       "version_minor": 0
      },
      "text/plain": [
       "Downloading:   0%|          | 0.00/3.94k [00:00<?, ?B/s]"
      ]
     },
     "metadata": {},
     "output_type": "display_data"
    },
    {
     "data": {
      "application/vnd.jupyter.widget-view+json": {
       "model_id": "ef0f15d1ece94e7d8d63e992a665bfbf",
       "version_major": 2,
       "version_minor": 0
      },
      "text/plain": [
       "Downloading:   0%|          | 0.00/357 [00:00<?, ?B/s]"
      ]
     },
     "metadata": {},
     "output_type": "display_data"
    },
    {
     "name": "stdout",
     "output_type": "stream",
     "text": [
      "2023-02-10 18:19:54 INFO: Starting Loading HF pretrained model to IPU\n",
      "2023-02-10 18:21:16 INFO: Loading HF pretrained model to IPU duration: 1.36 mins\n"
     ]
    }
   ],
   "source": [
    "from utils import pipeline\n",
    "\n",
    "general_model = pipeline.IPUGPTJPipeline(\n",
    "    config,\n",
    "    \"EleutherAI/gpt-j-6B\",\n",
    "    sequence_length=1024,\n",
    "    print_live=True,\n",
    ")"
   ]
  },
  {
   "attachments": {},
   "cell_type": "markdown",
   "metadata": {},
   "source": [
    "Attributes of the `general_model` can be explored:\n",
    "\n",
    "- `model` contains the `GPTJForCausalLM` from the Transformers library which is used to load the weights,\n",
    "- `tokenizer` contains the tokenizer loaded with the pre-trained checkpoint from the Hugging Face Hub,\n",
    "- `config` has the input config,\n",
    "- `session` is the PopXL session which controls the IPU executions."
   ]
  },
  {
   "cell_type": "code",
   "execution_count": 5,
   "metadata": {},
   "outputs": [
    {
     "data": {
      "text/plain": [
       "PreTrainedTokenizerFast(name_or_path='EleutherAI/gpt-j-6B', vocab_size=50257, model_max_len=2048, is_fast=True, padding_side='right', truncation_side='right', special_tokens={'bos_token': AddedToken(\"<|endoftext|>\", rstrip=False, lstrip=False, single_word=False, normalized=True), 'eos_token': AddedToken(\"<|endoftext|>\", rstrip=False, lstrip=False, single_word=False, normalized=True), 'unk_token': AddedToken(\"<|endoftext|>\", rstrip=False, lstrip=False, single_word=False, normalized=True), 'pad_token': '<|extratoken_1|>'})"
      ]
     },
     "execution_count": 5,
     "metadata": {},
     "output_type": "execute_result"
    }
   ],
   "source": [
    "general_model.tokenizer"
   ]
  },
  {
   "attachments": {},
   "cell_type": "markdown",
   "metadata": {},
   "source": [
    "The pipeline class can be used to do standard text generation, here we ask it a simple questions:"
   ]
  },
  {
   "cell_type": "code",
   "execution_count": 7,
   "metadata": {},
   "outputs": [
    {
     "data": {
      "application/vnd.jupyter.widget-view+json": {
       "model_id": "aef528c45d76464e8eb6e1f1f7441869",
       "version_major": 2,
       "version_minor": 0
      },
      "text/plain": [
       "  0%|          | 0/1 [00:00<?, ?ba/s]"
      ]
     },
     "metadata": {},
     "output_type": "display_data"
    },
    {
     "name": "stdout",
     "output_type": "stream",
     "text": [
      "2023-02-10 18:26:31 INFO: Attach to IPUs\n",
      "2023-02-10 18:28:34 INFO: Start inference\n",
      "Prompt: 'What is the capital of France?'\n",
      "\n",
      "The capital of France is Paris.\n",
      "\n",
      "What is the capital of Germany?\n",
      "\n",
      "The capital of Germany is Berlin.\n",
      "\n",
      "What is the capital of Italy?\n",
      "\n",
      "The capital of Italy is Rome.\n",
      "\n",
      "What is the capital of Spain?\n",
      "\n",
      "The capital of Spain is Madrid.\n",
      "\n",
      "What is the capital of the United Kingdom?\n",
      "\n",
      "The capital of the United Kingdom is London.\n",
      "\n",
      "What is the capital of the United States?\n",
      "\n",
      "The capital of the United States is Washington, D.C.\n",
      "\n",
      "What is the capital of Canada?\n",
      "\n",
      "The capital of Canada is Ottawa"
     ]
    }
   ],
   "source": [
    "out = general_model(\"What is the capital of France?\")"
   ]
  },
  {
   "attachments": {},
   "cell_type": "markdown",
   "metadata": {},
   "source": [
    "## Using prompt structure for improved results\n",
    "\n",
    "While it does get the correct answer it includes it in a long form answer and continues generating similar questions and answers.\n",
    "To refine this format, we can provide in the prompt a structure to our answer."
   ]
  },
  {
   "cell_type": "code",
   "execution_count": 8,
   "metadata": {},
   "outputs": [
    {
     "data": {
      "application/vnd.jupyter.widget-view+json": {
       "model_id": "c0b37a446948486ab8f04205ef1dd5eb",
       "version_major": 2,
       "version_minor": 0
      },
      "text/plain": [
       "  0%|          | 0/1 [00:00<?, ?ba/s]"
      ]
     },
     "metadata": {},
     "output_type": "display_data"
    },
    {
     "name": "stdout",
     "output_type": "stream",
     "text": [
      "2023-02-10 18:29:10 INFO: Attach to IPUs\n",
      "2023-02-10 18:29:10 INFO: Start inference\n",
      "Prompt: 'Question: What is the capital of Country?\n",
      "Answer: City\n",
      "Question: What is the capital of France?\n",
      "Answer:' Paris\n",
      "Question: What is the capital of Germany?\n",
      "Answer: Berlin\n",
      "Question: What is the capital of Italy?\n",
      "Answer: Rome\n",
      "Question: What is the capital of Spain?\n",
      "Answer: Madrid\n",
      "Question: What is the capital of the United States?\n",
      "Answer: Washington\n",
      "Question: What is the capital of the United Kingdom?\n",
      "Answer: London\n",
      "Question: What is the capital of Australia?\n",
      "Answer: Canberra\n",
      "Question: What is the capital of New Zealand?\n",
      "Answer: Wellington\n",
      "Question: What is the capital of Canada?\n",
      "Answer: Ottawa\n",
      "Question: What is the capital of Japan?"
     ]
    },
    {
     "data": {
      "text/plain": [
       "[' Paris\\nQuestion: What is the capital of Germany?\\nAnswer: Berlin\\nQuestion: What is the capital of Italy?\\nAnswer: Rome\\nQuestion: What is the capital of Spain?\\nAnswer: Madrid\\nQuestion: What is the capital of the United States?\\nAnswer: Washington\\nQuestion: What is the capital of the United Kingdom?\\nAnswer: London\\nQuestion: What is the capital of Australia?\\nAnswer: Canberra\\nQuestion: What is the capital of New Zealand?\\nAnswer: Wellington\\nQuestion: What is the capital of Canada?\\nAnswer: Ottawa\\nQuestion: What is the capital of Japan?']"
      ]
     },
     "execution_count": 8,
     "metadata": {},
     "output_type": "execute_result"
    }
   ],
   "source": [
    "out = general_model(\n",
    "    \"\"\"Question: What is the capital of Country?\n",
    "Answer: City\n",
    "Question: What is the capital of France?\n",
    "Answer:\"\"\",\n",
    ")\n",
    "out"
   ]
  },
  {
   "attachments": {},
   "cell_type": "markdown",
   "metadata": {},
   "source": [
    "The format of the answer is more predictable: if we needed to extract the answer for a downstream task it would be much easier with this prompt.\n",
    "Now the model still continues to generate questions and answer after it has answered.\n",
    "\n",
    "The pipeline supports a callback which lets us specify a string on which it terminate. We are going to stop on the string `Question:`"
   ]
  },
  {
   "cell_type": "code",
   "execution_count": 9,
   "metadata": {},
   "outputs": [
    {
     "data": {
      "application/vnd.jupyter.widget-view+json": {
       "model_id": "9923f3346ecc4445890e529d6333d98b",
       "version_major": 2,
       "version_minor": 0
      },
      "text/plain": [
       "  0%|          | 0/1 [00:00<?, ?ba/s]"
      ]
     },
     "metadata": {},
     "output_type": "display_data"
    },
    {
     "name": "stdout",
     "output_type": "stream",
     "text": [
      "2023-02-10 18:29:47 INFO: Attach to IPUs\n",
      "2023-02-10 18:29:47 INFO: Start inference\n",
      "Prompt: 'Question: What is the capital of Country?\n",
      "Answer: city\n",
      "Question: What is the capital of France?\n",
      "Answer:' Paris\n",
      "Question<|endoftext|>"
     ]
    },
    {
     "data": {
      "text/plain": [
       "[' Paris\\nQuestion<|endoftext|>']"
      ]
     },
     "execution_count": 9,
     "metadata": {},
     "output_type": "execute_result"
    }
   ],
   "source": [
    "out = general_model(\n",
    "    f\"\"\"Question: What is the capital of Country?\n",
    "Answer: city\n",
    "Question: What is the capital of France?\n",
    "Answer:\"\"\",\n",
    "    terminate_on_string=\"Question:\",\n",
    ")\n",
    "out"
   ]
  },
  {
   "attachments": {},
   "cell_type": "markdown",
   "metadata": {},
   "source": [
    "Our output is now the correct answer with some standard strings that can easily be removed."
   ]
  },
  {
   "cell_type": "code",
   "execution_count": 10,
   "metadata": {},
   "outputs": [
    {
     "data": {
      "text/plain": [
       "['Paris']"
      ]
     },
     "execution_count": 10,
     "metadata": {},
     "output_type": "execute_result"
    }
   ],
   "source": [
    "capitals = [answer.splitlines()[0].strip() for answer in out]\n",
    "capitals"
   ]
  },
  {
   "attachments": {},
   "cell_type": "markdown",
   "metadata": {},
   "source": [
    "This model configuration supports batched generation, with a batch of 16 this model can generate answers to 16 questions at a time. Lets generate "
   ]
  },
  {
   "cell_type": "code",
   "execution_count": 11,
   "metadata": {},
   "outputs": [
    {
     "data": {
      "application/vnd.jupyter.widget-view+json": {
       "model_id": "526b00c5f2404fb3abca63c09f39accc",
       "version_major": 2,
       "version_minor": 0
      },
      "text/plain": [
       "  0%|          | 0/1 [00:00<?, ?ba/s]"
      ]
     },
     "metadata": {},
     "output_type": "display_data"
    },
    {
     "name": "stdout",
     "output_type": "stream",
     "text": [
      "2023-02-10 18:29:49 INFO: Attach to IPUs\n",
      "2023-02-10 18:29:49 INFO: Start inference\n",
      "Prompt: 'List countries in Europe, America, Asia and Africa: France, '\n",
      "Germany, \n",
      "Italy, \n",
      "Spain, \n",
      "United Kingdom, \n",
      "United States, \n",
      "Canada, \n",
      "Mexico, \n",
      "Argentina, \n",
      "Brazil, \n",
      "Chile, \n",
      "Colombia, \n",
      "Costa Rica, \n",
      "Ecuador, \n",
      "El Salvador, \n",
      "Guatemala, \n",
      "Honduras, \n",
      "Haiti, \n",
      "Jamaica, \n",
      "Mexico, \n",
      "Nicaragua, \n",
      "Panama, \n",
      "Paraguay, \n",
      "Peru, \n",
      "Puerto Rico, \n",
      "Uruguay"
     ]
    }
   ],
   "source": [
    "prompt_for_countries = \"List countries in Europe, America, Asia and Africa: France, \"\n",
    "out = general_model(prompt_for_countries, print_live=True)"
   ]
  },
  {
   "cell_type": "code",
   "execution_count": 12,
   "metadata": {},
   "outputs": [
    {
     "data": {
      "text/plain": [
       "['France',\n",
       " 'Germany',\n",
       " 'Italy',\n",
       " 'Spain',\n",
       " 'United Kingdom',\n",
       " 'United States',\n",
       " 'Canada',\n",
       " 'Mexico',\n",
       " 'Argentina',\n",
       " 'Brazil',\n",
       " 'Chile',\n",
       " 'Colombia',\n",
       " 'Costa Rica',\n",
       " 'Ecuador',\n",
       " 'El Salvador',\n",
       " 'Guatemala',\n",
       " 'Honduras',\n",
       " 'Haiti',\n",
       " 'Jamaica',\n",
       " 'Mexico',\n",
       " 'Nicaragua',\n",
       " 'Panama',\n",
       " 'Paraguay',\n",
       " 'Peru',\n",
       " 'Puerto Rico',\n",
       " 'Uruguay']"
      ]
     },
     "execution_count": 12,
     "metadata": {},
     "output_type": "execute_result"
    }
   ],
   "source": [
    "countries = [c.strip() for c in (prompt_for_countries + out[0]).split(\":\")[1].split(\",\")]\n",
    "countries"
   ]
  },
  {
   "attachments": {},
   "cell_type": "markdown",
   "metadata": {},
   "source": [
    "Using these generated countries, we compose a structured prompt for each and pass it off to the model:"
   ]
  },
  {
   "cell_type": "code",
   "execution_count": 13,
   "metadata": {},
   "outputs": [
    {
     "data": {
      "application/vnd.jupyter.widget-view+json": {
       "model_id": "1a7168b538544bb882e3d7309114dbc1",
       "version_major": 2,
       "version_minor": 0
      },
      "text/plain": [
       "  0%|          | 0/1 [00:00<?, ?ba/s]"
      ]
     },
     "metadata": {},
     "output_type": "display_data"
    },
    {
     "name": "stdout",
     "output_type": "stream",
     "text": [
      "2023-02-10 18:30:26 INFO: Attach to IPUs\n",
      "2023-02-10 18:30:26 INFO: Start inference\n"
     ]
    },
    {
     "data": {
      "text/plain": [
       "[('France', 'Paris'),\n",
       " ('Germany', 'Berlin'),\n",
       " ('Italy', 'Rome'),\n",
       " ('Spain', 'Madrid'),\n",
       " ('United Kingdom', 'London'),\n",
       " ('United States', 'Washington'),\n",
       " ('Canada', 'Ottawa'),\n",
       " ('Mexico', 'Mexico City'),\n",
       " ('Argentina', 'Buenos Aires'),\n",
       " ('Brazil', 'Brasilia'),\n",
       " ('Chile', 'Santiago'),\n",
       " ('Colombia', 'Bogota'),\n",
       " ('Costa Rica', 'San Jose'),\n",
       " ('Ecuador', 'Quito'),\n",
       " ('El Salvador', 'San Salvador'),\n",
       " ('Guatemala', 'Guatemala City'),\n",
       " ('Honduras', 'Tegucigalpa'),\n",
       " ('Haiti', 'Port-au-Prince'),\n",
       " ('Jamaica', 'Kingston'),\n",
       " ('Mexico', 'Mexico City'),\n",
       " ('Nicaragua', 'Managua'),\n",
       " ('Panama', 'Panama City'),\n",
       " ('Paraguay', 'Asunción'),\n",
       " ('Peru', 'Lima'),\n",
       " ('Puerto Rico', 'San Juan'),\n",
       " ('Uruguay', 'Montevideo')]"
      ]
     },
     "execution_count": 13,
     "metadata": {},
     "output_type": "execute_result"
    }
   ],
   "source": [
    "out = general_model(\n",
    "    [\n",
    "        f\"\"\"Question: What is the capital of China?\n",
    "Answer: Beijing\n",
    "Question: What is the capital of {country}?\n",
    "Answer:\"\"\"\n",
    "        for country in countries\n",
    "    ],\n",
    "    print_live=False,\n",
    "    terminate_on_string=\"Question:\",\n",
    ")\n",
    "capitals = [answer.splitlines()[0].strip() for answer in out]\n",
    "list(zip(countries, capitals))"
   ]
  },
  {
   "attachments": {},
   "cell_type": "markdown",
   "metadata": {},
   "source": [
    "## Determining entailment\n",
    "\n",
    "One common language task is to determine if statements agree, disagree or a neutral relative to each other.\n",
    "This task is commonly referred to as determining entailment and there are datasets like the [MNLI task of the GLUE dataset](https://huggingface.co/datasets/glue).\n",
    "\n",
    "The Mnli dataset consists of pairs of sentences, a *premise* and a *hypothesis*.\n",
    "The task is to predict the relation between the premise and the hypothesis, which can be:\n",
    "- `entailment`: hypothesis follows from the premise,\n",
    "- `contradiction`: hypothesis contradicts the premise,\n",
    "- `neutral`: hypothesis and premise are unrelated.\n",
    "\n",
    "We can use our generative model to tackle this task by creating prompts which have the following format:\n"
   ]
  },
  {
   "cell_type": "code",
   "execution_count": 14,
   "metadata": {},
   "outputs": [
    {
     "data": {
      "text/plain": [
       "'hypothesis: The person is leaving. premise: Hello, welcome to the country. target: '"
      ]
     },
     "execution_count": 14,
     "metadata": {},
     "output_type": "execute_result"
    }
   ],
   "source": [
    "def entailment_prompt(hypothesis, premise, target=\"\"):\n",
    "    sep = \".\\n\" if target else \"\"\n",
    "    return f\"hypothesis: {hypothesis} premise: {premise} target: {target}{sep}\"\n",
    "\n",
    "\n",
    "entailment_prompt(\"The person is leaving.\", \"Hello, welcome to the country.\")"
   ]
  },
  {
   "attachments": {},
   "cell_type": "markdown",
   "metadata": {},
   "source": [
    "We are attempting to get the model to correctly recognise that the statements:\n",
    "\n",
    " \"The person is leaving.\" and \"Hello, welcome.\" disagree with each other.\n",
    "\n",
    "This task is more complicated than the previous one so we provide more instructions and two examples to get the model to perform the task:"
   ]
  },
  {
   "cell_type": "code",
   "execution_count": 20,
   "metadata": {},
   "outputs": [
    {
     "data": {
      "application/vnd.jupyter.widget-view+json": {
       "model_id": "c80d139a62a84b3eb333b4d01668c981",
       "version_major": 2,
       "version_minor": 0
      },
      "text/plain": [
       "  0%|          | 0/1 [00:00<?, ?ba/s]"
      ]
     },
     "metadata": {},
     "output_type": "display_data"
    },
    {
     "name": "stdout",
     "output_type": "stream",
     "text": [
      "2023-02-10 18:32:26 INFO: Attach to IPUs\n",
      "2023-02-10 18:33:25 INFO: Start inference\n",
      "Prompt: 'Tell me if the statements agree, disagree, neutral.\n",
      "Example - hypothesis: Goodbye. premise: Hey there. target: disagree.\n",
      "Example - hypothesis: Hello. premise: Hey there. target: agree.\n",
      "hypothesis: The person is leaving. premise: Hello, welcome. target: ' neutral.\n",
      "\n",
      "A:\n",
      "\n",
      "I would say that the first two are neutral, the third is a disagreement, and the fourth is a disagreement.\n",
      "The first two are neutral because they are"
     ]
    },
    {
     "data": {
      "text/plain": [
       "[' neutral.\\n\\nA:\\n\\nI would say that the first two are neutral, the third is a disagreement, and the fourth is a disagreement.\\nThe first two are neutral because they are']"
      ]
     },
     "execution_count": 20,
     "metadata": {},
     "output_type": "execute_result"
    }
   ],
   "source": [
    "entailment_instructions = (\n",
    "    \"Tell me if the statements agree, disagree, neutral.\\n\"\n",
    "    + \"Example - \"\n",
    "    + entailment_prompt(\"Goodbye.\", \"Hey there.\", \"disagree\")\n",
    "    + \"Example - \"\n",
    "    + entailment_prompt(\"Hello.\", \"Hey there.\", \"agree\")\n",
    ")\n",
    "general_model(\n",
    "    entailment_instructions + entailment_prompt(\"The person is leaving.\", \"Hello, welcome.\"),\n",
    "    print_live=True,\n",
    "    output_length=40,\n",
    ")"
   ]
  },
  {
   "attachments": {},
   "cell_type": "markdown",
   "metadata": {},
   "source": [
    "While the model does pick one of the 3 options, it does not select the right one. If we let the answer continue running we see that the response feels relevant to the task but is quite imprecise.\n",
    "\n",
    "To do more thorough testing we can load the MNLI task from the GLUE dataset using the 🤗 Datasets library."
   ]
  },
  {
   "cell_type": "code",
   "execution_count": 69,
   "metadata": {},
   "outputs": [
    {
     "name": "stdout",
     "output_type": "stream",
     "text": [
      "2023-02-10 19:33:10 WARNING: Reusing dataset glue (/home/alexandrep/.cache/huggingface/datasets/glue/mnli/1.0.0/dacbe3125aa31d7f70367a07a8a9e72a5a0bfeb5fc42e75c9db75b96da6053ad)\n"
     ]
    },
    {
     "data": {
      "text/plain": [
       "{'premise': 'Your contribution helped make it possible for us to provide our students with a quality education.',\n",
       " 'hypothesis': \"Your contributions were of no help with our students' education.\",\n",
       " 'label': 2,\n",
       " 'idx': 0}"
      ]
     },
     "execution_count": 69,
     "metadata": {},
     "output_type": "execute_result"
    }
   ],
   "source": [
    "import datasets\n",
    "from data import mnli_data\n",
    "\n",
    "dataset = datasets.load_dataset(\"glue\", \"mnli\", split=\"validation_mismatched\")\n",
    "\n",
    "dataset[0]"
   ]
  },
  {
   "cell_type": "code",
   "execution_count": 17,
   "metadata": {},
   "outputs": [
    {
     "data": {
      "application/vnd.jupyter.widget-view+json": {
       "model_id": "7f38efc7acdb42e7a160ccef258da803",
       "version_major": 2,
       "version_minor": 0
      },
      "text/plain": [
       "  0%|          | 0/1 [00:00<?, ?ba/s]"
      ]
     },
     "metadata": {},
     "output_type": "display_data"
    },
    {
     "name": "stdout",
     "output_type": "stream",
     "text": [
      "2023-02-10 18:31:16 INFO: Attach to IPUs\n",
      "2023-02-10 18:31:16 INFO: Start inference\n",
      "Prompt: 'Tell me if the statements agree, disagree, neutral.\n",
      "Example - hypothesis: Goodbye. premise: Hey there. target: disagree.\n",
      "Example - hypothesis: Hello. premise: Hey there. target: agree.\n",
      "hypothesis: Everyone really likes the newest benefits  premise: The new rights are nice enough target: ' neutral.\n",
      "\n",
      "A:\n",
      "\n",
      "I would"
     ]
    },
    {
     "data": {
      "text/plain": [
       "[('neutral', 'neutral.'),\n",
       " ('contradiction', ''),\n",
       " ('entailment', 'neutral'),\n",
       " ('contradiction', 'agree'),\n",
       " ('contradiction', ''),\n",
       " ('contradiction', ''),\n",
       " ('contradiction', 'neutral'),\n",
       " ('neutral', ''),\n",
       " ('contradiction', ''),\n",
       " ('neutral', 'neutral.'),\n",
       " ('contradiction', 'neutral.'),\n",
       " ('contradiction', 'neutral.'),\n",
       " ('contradiction', ''),\n",
       " ('entailment', 'neutral.'),\n",
       " ('neutral', ''),\n",
       " ('entailment', 'neutral')]"
      ]
     },
     "execution_count": 17,
     "metadata": {},
     "output_type": "execute_result"
    }
   ],
   "source": [
    "out = general_model(\n",
    "    [\n",
    "        entailment_instructions + entailment_prompt(hypothesis, premise)\n",
    "        for hypothesis, premise in zip(dataset[:16][\"hypothesis\"], dataset[:16][\"premise\"])\n",
    "    ],\n",
    "    print_live=True,\n",
    "    output_length=10,\n",
    ")\n",
    "# Strip out everything in the output after new lines\n",
    "mnli_id_2_class = [\"entailment\", \"neutral\", \"contradiction\"]\n",
    "[(mnli_id_2_class[label], answer.splitlines()[0].strip()) for label, answer in zip(dataset[:16][\"label\"], out)]"
   ]
  },
  {
   "attachments": {},
   "cell_type": "markdown",
   "metadata": {},
   "source": [
    "As we can see our prompts are not sufficient to use that model to complete this task."
   ]
  },
  {
   "cell_type": "code",
   "execution_count": 22,
   "metadata": {},
   "outputs": [],
   "source": [
    "general_model.detach()"
   ]
  },
  {
   "attachments": {},
   "cell_type": "markdown",
   "metadata": {},
   "source": [
    "## Using a fine-tuned model\n",
    "\n",
    "In order to complete the entailment task we are going to use a fine-tuned model on the MNLI task of the GLUE dataset.\n",
    "\n",
    "The checkpoint we will be using was fine-tuned on the Graphcore IPU and is hosted on the 🤗 hub at [Graphcore/gptj-mnli](https://huggingface.co/Graphcore/gptj-mnli). As we did before we can load it in with a single command:"
   ]
  },
  {
   "cell_type": "code",
   "execution_count": 74,
   "metadata": {},
   "outputs": [
    {
     "name": "stdout",
     "output_type": "stream",
     "text": [
      "2023-02-10 19:48:48 INFO: Creating session\n",
      "2023-02-10 19:48:48 INFO: Starting PopXL IR construction\n",
      "2023-02-10 19:49:12 INFO: PopXL IR construction duration: 0.39 mins\n",
      "2023-02-10 19:49:12 INFO: Starting PopXL compilation\n",
      "2023-02-10 19:53:26 INFO: PopXL compilation duration: 4.24 mins\n",
      "2023-02-10 19:53:26 INFO: Downloading 'Graphcore/gptj-mnli' pretrained weights and tokenizer\n"
     ]
    },
    {
     "name": "stderr",
     "output_type": "stream",
     "text": [
      "WARNING: The compile time engine option debug.branchRecordTile is set to \"23551\" when creating the Engine. (At compile-tile it was set to 1471)\n"
     ]
    },
    {
     "name": "stdout",
     "output_type": "stream",
     "text": [
      "2023-02-10 19:54:22 INFO: Starting Loading HF pretrained model to IPU\n",
      "2023-02-10 19:55:54 INFO: Loading HF pretrained model to IPU duration: 1.52 mins\n"
     ]
    }
   ],
   "source": [
    "mnli_model = pipeline.IPUGPTJPipeline(\n",
    "    config,\n",
    "    \"Graphcore/gptj-mnli\",\n",
    "    sequence_length=512,\n",
    "    print_live=True,\n",
    ")"
   ]
  },
  {
   "attachments": {},
   "cell_type": "markdown",
   "metadata": {},
   "source": [
    "Just like the previous checkpoint, the model can handle arbitrary text generation questions:"
   ]
  },
  {
   "cell_type": "code",
   "execution_count": 75,
   "metadata": {},
   "outputs": [
    {
     "data": {
      "application/vnd.jupyter.widget-view+json": {
       "model_id": "c5e5d3932d8f4e719478d2b28aebb4a7",
       "version_major": 2,
       "version_minor": 0
      },
      "text/plain": [
       "  0%|          | 0/1 [00:00<?, ?ba/s]"
      ]
     },
     "metadata": {},
     "output_type": "display_data"
    },
    {
     "name": "stdout",
     "output_type": "stream",
     "text": [
      "2023-02-10 19:55:54 INFO: Attach to IPUs\n",
      "2023-02-10 19:57:57 INFO: Start inference\n",
      "Prompt: 'Hey there', I'm a new member to the forum and I'm looking for some advice. I'm a college student and I'm looking to buy a new car. I'm not sure what kind of car I want to buy, but I'm leaning towards a Honda Accord. I'm looking for a car that's reliable, but I also want something that's fun to drive. I'm not sure if I want a V6 or a V8, but I'm leaning towards the V6. I'm also looking for a car that's fairly inexpensive. I'm not sure what kind of car I want to buy, but I'm leaning"
     ]
    },
    {
     "data": {
      "text/plain": [
       "[\", I'm a new member to the forum and I'm looking for some advice. I'm a college student and I'm looking to buy a new car. I'm not sure what kind of car I want to buy, but I'm leaning towards a Honda Accord. I'm looking for a car that's reliable, but I also want something that's fun to drive. I'm not sure if I want a V6 or a V8, but I'm leaning towards the V6. I'm also looking for a car that's fairly inexpensive. I'm not sure what kind of car I want to buy, but I'm leaning\"]"
      ]
     },
     "execution_count": 75,
     "metadata": {},
     "output_type": "execute_result"
    }
   ],
   "source": [
    "mnli_model(\"Hey there\")"
   ]
  },
  {
   "attachments": {},
   "cell_type": "markdown",
   "metadata": {},
   "source": [
    "However on the entailment task the performance should be much better, even without instructions:"
   ]
  },
  {
   "cell_type": "code",
   "execution_count": 76,
   "metadata": {},
   "outputs": [
    {
     "data": {
      "application/vnd.jupyter.widget-view+json": {
       "model_id": "2c756355180f48c0af94bc8e18d711f6",
       "version_major": 2,
       "version_minor": 0
      },
      "text/plain": [
       "  0%|          | 0/1 [00:00<?, ?ba/s]"
      ]
     },
     "metadata": {},
     "output_type": "display_data"
    },
    {
     "name": "stdout",
     "output_type": "stream",
     "text": [
      "2023-02-10 19:58:50 INFO: Attach to IPUs\n",
      "2023-02-10 19:58:50 INFO: Start inference\n",
      "Prompt: 'hypothesis: The person is leaving. premise: Hello, welcome. target: ' contradiction<|endoftext|>"
     ]
    },
    {
     "data": {
      "text/plain": [
       "[' contradiction<|endoftext|>']"
      ]
     },
     "execution_count": 76,
     "metadata": {},
     "output_type": "execute_result"
    }
   ],
   "source": [
    "mnli_model(entailment_prompt(\"The person is leaving.\", \"Hello, welcome.\"))"
   ]
  },
  {
   "attachments": {},
   "cell_type": "markdown",
   "metadata": {},
   "source": [
    "It got it right! Those sentences are contradictory. Now let's try our samples from the GLUE dataset:"
   ]
  },
  {
   "cell_type": "code",
   "execution_count": 77,
   "metadata": {},
   "outputs": [
    {
     "data": {
      "application/vnd.jupyter.widget-view+json": {
       "model_id": "58af25e9f58b4243b525c40d075c25ab",
       "version_major": 2,
       "version_minor": 0
      },
      "text/plain": [
       "  0%|          | 0/1 [00:00<?, ?ba/s]"
      ]
     },
     "metadata": {},
     "output_type": "display_data"
    },
    {
     "name": "stdout",
     "output_type": "stream",
     "text": [
      "2023-02-10 19:58:51 INFO: Attach to IPUs\n",
      "2023-02-10 19:58:51 INFO: Start inference\n",
      "Prompt: 'hypothesis: Your contributions were of no help with our students' education. premise: Your contribution helped make it possible for us to provide our students with a quality education. target: ' contradiction<|endoftext|><|endoftext|>"
     ]
    },
    {
     "data": {
      "text/plain": [
       "[('contradiction', 'contradiction'),\n",
       " ('contradiction', 'neutral'),\n",
       " ('entailment', 'entailment'),\n",
       " ('contradiction', 'neutral'),\n",
       " ('entailment', 'entailment'),\n",
       " ('entailment', 'neutral'),\n",
       " ('contradiction', 'contradiction'),\n",
       " ('contradiction', 'contradiction'),\n",
       " ('neutral', 'entailment'),\n",
       " ('contradiction', 'neutral'),\n",
       " ('neutral', 'neutral'),\n",
       " ('contradiction', 'neutral'),\n",
       " ('contradiction', 'neutral'),\n",
       " ('contradiction', 'contradiction'),\n",
       " ('contradiction', 'contradiction'),\n",
       " ('neutral', 'neutral')]"
      ]
     },
     "execution_count": 77,
     "metadata": {},
     "output_type": "execute_result"
    }
   ],
   "source": [
    "out = mnli_model(\n",
    "    [\n",
    "        entailment_prompt(hypothesis, premise)\n",
    "        for hypothesis, premise in zip(dataset[:16][\"hypothesis\"], dataset[:16][\"premise\"])\n",
    "    ],\n",
    "    print_live=True,\n",
    "    output_length=10,\n",
    ")\n",
    "# Strip out everything in the output after new lines\n",
    "mnli_id_2_class = [\"entailment\", \"neutral\", \"contradiction\"]\n",
    "[\n",
    "    (mnli_id_2_class[label], answer.splitlines()[0].strip().replace(\"<|endoftext|>\", \"\"))\n",
    "    for label, answer in zip(dataset[:16][\"label\"], out)\n",
    "]"
   ]
  },
  {
   "attachments": {},
   "cell_type": "markdown",
   "metadata": {},
   "source": [
    "It gets almost all of them right, it clearly has some knowledge of the task we need it to complete.\n",
    "\n",
    "To take that one step further we can create a pipeline specific to this task which handles the prompt pre-processing and the post-processing of the generated text.\n",
    "\n",
    "In that way the generative model appears as a much simpler classifier. To avoid having to create a new IPU session with the same model, we can use the `from_gptj_pipeline` factory method, this gives us a ready to use pipeline for MNLI:"
   ]
  },
  {
   "cell_type": "code",
   "execution_count": 78,
   "metadata": {},
   "outputs": [
    {
     "data": {
      "application/vnd.jupyter.widget-view+json": {
       "model_id": "90f2e64258244590a405dabb2ac16b86",
       "version_major": 2,
       "version_minor": 0
      },
      "text/plain": [
       "  0%|          | 0/1 [00:00<?, ?ex/s]"
      ]
     },
     "metadata": {},
     "output_type": "display_data"
    },
    {
     "name": "stdout",
     "output_type": "stream",
     "text": [
      "1\n"
     ]
    },
    {
     "data": {
      "application/vnd.jupyter.widget-view+json": {
       "model_id": "d6a998ae5d4547acbea03ab82be532ac",
       "version_major": 2,
       "version_minor": 0
      },
      "text/plain": [
       "  0%|          | 0/1 [00:00<?, ?ba/s]"
      ]
     },
     "metadata": {},
     "output_type": "display_data"
    },
    {
     "name": "stdout",
     "output_type": "stream",
     "text": [
      "2023-02-10 19:58:52 INFO: Attach to IPUs\n",
      "2023-02-10 19:58:52 INFO: Start inference\n",
      "Prompt: 'mnli hypothesis: Goodbye. premise: Hey there. target:' contradiction<|endoftext|>"
     ]
    },
    {
     "data": {
      "text/plain": [
       "['contradiction']"
      ]
     },
     "execution_count": 78,
     "metadata": {},
     "output_type": "execute_result"
    }
   ],
   "source": [
    "mnli_pipeline = pipeline.GPTJEntailmentPipeline.from_gptj_pipeline(mnli_model)\n",
    "mnli_pipeline(\"Hey there.\", \"Goodbye.\")"
   ]
  },
  {
   "cell_type": "code",
   "execution_count": 79,
   "metadata": {},
   "outputs": [
    {
     "data": {
      "application/vnd.jupyter.widget-view+json": {
       "model_id": "cd2fb938a5214b5b94f619d6263691fe",
       "version_major": 2,
       "version_minor": 0
      },
      "text/plain": [
       "  0%|          | 0/200 [00:00<?, ?ex/s]"
      ]
     },
     "metadata": {},
     "output_type": "display_data"
    },
    {
     "name": "stdout",
     "output_type": "stream",
     "text": [
      "200\n"
     ]
    },
    {
     "data": {
      "application/vnd.jupyter.widget-view+json": {
       "model_id": "4532bf91bbe6412ba4092610b2577716",
       "version_major": 2,
       "version_minor": 0
      },
      "text/plain": [
       "  0%|          | 0/1 [00:00<?, ?ba/s]"
      ]
     },
     "metadata": {},
     "output_type": "display_data"
    },
    {
     "name": "stdout",
     "output_type": "stream",
     "text": [
      "2023-02-10 19:58:53 INFO: Attach to IPUs\n",
      "2023-02-10 19:58:53 INFO: Start inference\n",
      "Prompt: 'mnli hypothesis: Your contribution helped make it possible for us to provide our students with a quality education. premise: Your contributions were of no help with our students' education. target:' contradiction<|endoftext|> neutral<|endoftext|> contradiction<|endoftext|> contradiction<|endoftext|> neutral<|endoftext|> entailment<|endoftext|> neutral<|endoftext|> neutral<|endoftext|> entailment<|endoftext|> neutral<|endoftext|> neutral<|endoftext|> entailment<|endoftext|> neutral<|endoftext|><|endoftext|>"
     ]
    },
    {
     "data": {
      "text/html": [
       "<div>\n",
       "<style scoped>\n",
       "    .dataframe tbody tr th:only-of-type {\n",
       "        vertical-align: middle;\n",
       "    }\n",
       "\n",
       "    .dataframe tbody tr th {\n",
       "        vertical-align: top;\n",
       "    }\n",
       "\n",
       "    .dataframe thead th {\n",
       "        text-align: right;\n",
       "    }\n",
       "</style>\n",
       "<table border=\"1\" class=\"dataframe\">\n",
       "  <thead>\n",
       "    <tr style=\"text-align: right;\">\n",
       "      <th></th>\n",
       "      <th>correct</th>\n",
       "      <th>label</th>\n",
       "      <th>prediction</th>\n",
       "    </tr>\n",
       "  </thead>\n",
       "  <tbody>\n",
       "    <tr>\n",
       "      <th>0</th>\n",
       "      <td>True</td>\n",
       "      <td>contradiction</td>\n",
       "      <td>contradiction</td>\n",
       "    </tr>\n",
       "    <tr>\n",
       "      <th>1</th>\n",
       "      <td>True</td>\n",
       "      <td>contradiction</td>\n",
       "      <td>contradiction</td>\n",
       "    </tr>\n",
       "    <tr>\n",
       "      <th>2</th>\n",
       "      <td>False</td>\n",
       "      <td>entailment</td>\n",
       "      <td>neutral</td>\n",
       "    </tr>\n",
       "    <tr>\n",
       "      <th>3</th>\n",
       "      <td>False</td>\n",
       "      <td>contradiction</td>\n",
       "      <td>neutral</td>\n",
       "    </tr>\n",
       "    <tr>\n",
       "      <th>4</th>\n",
       "      <td>True</td>\n",
       "      <td>entailment</td>\n",
       "      <td>entailment</td>\n",
       "    </tr>\n",
       "    <tr>\n",
       "      <th>5</th>\n",
       "      <td>True</td>\n",
       "      <td>entailment</td>\n",
       "      <td>entailment</td>\n",
       "    </tr>\n",
       "    <tr>\n",
       "      <th>6</th>\n",
       "      <td>True</td>\n",
       "      <td>contradiction</td>\n",
       "      <td>contradiction</td>\n",
       "    </tr>\n",
       "    <tr>\n",
       "      <th>7</th>\n",
       "      <td>False</td>\n",
       "      <td>contradiction</td>\n",
       "      <td>neutral</td>\n",
       "    </tr>\n",
       "    <tr>\n",
       "      <th>8</th>\n",
       "      <td>True</td>\n",
       "      <td>neutral</td>\n",
       "      <td>neutral</td>\n",
       "    </tr>\n",
       "    <tr>\n",
       "      <th>9</th>\n",
       "      <td>False</td>\n",
       "      <td>contradiction</td>\n",
       "      <td>neutral</td>\n",
       "    </tr>\n",
       "    <tr>\n",
       "      <th>10</th>\n",
       "      <td>True</td>\n",
       "      <td>neutral</td>\n",
       "      <td>neutral</td>\n",
       "    </tr>\n",
       "    <tr>\n",
       "      <th>11</th>\n",
       "      <td>False</td>\n",
       "      <td>contradiction</td>\n",
       "      <td>neutral</td>\n",
       "    </tr>\n",
       "    <tr>\n",
       "      <th>12</th>\n",
       "      <td>False</td>\n",
       "      <td>contradiction</td>\n",
       "      <td>neutral</td>\n",
       "    </tr>\n",
       "    <tr>\n",
       "      <th>13</th>\n",
       "      <td>True</td>\n",
       "      <td>contradiction</td>\n",
       "      <td>contradiction</td>\n",
       "    </tr>\n",
       "    <tr>\n",
       "      <th>14</th>\n",
       "      <td>False</td>\n",
       "      <td>contradiction</td>\n",
       "      <td>neutral</td>\n",
       "    </tr>\n",
       "    <tr>\n",
       "      <th>15</th>\n",
       "      <td>True</td>\n",
       "      <td>neutral</td>\n",
       "      <td>neutral</td>\n",
       "    </tr>\n",
       "  </tbody>\n",
       "</table>\n",
       "</div>"
      ],
      "text/plain": [
       "    correct          label     prediction\n",
       "0      True  contradiction  contradiction\n",
       "1      True  contradiction  contradiction\n",
       "2     False     entailment        neutral\n",
       "3     False  contradiction        neutral\n",
       "4      True     entailment     entailment\n",
       "5      True     entailment     entailment\n",
       "6      True  contradiction  contradiction\n",
       "7     False  contradiction        neutral\n",
       "8      True        neutral        neutral\n",
       "9     False  contradiction        neutral\n",
       "10     True        neutral        neutral\n",
       "11    False  contradiction        neutral\n",
       "12    False  contradiction        neutral\n",
       "13     True  contradiction  contradiction\n",
       "14    False  contradiction        neutral\n",
       "15     True        neutral        neutral"
      ]
     },
     "execution_count": 79,
     "metadata": {},
     "output_type": "execute_result"
    }
   ],
   "source": [
    "sample_size = 200\n",
    "out = mnli_pipeline(dataset[:sample_size][\"hypothesis\"], dataset[:sample_size][\"premise\"])\n",
    "\n",
    "import pandas as pd\n",
    "\n",
    "results = pd.DataFrame(\n",
    "    [\n",
    "        (mnli_id_2_class[label] == answer, mnli_id_2_class[label], answer)\n",
    "        for label, answer in zip(dataset[:sample_size][\"label\"], out)\n",
    "    ],\n",
    "    columns=[\"correct\", \"label\", \"prediction\"],\n",
    ")\n",
    "results.head(16)"
   ]
  },
  {
   "cell_type": "code",
   "execution_count": 80,
   "metadata": {},
   "outputs": [
    {
     "name": "stdout",
     "output_type": "stream",
     "text": [
      "Got 113/200 correct\n"
     ]
    }
   ],
   "source": [
    "print(f\"Got {results['correct'].sum()}/{len(results)} correct\")"
   ]
  },
  {
   "attachments": {},
   "cell_type": "markdown",
   "metadata": {},
   "source": [
    "Unlike the previous prompts we hand crafted in this notebook, the entailment pipeline uses the same prompt processing that was used during training of the MNLI model.\n",
    "By using the same prompt format now, as during training we maximise the performance and throughput of the model by limiting the size of the prompt to it's strict minimum.\n"
   ]
  },
  {
   "cell_type": "code",
   "execution_count": 72,
   "metadata": {},
   "outputs": [],
   "source": [
    "mnli_pipeline.detach()"
   ]
  },
  {
   "attachments": {},
   "cell_type": "markdown",
   "metadata": {},
   "source": [
    "## Conclusion\n",
    "\n"
   ]
  }
 ],
 "metadata": {
  "kernelspec": {
   "display_name": "3.1.0+1205_poptorch",
   "language": "python",
   "name": "python3"
  },
  "language_info": {
   "codemirror_mode": {
    "name": "ipython",
    "version": 3
   },
   "file_extension": ".py",
   "mimetype": "text/x-python",
   "name": "python",
   "nbconvert_exporter": "python",
   "pygments_lexer": "ipython3",
   "version": "3.8.10"
  },
  "orig_nbformat": 4,
  "vscode": {
   "interpreter": {
    "hash": "b98909bafd6dd6f1e7abe058b85e35058ed7070911f248b1c4db6b998dcd08ee"
   }
  }
 },
 "nbformat": 4,
 "nbformat_minor": 2
}
