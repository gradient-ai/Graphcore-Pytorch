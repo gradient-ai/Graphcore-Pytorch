{
 "cells": [
  {
   "cell_type": "code",
   "execution_count": null,
   "source": [
    "#GPT2-Medium 4 IPUs\n",
    "from text_generate_gpt2 import main_gpt2\n",
    "import argparse\n",
    "args=argparse.Namespace(\n",
    "    batch_size=1,\n",
    "    device_iterations=1,\n",
    "    fp16=True,\n",
    "    input_len=64,\n",
    "    layers_per_ipu=[1, 7, 8, 8],\n",
    "    matmul_proportion=[0.2, 0.2, 0.2, 0.2],\n",
    "    model_name_or_path='gpt2-medium',\n",
    "    output_len=256,\n",
    "    poptorch_loop=False,\n",
    "    prompt=None,\n",
    "    repetition_penalty=2.0,\n",
    "    save_samples_path=None,\n",
    "    single_ipu=False,\n",
    "    stop_token='<|endoftext|>',\n",
    "    temperature=1.2,\n",
    "    tokenizer_type=0,\n",
    "    topk=4)\n",
    "main_gpt2(args)"
   ],
   "outputs": [],
   "metadata": {}
  },
  {
   "cell_type": "code",
   "execution_count": null,
   "source": [
    "#GPT2-Small 1 IPU\n",
    "from text_generate_gpt2 import main_gpt2\n",
    "import argparse\n",
    "args=argparse.Namespace(batch_size=1,\n",
    "                        device_iterations=1,\n",
    "                        fp16=True,\n",
    "                        input_len=64,\n",
    "                        layers_per_ipu=3,\n",
    "                        matmul_proportion=None,\n",
    "                        model_name_or_path='gpt2',\n",
    "                        output_len=256,\n",
    "                        poptorch_loop=True,\n",
    "                        prompt=None,\n",
    "                        repetition_penalty=2.0,\n",
    "                        save_samples_path=None,\n",
    "                        single_ipu=True,\n",
    "                        stop_token='<|endoftext|>',\n",
    "                        temperature=1.2,\n",
    "                        tokenizer_type=0,\n",
    "                        topk=4)\n",
    "main_gpt2(args)"
   ],
   "outputs": [],
   "metadata": {}
  }
 ],
 "metadata": {
  "kernelspec": {
   "display_name": "Python 3",
   "language": "python",
   "name": "python3"
  },
  "language_info": {
   "codemirror_mode": {
    "name": "ipython",
    "version": 3
   },
   "file_extension": ".py",
   "mimetype": "text/x-python",
   "name": "python",
   "nbconvert_exporter": "python",
   "pygments_lexer": "ipython3",
   "version": "3.6.9"
  }
 },
 "nbformat": 4,
 "nbformat_minor": 5
}