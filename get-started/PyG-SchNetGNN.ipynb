{
 "cells": [
  {
   "cell_type": "markdown",
   "metadata": {},
   "source": [
    "SchNet on IPU\n",
    "=============\n",
    "> *Note: PyTorch Geometric support with PopTorch SDK 2.6 is currently experimental.*\n",
    "> *Please direct any questions or feedback to support@graphcore.ai*\n",
    "\n",
    "\n",
    "This notebook demonstrates training a [SchNet graph neural network](https://arxiv.org/abs/1712.06113) with PyTorch Geometric on the Graphcore IPU.  We will use the QM9 dataset from the [MoleculeNet: A Benchmark for Molecular\n",
    "    Machine Learning](https://arxiv.org/abs/1703.00564) paper and train the SchNet model to predict the HOMO-LUMO energy gap.\n",
    "\n",
    "This notebook assumes some familiarity with PopTorch as well as PyTorch Geometric (PyG).  For additional resources please consult:\n",
    "\n",
    "* [PopTorch Documentation](https://docs.graphcore.ai/projects/poptorch-user-guide/en/latest/index.html)\n",
    "* [PopTorch Examples and Tutorials](https://docs.graphcore.ai/en/latest/examples.html#pytorch)\n",
    "* [PyTorch Geometric](https://pytorch-geometric.readthedocs.io/en/latest/)\n",
    "\n",
    "Requirements:\n",
    "\n",
    "* A Poplar SDK environment enabled (see the Getting Started guide for your IPU system\n",
    "* Python packages installed with `pip install -r requirements.txt`\n"
   ]
  },
  {
   "cell_type": "code",
   "execution_count": null,
   "metadata": {},
   "outputs": [],
   "source": [
    "%pip install -r requirements.txt"
   ]
  },
  {
   "cell_type": "code",
   "execution_count": 1,
   "metadata": {},
   "outputs": [],
   "source": [
    "%matplotlib inline\n",
    "\n",
    "import torch\n",
    "import poptorch\n",
    "import torch.nn.functional as F\n",
    "import matplotlib.pyplot as plt\n",
    "import py3Dmol\n",
    "\n",
    "from periodictable import elements\n",
    "from torch_geometric.datasets import QM9\n",
    "from torch_geometric.data import Batch, Data\n",
    "from torch_geometric.loader import DataLoader\n",
    "from torch_geometric.transforms import RadiusGraph, Distance, Compose, BaseTransform\n",
    "from tqdm import tqdm"
   ]
  },
  {
   "cell_type": "markdown",
   "metadata": {},
   "source": [
    "### QM9 Dataset\n",
    "\n",
    "PyG provides a convenient dataset class that manages downloading the QM9 dataset to local storage. The QM9 dataset contains 130831 molecules with a number of different physical properties that we can train the SchNet model to predict.  For SchNet, a molecule with $n$ atoms is described by:\n",
    "\n",
    "* Nuclear charges $Z= (Z_1, Z_2, ..., Z_n)$, stored as a vector of integers of length `num_atoms`\n",
    "* Atomic positions $\\mathbf{r} = (\\mathbf{r}_1, \\mathbf{r}_2, \\ldots, \\mathbf{r}_n)$, stored as a tensor of real numbers of size `[num_atoms, 3]`\n",
    "\n",
    "We consider each molecule as an undirected graph where:\n",
    "* the atoms are the nodes or vertices of the graph.\n",
    "* the edges are inferred from the atomic positions by connecting atoms that are within a given cutoff radius to each other."
   ]
  },
  {
   "cell_type": "code",
   "execution_count": 2,
   "metadata": {},
   "outputs": [],
   "source": [
    "root = \"./data\"\n",
    "dataset = QM9(root)"
   ]
  },
  {
   "cell_type": "markdown",
   "metadata": {},
   "source": [
    "We can call `len` to see how many molecules are in the dataset"
   ]
  },
  {
   "cell_type": "code",
   "execution_count": 3,
   "metadata": {},
   "outputs": [
    {
     "data": {
      "text/plain": [
       "130831"
      ]
     },
     "execution_count": 3,
     "metadata": {},
     "output_type": "execute_result"
    }
   ],
   "source": [
    "len(dataset)"
   ]
  },
  {
   "cell_type": "markdown",
   "metadata": {},
   "source": [
    "We can inspect each molecule which is represented as an instance of a [torch_geometric.data.Data](https://pytorch-geometric.readthedocs.io/en/latest/modules/data.html#torch_geometric.data.Data) object.  The properties we are interested in for training our SchNet model are:\n",
    "* `z` contains the atomic number for each atom in the molecule.\n",
    "* `pos` contains the 3d structure of the molecule.\n",
    "* `y` contains the 19 regression targets.  The HOMO-LUMO gap is stored in the 4th column so can be accessed by slicing this tensor using `y[:,4]`\n",
    "\n",
    "Next we display the first example molecule from the QM9 dataset as a `Data` object, the atomic number tensor, the positions tensor, and slice the regression targets to get the HOMO-LUMO gap for this example."
   ]
  },
  {
   "cell_type": "code",
   "execution_count": 4,
   "metadata": {},
   "outputs": [
    {
     "data": {
      "text/plain": [
       "(Data(x=[5, 11], edge_index=[2, 8], edge_attr=[8, 4], y=[1, 19], pos=[5, 3], idx=[1], name='gdb_1', z=[5]),\n",
       " tensor([6, 1, 1, 1, 1]),\n",
       " tensor([[-1.2700e-02,  1.0858e+00,  8.0000e-03],\n",
       "         [ 2.2000e-03, -6.0000e-03,  2.0000e-03],\n",
       "         [ 1.0117e+00,  1.4638e+00,  3.0000e-04],\n",
       "         [-5.4080e-01,  1.4475e+00, -8.7660e-01],\n",
       "         [-5.2380e-01,  1.4379e+00,  9.0640e-01]]),\n",
       " tensor([13.7363]))"
      ]
     },
     "execution_count": 4,
     "metadata": {},
     "output_type": "execute_result"
    }
   ],
   "source": [
    "datum = dataset[0]\n",
    "datum, datum.z, datum.pos, datum.y[:, 4]"
   ]
  },
  {
   "cell_type": "markdown",
   "metadata": {},
   "source": [
    "We can use the [py3Dmol](https://github.com/3dmol/3Dmol.js/tree/master/py3Dmol) package to visualise the molecule to get a better idea of the structure.  To do this we need to provide the simple `xyz` format to the `py3Dmol.view` function."
   ]
  },
  {
   "cell_type": "code",
   "execution_count": 5,
   "metadata": {},
   "outputs": [
    {
     "data": {
      "application/3dmoljs_load.v0": "<div id=\"3dmolviewer_16584329730897875\"  style=\"position: relative; width: 640px; height: 480px\">\n        <p id=\"3dmolwarning_16584329730897875\" style=\"background-color:#ffcccc;color:black\">You appear to be running in JupyterLab (or JavaScript failed to load for some other reason).  You need to install the 3dmol extension: <br>\n        <tt>jupyter labextension install jupyterlab_3dmol</tt></p>\n        </div>\n<script>\n\nvar loadScriptAsync = function(uri){\n  return new Promise((resolve, reject) => {\n    var tag = document.createElement('script');\n    tag.src = uri;\n    tag.async = true;\n    tag.onload = () => {\n      resolve();\n    };\n  var firstScriptTag = document.getElementsByTagName('script')[0];\n  firstScriptTag.parentNode.insertBefore(tag, firstScriptTag);\n});\n};\n\nif(typeof $3Dmolpromise === 'undefined') {\n$3Dmolpromise = null;\n  $3Dmolpromise = loadScriptAsync('https://3dmol.org/build/3Dmol.js');\n}\n\nvar viewer_16584329730897875 = null;\nvar warn = document.getElementById(\"3dmolwarning_16584329730897875\");\nif(warn) {\n    warn.parentNode.removeChild(warn);\n}\n$3Dmolpromise.then(function() {\nviewer_16584329730897875 = $3Dmol.createViewer($(\"#3dmolviewer_16584329730897875\"),{backgroundColor:\"white\"});\nviewer_16584329730897875.addModel(\"5\\n\\nC\\t-0.01270000\\t 1.08580005\\t 0.00800000\\nH\\t 0.00220000\\t-0.00600000\\t 0.00200000\\nH\\t 1.01170003\\t 1.46379995\\t 0.00030000\\nH\\t-0.54079998\\t 1.44749999\\t-0.87660003\\nH\\t-0.52380002\\t 1.43789995\\t 0.90640002\\n\");\nviewer_16584329730897875.setStyle({\"stick\": {}});\nviewer_16584329730897875.zoomTo();\nviewer_16584329730897875.render();\n});\n</script>",
      "text/html": [
       "<div id=\"3dmolviewer_16584329730897875\"  style=\"position: relative; width: 640px; height: 480px\">\n",
       "        <p id=\"3dmolwarning_16584329730897875\" style=\"background-color:#ffcccc;color:black\">You appear to be running in JupyterLab (or JavaScript failed to load for some other reason).  You need to install the 3dmol extension: <br>\n",
       "        <tt>jupyter labextension install jupyterlab_3dmol</tt></p>\n",
       "        </div>\n",
       "<script>\n",
       "\n",
       "var loadScriptAsync = function(uri){\n",
       "  return new Promise((resolve, reject) => {\n",
       "    var tag = document.createElement('script');\n",
       "    tag.src = uri;\n",
       "    tag.async = true;\n",
       "    tag.onload = () => {\n",
       "      resolve();\n",
       "    };\n",
       "  var firstScriptTag = document.getElementsByTagName('script')[0];\n",
       "  firstScriptTag.parentNode.insertBefore(tag, firstScriptTag);\n",
       "});\n",
       "};\n",
       "\n",
       "if(typeof $3Dmolpromise === 'undefined') {\n",
       "$3Dmolpromise = null;\n",
       "  $3Dmolpromise = loadScriptAsync('https://3dmol.org/build/3Dmol.js');\n",
       "}\n",
       "\n",
       "var viewer_16584329730897875 = null;\n",
       "var warn = document.getElementById(\"3dmolwarning_16584329730897875\");\n",
       "if(warn) {\n",
       "    warn.parentNode.removeChild(warn);\n",
       "}\n",
       "$3Dmolpromise.then(function() {\n",
       "viewer_16584329730897875 = $3Dmol.createViewer($(\"#3dmolviewer_16584329730897875\"),{backgroundColor:\"white\"});\n",
       "viewer_16584329730897875.addModel(\"5\\n\\nC\\t-0.01270000\\t 1.08580005\\t 0.00800000\\nH\\t 0.00220000\\t-0.00600000\\t 0.00200000\\nH\\t 1.01170003\\t 1.46379995\\t 0.00030000\\nH\\t-0.54079998\\t 1.44749999\\t-0.87660003\\nH\\t-0.52380002\\t 1.43789995\\t 0.90640002\\n\");\n",
       "viewer_16584329730897875.setStyle({\"stick\": {}});\n",
       "viewer_16584329730897875.zoomTo();\n",
       "viewer_16584329730897875.render();\n",
       "});\n",
       "</script>"
      ]
     },
     "metadata": {},
     "output_type": "display_data"
    },
    {
     "data": {
      "text/plain": [
       "<py3Dmol.view at 0x7fa74a35d7f0>"
      ]
     },
     "execution_count": 5,
     "metadata": {},
     "output_type": "execute_result"
    }
   ],
   "source": [
    "num_atoms = int(datum.z.numel())\n",
    "xyz = f\"{num_atoms}\\n\\n\"\n",
    "\n",
    "for i in range(num_atoms):\n",
    "    sym = elements[datum.z[i].item()].symbol\n",
    "    r = datum.pos[i, :].tolist()\n",
    "    line = [sym] + [f\"{i: 0.08f}\" for i in r]\n",
    "    line = \"\\t\".join(line)\n",
    "    xyz += f\"{line}\\n\"\n",
    "\n",
    "py3Dmol.view(data=xyz, style={'stick': {}})\n"
   ]
  },
  {
   "cell_type": "markdown",
   "metadata": {},
   "source": [
    "We can collect some statistics by iterating over the entire dataset and investigate the distribution of the number of atoms in each molecule and the HOMO-LUMO gap energy"
   ]
  },
  {
   "cell_type": "code",
   "execution_count": 6,
   "metadata": {},
   "outputs": [],
   "source": [
    "num_mols = len(dataset)\n",
    "num_atoms = torch.zeros(num_mols)\n",
    "gap = torch.zeros(num_mols)\n",
    "\n",
    "for i, mol in enumerate(dataset):\n",
    "    num_atoms[i] = mol.z.numel()\n",
    "    gap[i] = mol.y[:, 4]\n"
   ]
  },
  {
   "cell_type": "markdown",
   "metadata": {},
   "source": [
    "The following histogram shows how the number of atoms varies across the QM9 dataset."
   ]
  },
  {
   "cell_type": "code",
   "execution_count": 7,
   "metadata": {},
   "outputs": [
    {
     "data": {
      "image/png": "[encoded data removed]",
      "text/plain": [
       "<Figure size 432x288 with 1 Axes>"
      ]
     },
     "metadata": {
      "needs_background": "light"
     },
     "output_type": "display_data"
    }
   ],
   "source": [
    "min_num_atoms = int(num_atoms.min())\n",
    "max_num_atoms = int(num_atoms.max())\n",
    "mean_num_atoms = float(num_atoms.mean())\n",
    "std_num_atoms = float(num_atoms.std())\n",
    "\n",
    "plt.hist(num_atoms.numpy(), 20)\n",
    "plt.xlabel(\"Number of Atoms\")\n",
    "plt.ylabel(\"Counts\")\n",
    "plt.title(\"Histogram of molecule size in QM9 dataset\")\n",
    "plt.text(\n",
    "    6, 15000,\n",
    "    f'min: {min_num_atoms}, max: {max_num_atoms}\\nmean: {mean_num_atoms:.1f}, std: {std_num_atoms:.1f}'\n",
    ")\n",
    "plt.show()"
   ]
  },
  {
   "cell_type": "markdown",
   "metadata": {},
   "source": [
    "The following histogram shows how the HOMO-LUMO gap varies across the QM9 dataset."
   ]
  },
  {
   "cell_type": "code",
   "execution_count": 8,
   "metadata": {},
   "outputs": [
    {
     "data": {
      "image/png": "[encoded data removed]",
      "text/plain": [
       "<Figure size 432x288 with 1 Axes>"
      ]
     },
     "metadata": {
      "needs_background": "light"
     },
     "output_type": "display_data"
    }
   ],
   "source": [
    "mean = float(gap.mean())\n",
    "std = float(gap.var())\n",
    "\n",
    "plt.hist(gap.numpy(), 30)\n",
    "plt.xlabel(\"HOMO-LUMO Gap (eV)\")\n",
    "plt.ylabel(\"Counts\")\n",
    "plt.title(\"Histogram of HOMO-LUMO gap in QM9 dataset\")\n",
    "plt.text(10, 15000, f'mean: {mean:.2f}, std: {std:.2f}')\n",
    "plt.show()"
   ]
  },
  {
   "cell_type": "markdown",
   "metadata": {},
   "source": [
    "## Data Loading and Batching\n",
    "\n",
    "PyG provides a specialized version of the native PyTorch [torch.utils.data.DataLoader](https://pytorch.org/docs/stable/data.html):\n",
    "\n",
    "* [torch_geometric.data.DataLoader](https://pytorch-geometric.readthedocs.io/en/latest/modules/data.html#torch_geometric.data.DataLoader)\n",
    "\n",
    "\n",
    "The PyG dataloader supports a form of mini-batching which is [decribed here](https://pytorch-geometric.readthedocs.io/en/latest/notes/batching.html).  Effectively each mini-batch is a concatenation of multiple graphs (molecules in QM9).  Another way to understand this is that each mini-batch is one large graph comprised of multiple disconnected sub-graphs.  The PyG dataloader will generate a `batch` vector that assigns each feature in the mini-batch into a distinct subgraph.  This is useful for message passing networks (such as SchNet) and pooling layers to produce a distinct regression prediction for each molecule. Refer to the following tutorials for additional background:\n",
    "\n",
    "* [Creating message passing networks](https://pytorch-geometric.readthedocs.io/en/latest/notes/create_gnn.html)\n",
    "* [Global Pooling Layers](https://pytorch-geometric.readthedocs.io/en/latest/modules/nn.html?highlight=pooling#global-pooling-layers)\n",
    "\n",
    "This mini-batching approach needs to be adapted for the IPU since the tensor sizes will vary from batch to batch.  This can be observed in the following cell where tensors such as `batch`, `z`, and `pos` all have different sizes between the first two batches of the QM9 dataset. "
   ]
  },
  {
   "cell_type": "code",
   "execution_count": 9,
   "metadata": {},
   "outputs": [
    {
     "data": {
      "text/plain": [
       "(DataBatch(x=[16, 11], edge_index=[2, 24], edge_attr=[24, 4], y=[4, 19], pos=[16, 3], idx=[4], name=[4], z=[16], batch=[16], ptr=[5]),\n",
       " DataBatch(x=[21, 11], edge_index=[2, 34], edge_attr=[34, 4], y=[4, 19], pos=[21, 3], idx=[4], name=[4], z=[21], batch=[21], ptr=[5]))"
      ]
     },
     "execution_count": 9,
     "metadata": {},
     "output_type": "execute_result"
    }
   ],
   "source": [
    "loader = DataLoader(dataset, batch_size=4)\n",
    "\n",
    "it = iter(loader)\n",
    "next(it), next(it)"
   ]
  },
  {
   "cell_type": "markdown",
   "metadata": {},
   "source": [
    "### SchNet Model Architecture\n",
    "\n",
    "![SchNet Architecture](./static_resources/schnet_arch.png \"SchNet Architecture\")\n",
    "\n",
    "The diagram above demonstrates the overall architecture of the SchNet model.  The main inputs to the model are:\n",
    "* $(Z_1, Z_2, \\ldots, Z_n)$ : A vector of atomic numbers which are used as input to the atom-wise embedding layer.\n",
    "* $(\\mathbf{r}_1, \\mathbf{r}_2, \\ldots, \\mathbf{r}_n)$: A `[n, 3]` tensor of atomic positions.\n",
    "\n",
    "The graph is defined by considering each atom as a node and the edges are defined by:\n",
    "* placing a sphere of radius $r_\\textrm{cut}$ centered on each atom.\n",
    "* connecting neighbouring atoms that fall within the cutoff sphere with an undirected edge.\n",
    "\n",
    "The rationale for using this cutoff sphere is to bound the maximum number of atoms that are connected to each other so that the computational cost grows linearly with the number of atoms in the system.\n",
    "\n",
    "In practice we can use the `radius_graph` [transform](https://pytorch-geometric.readthedocs.io/en/latest/modules/transforms.html#torch_geometric.transforms.RadiusGraph) from PyTorch Geometric to calculate the edges from the input `pos` tensor.  All this said, for the QM9 dataset we select a large enough $r_\\textrm{cut}$ to result in a fully-connected graph since all of the molecules are relatively small.  \n",
    "\n"
   ]
  },
  {
   "cell_type": "markdown",
   "metadata": {},
   "source": [
    "### IPU implementation of SchNet\n",
    "\n",
    "The following implementation is adapted from the PyTorch Geometric implementation of\n",
    "SchNet. The main differences are: \n",
    "\n",
    "* the interaction graph must be pre-computed as part of the dataset pre-processing.\n",
    "* all inputs of the forward method are padded to meet the static tensor shape requirements of the IPU.\n",
    "* dataset standardization is not handled by the model. Instead this is expected to be handled in the dataset pre-processing when necessary.\n",
    "\n",
    "Padding atoms are defined as having atomic charge of zero and are \n",
    "non-interacting. Padding edges are defined as having a length equal to the\n",
    "cutoff to ensure they are excluded from the radial basis expansion."
   ]
  },
  {
   "cell_type": "code",
   "execution_count": 10,
   "metadata": {},
   "outputs": [],
   "source": [
    "import torch.nn as nn\n",
    "import torch.nn.functional as F\n",
    "from torch.nn.init import xavier_uniform_, zeros_\n",
    "\n",
    "from torch_geometric.nn.models.schnet import GaussianSmearing, \\\n",
    "    InteractionBlock, ShiftedSoftplus\n",
    "from torch_scatter.scatter import scatter_add\n",
    "from poptorch import identity_loss\n",
    "\n",
    "\n",
    "class SchNet(nn.Module):\n",
    "    def __init__(self,\n",
    "                 num_features=128,\n",
    "                 num_interactions=2,\n",
    "                 num_gaussians=50,\n",
    "                 cutoff=6.0,\n",
    "                 batch_size=None):\n",
    "        \"\"\"\n",
    "        :param num_features (int): The number of hidden features used by both\n",
    "            the atomic embedding and the convolutional filters (default: 128).\n",
    "        :param num_interactions (int): The number of interaction blocks\n",
    "            (default: 2).\n",
    "        :param num_gaussians (int): The number of gaussians used in the radial\n",
    "            basis expansion (default: 50).\n",
    "        :param cutoff (float): Cutoff distance for interatomic interactions\n",
    "            which must match the one used to build the radius graphs\n",
    "            (default: 6.0).\n",
    "        :param batch_size (int, optional): The number of molecules in the batch.\n",
    "            This can be inferred from the batch input when not supplied.\n",
    "        \"\"\"\n",
    "        super().__init__()\n",
    "        self.num_features = num_features\n",
    "        self.num_interactions = num_interactions\n",
    "        self.num_gaussians = num_gaussians\n",
    "        self.cutoff = cutoff\n",
    "        self.batch_size = batch_size\n",
    "\n",
    "        self.atom_embedding = nn.Embedding(100,\n",
    "                                           self.num_features,\n",
    "                                           padding_idx=0)\n",
    "        self.basis_expansion = GaussianSmearing(0.0, self.cutoff,\n",
    "                                                self.num_gaussians)\n",
    "\n",
    "        self.interactions = nn.ModuleList()\n",
    "\n",
    "        for _ in range(self.num_interactions):\n",
    "            block = InteractionBlock(self.num_features, self.num_gaussians,\n",
    "                                     self.num_features, self.cutoff)\n",
    "            self.interactions.append(block)\n",
    "\n",
    "        self.lin1 = nn.Linear(self.num_features, self.num_features // 2)\n",
    "        self.act = ShiftedSoftplus()\n",
    "        self.lin2 = nn.Linear(self.num_features // 2, 1)\n",
    "\n",
    "        self.reset_parameters()\n",
    "\n",
    "    def reset_parameters(self):\n",
    "        \"\"\"\n",
    "        Initialize learnable parameters used in training the SchNet model.\n",
    "        \"\"\"\n",
    "        self.atom_embedding.reset_parameters()\n",
    "\n",
    "        for interaction in self.interactions:\n",
    "            interaction.reset_parameters()\n",
    "\n",
    "        xavier_uniform_(self.lin1.weight)\n",
    "        zeros_(self.lin1.bias)\n",
    "        xavier_uniform_(self.lin2.weight)\n",
    "        zeros_(self.lin2.bias)\n",
    "\n",
    "    def forward(self, z, edge_weight, edge_index, batch, target=None):\n",
    "        \"\"\"\n",
    "        Forward pass of the SchNet model\n",
    "\n",
    "        :param z: Tensor containing the atomic numbers for each atom in the \n",
    "            batch. Vector of integers with size [num_atoms].\n",
    "        :param edge_weight: Tensor containing the interatomic distances for each\n",
    "            interacting pair of atoms in the batch. Vector with size [num_edges]\n",
    "        :param edge_index: Tensor containing the indices defining the \n",
    "            interacting pairs of atoms in the batch. Matrix of integers with \n",
    "            size [2, num_edges]\n",
    "        :param batch: Tensor assigning each atom within a batch to a molecule.\n",
    "            This is used to perform per-molecule aggregation to calculate the\n",
    "            predicted energy. Vector of integers with size [num_atoms]\n",
    "        :param target (optional): Tensor containing the target to\n",
    "            use for evaluating the mean-squared-error loss when training.\n",
    "        \"\"\"\n",
    "        # Collapse any leading batching dimensions\n",
    "        z = z.view(-1)\n",
    "        edge_weight = edge_weight.view(-1)\n",
    "        edge_index = edge_index.view(2, -1)\n",
    "\n",
    "        h = self.atom_embedding(z)\n",
    "        edge_attr = self.basis_expansion(edge_weight)\n",
    "\n",
    "        for interaction in self.interactions:\n",
    "            h = h + interaction(h, edge_index, edge_weight, edge_attr)\n",
    "\n",
    "        h = self.lin1(h)\n",
    "        h = self.act(h)\n",
    "        h = self.lin2(h)\n",
    "\n",
    "        # zero out\n",
    "        mask = (z == 0).view(-1, 1)\n",
    "        h = h.masked_fill(mask.expand_as(h), 0.)\n",
    "\n",
    "        batch = batch.view(-1)\n",
    "        out = scatter_add(h, batch, dim=0, dim_size=self.batch_size).view(-1)\n",
    "\n",
    "        if not self.training:\n",
    "            return out\n",
    "\n",
    "        target = target.view(-1)\n",
    "        loss = self.loss(out, target)\n",
    "        return out, loss\n",
    "\n",
    "    @staticmethod\n",
    "    def loss(input, target):\n",
    "        \"\"\"\n",
    "        Calculates the mean squared error\n",
    "\n",
    "        This loss assumes that zeros are used as padding on the target so that\n",
    "        the count can be derived from the number of non-zero elements.\n",
    "        \"\"\"\n",
    "        loss = F.mse_loss(input, target, reduction=\"sum\")\n",
    "        N = (target != 0.0).to(loss.dtype).sum()\n",
    "        loss = loss / N\n",
    "        return identity_loss(loss, reduction=\"none\")\n"
   ]
  },
  {
   "cell_type": "markdown",
   "metadata": {},
   "source": [
    "As a basic sanity check we can compile the SchNet model with PopTorch and check that we get the same prediction as running the model on the host CPU.\n",
    "\n",
    "Prepare a mock batch consisting of a single graph. The transforms generate the implicit edges between all pairs of atoms in the molecule."
   ]
  },
  {
   "cell_type": "code",
   "execution_count": 11,
   "metadata": {},
   "outputs": [
    {
     "data": {
      "text/plain": [
       "DataBatch(x=[5, 11], edge_index=[2, 20], y=[1, 19], pos=[5, 3], idx=[1], name=[1], z=[5], edge_attr=[20, 1], batch=[5], ptr=[2])"
      ]
     },
     "execution_count": 11,
     "metadata": {},
     "output_type": "execute_result"
    }
   ],
   "source": [
    "cutoff = 6.0\n",
    "transforms = Compose([RadiusGraph(r=cutoff), Distance(norm=False, cat=False)])\n",
    "data = transforms(dataset[0])\n",
    "batch = Batch.from_data_list([data])\n",
    "batch"
   ]
  },
  {
   "cell_type": "markdown",
   "metadata": {},
   "source": [
    "Evaluate the network on the host with randomly initialised weights using a fixed random seed"
   ]
  },
  {
   "cell_type": "code",
   "execution_count": 12,
   "metadata": {},
   "outputs": [
    {
     "data": {
      "text/plain": [
       "tensor([2.7464], grad_fn=<ViewBackward0>)"
      ]
     },
     "execution_count": 12,
     "metadata": {},
     "output_type": "execute_result"
    }
   ],
   "source": [
    "torch.manual_seed(0)\n",
    "model = SchNet(cutoff=cutoff)\n",
    "model.eval()\n",
    "cpu = model(batch.z, batch.edge_attr, batch.edge_index, batch.batch,\n",
    "            batch.y[:, 4])\n",
    "cpu"
   ]
  },
  {
   "cell_type": "markdown",
   "metadata": {},
   "source": [
    "Now evaluate the network on the IPU"
   ]
  },
  {
   "cell_type": "code",
   "execution_count": 13,
   "metadata": {},
   "outputs": [
    {
     "name": "stderr",
     "output_type": "stream",
     "text": [
      "Graph compilation:   0%|          | 0/100 [00:00<?]2022-07-21T19:49:51.483220Z popart:devicex 75439.75439 W: The `debug.retainDebugInformation` engine option was implicitly set to `true`. The default will change to `false` in a future release. Set it to `true` explicitly if you want to query debug information (for example, by calling `Session::getReport`).\n",
      "2022-07-21T19:49:51.634930Z popart:devicex 75439.75439 W: The `debug.retainDebugInformation` engine option was implicitly set to `true`. The default will change to `false` in a future release. Set it to `true` explicitly if you want to query debug information (for example, by calling `Session::getReport`).\n",
      "Graph compilation: 100%|██████████| 100/100 [00:07<00:00]\n"
     ]
    },
    {
     "data": {
      "text/plain": [
       "tensor([2.7464])"
      ]
     },
     "execution_count": 13,
     "metadata": {},
     "output_type": "execute_result"
    }
   ],
   "source": [
    "pop_model = poptorch.inferenceModel(model)\n",
    "ipu = pop_model(batch.z, batch.edge_attr, batch.edge_index, batch.batch,\n",
    "                batch.y[:, 4])\n",
    "ipu\n"
   ]
  },
  {
   "cell_type": "markdown",
   "metadata": {},
   "source": [
    "The predictions must be the same"
   ]
  },
  {
   "cell_type": "code",
   "execution_count": 14,
   "metadata": {},
   "outputs": [
    {
     "data": {
      "text/plain": [
       "True"
      ]
     },
     "execution_count": 14,
     "metadata": {},
     "output_type": "execute_result"
    }
   ],
   "source": [
    "torch.allclose(cpu, ipu)"
   ]
  },
  {
   "cell_type": "markdown",
   "metadata": {},
   "source": [
    "### Padding\n",
    "The easiest way to get up and running on the IPU with the QM9 dataset is just to apply padding to the input tensors. This results in every example in the dataset being expanded up to the size of the largest molecule.  This expansion comes at the cost of additional padding nodes and edges.\n",
    "\n",
    "Next we define the `PadMolecule` [transform](https://pytorch-geometric.readthedocs.io/en/latest/modules/transforms.html) which modifies each `Data` instance in the dataset to have `max_num_atoms` nodes `max_num_atoms * (max_num_atoms - 1)` edges."
   ]
  },
  {
   "cell_type": "code",
   "execution_count": 15,
   "metadata": {},
   "outputs": [],
   "source": [
    "class PadMolecule(BaseTransform):\n",
    "    \"\"\"\n",
    "    Data transform that applies padding to enforce consistent tensor shapes.\n",
    "\n",
    "    Padding atoms are defined as have atomic charge of zero. Padding edges are\n",
    "    defined as having a length equal to the cutoff used in the Schnet network.\n",
    "    \"\"\"\n",
    "    def __init__(self, max_num_atoms: int, cutoff: float):\n",
    "        \"\"\"\n",
    "        :param max_num_atoms (int): The maximum number of atoms to pad\n",
    "            the atom numbers up to.\n",
    "        :param cutoff (float): The cutoff in Angstroms used in the SchNet model.\n",
    "        \"\"\"\n",
    "        super().__init__()\n",
    "        self.max_num_atoms = max_num_atoms\n",
    "        self.cutoff = cutoff\n",
    "\n",
    "        # Assume fully connected graph between all atoms\n",
    "        self.max_num_edges = max_num_atoms * (max_num_atoms - 1)\n",
    "\n",
    "    def validate(self, data):\n",
    "        \"\"\"\n",
    "        Validates that the input molecule does not exceed the constraints that:\n",
    "\n",
    "          * the number of atoms must be <= max_num_atoms\n",
    "          * the number of edges must be <= max_num_edges\n",
    "\n",
    "        :returns: Tuple containing the number atoms and the number of edges\n",
    "        \"\"\"\n",
    "        num_atoms = data.z.numel()\n",
    "        num_edges = data.edge_index.shape[1]\n",
    "\n",
    "        assert num_atoms <= self.max_num_atoms, \\\n",
    "            f\"Too many atoms. Molecule has {num_atoms} atoms \"\\\n",
    "            f\"and max_num_atoms is {self.max_num_atoms}.\"\n",
    "\n",
    "        assert num_edges <= self.max_num_edges, \\\n",
    "            f\"Too many edges. Molecule has {num_edges} edges defined \"\\\n",
    "            f\"and max_num_edges is {self.max_num_edges}.\"\n",
    "\n",
    "        return num_atoms, num_edges\n",
    "\n",
    "    def __call__(self, data):\n",
    "        num_atoms, num_edges = self.validate(data)\n",
    "\n",
    "        num_fake_atoms = self.max_num_atoms - num_atoms\n",
    "        data.z = F.pad(data.z, (0, num_fake_atoms))\n",
    "        data.num_nodes = self.max_num_atoms\n",
    "\n",
    "        # Fake edges are self-loops on the first atom.\n",
    "        num_fake_edges = self.max_num_edges - num_edges\n",
    "        data.edge_index = F.pad(data.edge_index, (0, num_fake_edges, 0, 0),\n",
    "                                value=0)\n",
    "        data.edge_attr = F.pad(data.edge_attr.squeeze(1), (0, num_fake_edges),\n",
    "                               value=self.cutoff)\n",
    "        return data\n"
   ]
  },
  {
   "cell_type": "markdown",
   "metadata": {},
   "source": [
    "Next we define another data transform for extracting a selected regression target from the QM9 dataset and extracting only the relevant input features for training SchNet."
   ]
  },
  {
   "cell_type": "code",
   "execution_count": 16,
   "metadata": {},
   "outputs": [],
   "source": [
    "class PrepareData(BaseTransform):\n",
    "    \"\"\"\n",
    "    Data transform for preparing each data instance by:\n",
    "        * extracting a given target label from the PyG QM9 dataset\n",
    "        * slicing the data objet to only contain the provided properties.\n",
    "\n",
    "    The QM9 dataset consists of a total of 19 regression targets. This transform\n",
    "    indexes the regression targets stored in data.y to only include the selected\n",
    "    target.\n",
    "\n",
    "    Expected input:\n",
    "        data.y is a vector with shape [1, 19]\n",
    "\n",
    "    Transformed output:\n",
    "        data.y is as scalar with shape torch.Size([])\n",
    "    \"\"\"\n",
    "    def __init__(self, target, keys):\n",
    "        self.target = target\n",
    "        self.keys = keys\n",
    "\n",
    "    def validate(self, data):\n",
    "        assert hasattr(data, \"y\") \\\n",
    "          and isinstance(data.y, torch.Tensor) \\\n",
    "          and data.y.shape == (1, 19),\\\n",
    "          \"Invalid data input. Expected data.y == Tensor with shape [1, 19]\"\n",
    "\n",
    "    def __call__(self, data):\n",
    "        self.validate(data)\n",
    "        data.y = data.y[0, self.target]\n",
    "\n",
    "        values = [getattr(data, k) for k in self.keys]\n",
    "        kwargs = dict([*zip(self.keys, values)])\n",
    "        return Data(**kwargs)"
   ]
  },
  {
   "cell_type": "markdown",
   "metadata": {},
   "source": [
    "We now add a helper function that creates the full data pre-processing pipeline"
   ]
  },
  {
   "cell_type": "code",
   "execution_count": 17,
   "metadata": {},
   "outputs": [],
   "source": [
    "def create_transform(cutoff: float, max_num_atoms):\n",
    "    \"\"\"\n",
    "    Creates a sequence of transforms defining a data pre-processing pipeline\n",
    "\n",
    "    :param cutoff (float): Cutoff distance for interatomic interactions in\n",
    "        Angstroms (default: 6.0).\n",
    "    :param max_num_atoms (int): The maximum number of atoms used by the\n",
    "        PadMolecule transform (default: 32).\n",
    "\n",
    "    :returns: A composite transform\n",
    "    \"\"\"\n",
    "    # The HOMO-LUMO gap is target 4 in QM9\n",
    "    target = 4\n",
    "    keys = (\"z\", \"edge_attr\", \"edge_index\", \"y\", \"num_nodes\")\n",
    "\n",
    "    return Compose([\n",
    "        RadiusGraph(cutoff),\n",
    "        Distance(norm=False, cat=False),\n",
    "        PadMolecule(cutoff=cutoff, max_num_atoms=max_num_atoms),\n",
    "        PrepareData(target=target, keys=keys)\n",
    "    ])"
   ]
  },
  {
   "cell_type": "markdown",
   "metadata": {},
   "source": [
    "We can explore how the pipeline converts an input molecule into one that is padded up to the maximum graph size in the dataset.  An experiment to try is to change the value of `i` to explore the data."
   ]
  },
  {
   "cell_type": "code",
   "execution_count": 18,
   "metadata": {},
   "outputs": [
    {
     "data": {
      "text/plain": [
       "(Data(x=[4, 11], edge_index=[2, 6], edge_attr=[6, 4], y=[1, 19], pos=[4, 3], idx=[1], name='gdb_2', z=[4]),\n",
       " Data(edge_index=[2, 812], edge_attr=[812], y=9.249149322509766, z=[29], num_nodes=29))"
      ]
     },
     "execution_count": 18,
     "metadata": {},
     "output_type": "execute_result"
    }
   ],
   "source": [
    "transform = create_transform(cutoff=cutoff, max_num_atoms=int(num_atoms.max()))\n",
    "\n",
    "i = 1\n",
    "dataset[i], transform(dataset[i])"
   ]
  },
  {
   "cell_type": "markdown",
   "metadata": {},
   "source": [
    "The next sanity check is to verify that the padding hasn't introduced any artificial artifacts in the resulting prediction.  Once again we prepare a mock batch consisting of a single graph but apply the transform we made earlier by calling `create_transform`"
   ]
  },
  {
   "cell_type": "code",
   "execution_count": 19,
   "metadata": {},
   "outputs": [
    {
     "data": {
      "text/plain": [
       "DataBatch(edge_index=[2, 812], edge_attr=[812], y=[1], z=[29], num_nodes=29, batch=[29], ptr=[2])"
      ]
     },
     "execution_count": 19,
     "metadata": {},
     "output_type": "execute_result"
    }
   ],
   "source": [
    "data = transform(dataset[0])\n",
    "batch = Batch.from_data_list([data])\n",
    "batch"
   ]
  },
  {
   "cell_type": "markdown",
   "metadata": {},
   "source": [
    "Evaluate the network on the host with randomly initialised weights using a fixed random seed and the padded batch"
   ]
  },
  {
   "cell_type": "code",
   "execution_count": 20,
   "metadata": {},
   "outputs": [
    {
     "data": {
      "text/plain": [
       "tensor([2.7464], grad_fn=<ViewBackward0>)"
      ]
     },
     "execution_count": 20,
     "metadata": {},
     "output_type": "execute_result"
    }
   ],
   "source": [
    "torch.manual_seed(0)\n",
    "model = SchNet(cutoff=cutoff)\n",
    "model.eval()\n",
    "padded_cpu = model(batch.z, batch.edge_attr, batch.edge_index, batch.batch,\n",
    "                   batch.y)\n",
    "padded_cpu"
   ]
  },
  {
   "cell_type": "markdown",
   "metadata": {},
   "source": [
    "The result should be the same as the one we calculated earlier without any padding"
   ]
  },
  {
   "cell_type": "code",
   "execution_count": 21,
   "metadata": {},
   "outputs": [
    {
     "data": {
      "text/plain": [
       "True"
      ]
     },
     "execution_count": 21,
     "metadata": {},
     "output_type": "execute_result"
    }
   ],
   "source": [
    "torch.allclose(cpu, padded_cpu)"
   ]
  },
  {
   "cell_type": "markdown",
   "metadata": {},
   "source": [
    "Now evaluate the same test using the IPU"
   ]
  },
  {
   "cell_type": "code",
   "execution_count": 22,
   "metadata": {},
   "outputs": [
    {
     "name": "stderr",
     "output_type": "stream",
     "text": [
      "Graph compilation:   0%|          | 0/100 [00:00<?]2022-07-21T19:50:01.432319Z popart:devicex 75439.75439 W: The `debug.retainDebugInformation` engine option was implicitly set to `true`. The default will change to `false` in a future release. Set it to `true` explicitly if you want to query debug information (for example, by calling `Session::getReport`).\n",
      "2022-07-21T19:50:01.587935Z popart:devicex 75439.75439 W: The `debug.retainDebugInformation` engine option was implicitly set to `true`. The default will change to `false` in a future release. Set it to `true` explicitly if you want to query debug information (for example, by calling `Session::getReport`).\n",
      "Graph compilation: 100%|██████████| 100/100 [00:08<00:00]\n"
     ]
    },
    {
     "data": {
      "text/plain": [
       "tensor([2.7464])"
      ]
     },
     "execution_count": 22,
     "metadata": {},
     "output_type": "execute_result"
    }
   ],
   "source": [
    "pop_model = poptorch.inferenceModel(model)\n",
    "padded_ipu = pop_model(batch.z, batch.edge_attr, batch.edge_index, batch.batch,\n",
    "                       batch.y)\n",
    "padded_ipu"
   ]
  },
  {
   "cell_type": "markdown",
   "metadata": {},
   "source": [
    "The predictions must be the same as calculated earlier without any paddding"
   ]
  },
  {
   "cell_type": "code",
   "execution_count": 23,
   "metadata": {},
   "outputs": [
    {
     "data": {
      "text/plain": [
       "True"
      ]
     },
     "execution_count": 23,
     "metadata": {},
     "output_type": "execute_result"
    }
   ],
   "source": [
    "torch.allclose(ipu, padded_ipu)"
   ]
  },
  {
   "cell_type": "markdown",
   "metadata": {},
   "source": [
    "### Efficient data loading for the IPU\n",
    "\n",
    "PopTorch provides a custom data loader implementation that can be used for efficient data batching and transfers between the host and IPU device.  Please refer to the following resources for additional background:\n",
    "* PopTorch documentation [Efficient data batching](https://docs.graphcore.ai/projects/poptorch-user-guide/en/latest/batching.html#efficient-data-batching)\n",
    "* PopTorch tutorial: [Efficient data loading](https://github.com/graphcore/tutorials/tree/sdk-release-2.5/tutorials/pytorch/tut2_efficient_data_loading)\n",
    "\n",
    "Below we define a custom collater that leverages the PyG graph batching for the IPU.  This collator ensures that advanced batching scenarios such as data-parallel training, multiple device iterations, and gradient accumulation are handled correctly. These concepts are all covered in much greater detail in the resources above."
   ]
  },
  {
   "cell_type": "code",
   "execution_count": 24,
   "metadata": {},
   "outputs": [],
   "source": [
    "class CombinedBatchingCollator:\n",
    "    \"\"\" Collator object that manages the combined batch size defined as:\n",
    "\n",
    "        combined_batch_size = mini_batch_size * device_iterations\n",
    "                             * replication_factor * gradient_accumulation\n",
    "\n",
    "    This is intended to be used in combination with the poptorch.DataLoader\n",
    "    \"\"\"\n",
    "    def __init__(self, mini_batch_size, keys):\n",
    "        \"\"\"\n",
    "        :param mini_batch_size (int): mini batch size used by the SchNet model\n",
    "        :param keys: Keys to include from the batch in the\n",
    "            output tuple specified as either a list or tuple of strings. The\n",
    "            ordering of the keys is preserved in the tuple.\n",
    "        \"\"\"\n",
    "        super().__init__()\n",
    "        self.mini_batch_size = mini_batch_size\n",
    "        self.keys = keys\n",
    "\n",
    "    def batch_to_tuple(self, data_list):\n",
    "        batch = Batch.from_data_list(data_list)\n",
    "        return tuple(getattr(batch, k) for k in self.keys)\n",
    "\n",
    "    def __call__(self, batch):\n",
    "        num_items = len(batch)\n",
    "        assert num_items % self.mini_batch_size == 0, \"Invalid batch size. \" \\\n",
    "            f\"Got {num_items} graphs and mini_batch_size={self.mini_batch_size}.\"\n",
    "\n",
    "        num_mini_batches = num_items // self.mini_batch_size\n",
    "        batches = [None] * num_mini_batches\n",
    "        start = 0\n",
    "        stride = self.mini_batch_size\n",
    "\n",
    "        for i in range(num_mini_batches):\n",
    "            slices = batch[start:start + stride]\n",
    "            batches[i] = self.batch_to_tuple(slices)\n",
    "            start += stride\n",
    "\n",
    "        num_outputs = len(batches[0])\n",
    "        outputs = [None] * num_outputs\n",
    "\n",
    "        for i in range(num_outputs):\n",
    "            outputs[i] = torch.stack(tuple(item[i] for item in batches))\n",
    "\n",
    "        return tuple(outputs)"
   ]
  },
  {
   "cell_type": "markdown",
   "metadata": {},
   "source": [
    "Next we define a helper function that creates an instance of `poptorch.DataLoader` that uses the collator defined above."
   ]
  },
  {
   "cell_type": "code",
   "execution_count": 25,
   "metadata": {},
   "outputs": [],
   "source": [
    "def create_dataloader(dataset,\n",
    "                      ipu_opts,\n",
    "                      batch_size=1,\n",
    "                      shuffle=False,\n",
    "                      num_workers=0):\n",
    "    \"\"\"\n",
    "    Creates a data loader for graph datasets\n",
    "    Applies the mini-batching method of concatenating multiple graphs into a \n",
    "    single graph with multiple disconnected subgraphs. See:\n",
    "    https://pytorch-geometric.readthedocs.io/en/2.0.2/notes/batching.html\n",
    "    \"\"\"\n",
    "    if ipu_opts is None:\n",
    "        ipu_opts = poptorch.Options()\n",
    "\n",
    "    keys = (\"z\", \"edge_attr\", \"edge_index\", \"batch\", \"y\")\n",
    "    collater = CombinedBatchingCollator(batch_size, keys)\n",
    "\n",
    "    return poptorch.DataLoader(ipu_opts,\n",
    "                               dataset=dataset,\n",
    "                               batch_size=batch_size,\n",
    "                               shuffle=shuffle,\n",
    "                               num_workers=num_workers,\n",
    "                               collate_fn=collater)"
   ]
  },
  {
   "cell_type": "markdown",
   "metadata": {},
   "source": [
    "### Putting everything together to train SchNet\n",
    "\n",
    "We can now train SchNet on the IPU using all of the concepts introduced earlier.  To start with we shuffle and split the dataset into testing, validation, and training splits."
   ]
  },
  {
   "cell_type": "code",
   "execution_count": 26,
   "metadata": {},
   "outputs": [
    {
     "name": "stdout",
     "output_type": "stream",
     "text": [
      "Number of test molecules: 10000\n",
      "Number of validation molecules: 10000\n",
      "Number of training molecules: 110831\n"
     ]
    }
   ],
   "source": [
    "num_test = 10000\n",
    "num_val = 10000\n",
    "torch.manual_seed(0)\n",
    "dataset.transform = create_transform(cutoff, int(num_atoms.max()))\n",
    "dataset = dataset.shuffle()\n",
    "test_dataset = dataset[:num_test]\n",
    "val_dataset = dataset[num_test:num_test + num_val]\n",
    "train_dataset = dataset[num_test + num_val:]\n",
    "\n",
    "print(f\"Number of test molecules: {len(test_dataset)}\\n\"\n",
    "      f\"Number of validation molecules: {len(val_dataset)}\\n\"\n",
    "      f\"Number of training molecules: {len(train_dataset)}\")\n"
   ]
  },
  {
   "cell_type": "markdown",
   "metadata": {},
   "source": [
    "Setup the hyperparameters for training the network.  These can be changed to explore the different trade-offs they offer in terms of training accuracy and performance throughput."
   ]
  },
  {
   "cell_type": "code",
   "execution_count": 27,
   "metadata": {},
   "outputs": [],
   "source": [
    "batch_size = 12\n",
    "replication_factor = 8\n",
    "device_iterations = 6\n",
    "gradient_accumulation = 2\n",
    "num_dataloader_workers = 16\n",
    "learning_rate = 1e-3\n",
    "num_epochs = 20"
   ]
  },
  {
   "cell_type": "markdown",
   "metadata": {},
   "source": [
    "Create the `poptorch.Options` object with the right parameters setup"
   ]
  },
  {
   "cell_type": "code",
   "execution_count": 28,
   "metadata": {},
   "outputs": [],
   "source": [
    "options = poptorch.Options()\n",
    "options.outputMode(poptorch.OutputMode.All)\n",
    "options.deviceIterations(device_iterations)\n",
    "options.replicationFactor(replication_factor)\n",
    "options.Training.gradientAccumulation(gradient_accumulation);"
   ]
  },
  {
   "cell_type": "markdown",
   "metadata": {},
   "source": [
    "Create the SchNet model and train it using the selected hyperparameters."
   ]
  },
  {
   "cell_type": "code",
   "execution_count": 29,
   "metadata": {},
   "outputs": [],
   "source": [
    "train_loader = create_dataloader(train_dataset,\n",
    "                                 options,\n",
    "                                 batch_size,\n",
    "                                 shuffle=True,\n",
    "                                 num_workers=num_dataloader_workers)\n",
    "model = SchNet(cutoff=cutoff, batch_size=batch_size)\n",
    "model.train()\n",
    "optimizer = poptorch.optim.AdamW(model.parameters(), lr=learning_rate)\n",
    "model = poptorch.trainingModel(model, options, optimizer)"
   ]
  },
  {
   "cell_type": "markdown",
   "metadata": {},
   "source": [
    "Train the model and log the mean loss from each batch."
   ]
  },
  {
   "cell_type": "code",
   "execution_count": 30,
   "metadata": {},
   "outputs": [
    {
     "name": "stderr",
     "output_type": "stream",
     "text": [
      "  0%|          | 0/96 [00:00<?, ?it/s]2022-07-21T19:50:17.993258Z popart:devicex 75439.75439 W: The `debug.retainDebugInformation` engine option was implicitly set to `true`. The default will change to `false` in a future release. Set it to `true` explicitly if you want to query debug information (for example, by calling `Session::getReport`).\n",
      "2022-07-21T19:50:18.858363Z popart:devicex 75439.75439 W: The `debug.retainDebugInformation` engine option was implicitly set to `true`. The default will change to `false` in a future release. Set it to `true` explicitly if you want to query debug information (for example, by calling `Session::getReport`).\n",
      "Graph compilation: 100%|██████████| 100/100 [00:35<00:00]\n",
      "Epoch 0 training loss: 0.462308: 100%|██████████| 96/96 [00:47<00:00,  2.00it/s]  \n",
      "Epoch 1 training loss: 0.368612: 100%|██████████| 96/96 [00:04<00:00, 21.20it/s]\n",
      "Epoch 2 training loss: 0.307663: 100%|██████████| 96/96 [00:04<00:00, 21.05it/s]\n",
      "Epoch 3 training loss: 0.277443: 100%|██████████| 96/96 [00:04<00:00, 22.09it/s]\n",
      "Epoch 4 training loss: 0.213174: 100%|██████████| 96/96 [00:04<00:00, 21.88it/s]\n",
      "Epoch 5 training loss: 0.196634: 100%|██████████| 96/96 [00:06<00:00, 15.85it/s]\n",
      "Epoch 6 training loss: 0.201523: 100%|██████████| 96/96 [00:04<00:00, 22.06it/s]\n",
      "Epoch 7 training loss: 0.153263: 100%|██████████| 96/96 [00:04<00:00, 21.83it/s]\n",
      "Epoch 8 training loss: 0.147494: 100%|██████████| 96/96 [00:04<00:00, 22.54it/s]\n",
      "Epoch 9 training loss: 0.101622: 100%|██████████| 96/96 [00:04<00:00, 20.41it/s]\n",
      "Epoch 10 training loss: 0.081672: 100%|██████████| 96/96 [00:04<00:00, 22.15it/s]\n",
      "Epoch 11 training loss: 0.125679: 100%|██████████| 96/96 [00:04<00:00, 21.31it/s]\n",
      "Epoch 12 training loss: 0.096658: 100%|██████████| 96/96 [00:04<00:00, 22.34it/s]\n",
      "Epoch 13 training loss: 0.099232: 100%|██████████| 96/96 [00:04<00:00, 22.90it/s]\n",
      "Epoch 14 training loss: 0.058341: 100%|██████████| 96/96 [00:04<00:00, 22.77it/s]\n",
      "Epoch 15 training loss: 0.070772: 100%|██████████| 96/96 [00:05<00:00, 17.35it/s]\n",
      "Epoch 16 training loss: 0.067508: 100%|██████████| 96/96 [00:04<00:00, 22.46it/s]\n",
      "Epoch 17 training loss: 0.052187: 100%|██████████| 96/96 [00:04<00:00, 22.65it/s]\n",
      "Epoch 18 training loss: 0.048856: 100%|██████████| 96/96 [00:04<00:00, 22.49it/s]\n",
      "Epoch 19 training loss: 0.059838: 100%|██████████| 96/96 [00:04<00:00, 22.59it/s]\n"
     ]
    }
   ],
   "source": [
    "train_losses = torch.empty(num_epochs, len(train_loader))\n",
    "\n",
    "for epoch in range(num_epochs):\n",
    "    bar = tqdm(train_loader)\n",
    "    for i, data in enumerate(bar):\n",
    "        _, mini_batch_loss = model(*data)\n",
    "        train_losses[epoch, i] = mini_batch_loss.mean()\n",
    "        bar.set_description(\n",
    "            f\"Epoch {epoch} training loss: {train_losses[epoch, i].item():0.6f}\")"
   ]
  },
  {
   "cell_type": "markdown",
   "metadata": {},
   "source": [
    "Plot the mean of the loss"
   ]
  },
  {
   "cell_type": "code",
   "execution_count": 31,
   "metadata": {},
   "outputs": [
    {
     "data": {
      "image/png": "[encoded data removed]",
      "text/plain": [
       "<Figure size 900x600 with 1 Axes>"
      ]
     },
     "metadata": {
      "needs_background": "light"
     },
     "output_type": "display_data"
    }
   ],
   "source": [
    "plt.plot(train_losses.mean(dim=1))\n",
    "plt.xlabel(\"Epoch\")\n",
    "plt.ylabel(\"Mean loss\")\n",
    "plt.legend([\"Training loss\"])\n",
    "plt.grid(True)\n",
    "plt.xticks(torch.arange(0, num_epochs, 2))\n",
    "plt.gcf().set_dpi(150)"
   ]
  },
  {
   "cell_type": "markdown",
   "metadata": {},
   "source": [
    "### Follow up exercises\n",
    "* Padding each graph up to the size of the largest molecule is obviously wasteful, can you devise a more efficient strategy?"
   ]
  }
 ],
 "metadata": {
  "kernelspec": {
   "display_name": "Python 3.6.9 ('pygnb')",
   "language": "python",
   "name": "python3"
  },
  "language_info": {
   "codemirror_mode": {
    "name": "ipython",
    "version": 3
   },
   "file_extension": ".py",
   "mimetype": "text/x-python",
   "name": "python",
   "nbconvert_exporter": "python",
   "pygments_lexer": "ipython3",
   "version": "3.8.13"
  },
  "orig_nbformat": 4,
  "vscode": {
   "interpreter": {
    "hash": "5918304a9e1be506ae80f1c157e6e427d374131e966ae13a9bf2405fbc3138af"
   }
  }
 },
 "nbformat": 4,
 "nbformat_minor": 2
}
