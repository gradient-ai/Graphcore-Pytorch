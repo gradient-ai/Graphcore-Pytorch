{
 "cells": [
  {
   "cell_type": "markdown",
   "metadata": {},
   "source": [
    "SchNet on Graphcore IPU\n",
    "=======================\n",
    "> *Note: PyTorch Geometric support with PopTorch SDK 3.0 is currently experimental.*\n",
    "> *Please direct any questions or feedback to support@graphcore.ai*\n",
    "\n",
    "\n",
    "This notebook demonstrates training a [SchNet graph neural network](https://arxiv.org/abs/1712.06113) with PyTorch Geometric on the Graphcore IPU.  We will use the QM9 dataset from the [MoleculeNet: A Benchmark for Molecular\n",
    "    Machine Learning](https://arxiv.org/abs/1703.00564) paper and train the SchNet model to predict the HOMO-LUMO energy gap.\n",
    "\n",
    "This notebook assumes some familiarity with PopTorch as well as PyTorch Geometric (PyG).  For additional resources please consult:\n",
    "\n",
    "* [PopTorch Documentation](https://docs.graphcore.ai/projects/poptorch-user-guide/en/latest/index.html)\n",
    "* [PopTorch Examples and Tutorials](https://docs.graphcore.ai/en/latest/examples.html#pytorch)\n",
    "* [PyTorch Geometric](https://pytorch-geometric.readthedocs.io/en/latest/)\n",
    "\n",
    "Requirements:\n",
    "\n",
    "* Paperspace account with access to the PyTorch IPU runtime\n",
    "* Python packages in `requirements-pyg.txt`, installed below\n"
   ]
  },
  {
   "cell_type": "code",
   "execution_count": null,
   "metadata": {},
   "outputs": [],
   "source": [
    "%pip install -r requirements-pyg.txt"
   ]
  },
  {
   "cell_type": "code",
   "execution_count": 1,
   "metadata": {},
   "outputs": [],
   "source": [
    "%matplotlib inline\n",
    "import os\n",
    "import os.path as osp\n",
    "\n",
    "import torch\n",
    "import poptorch\n",
    "import pandas as pd\n",
    "import py3Dmol\n",
    "\n",
    "from periodictable import elements\n",
    "from torch_geometric.datasets import QM9\n",
    "from torch_geometric.data import Batch\n",
    "from torch_geometric.loader import DataLoader\n",
    "from torch_geometric.nn import to_fixed_size\n",
    "from torch_geometric.nn.models import SchNet\n",
    "from tqdm import tqdm\n",
    "\n",
    "import matplotlib.pyplot as plt\n",
    "import seaborn as sns\n",
    "sns.set_theme()\n",
    "\n",
    "executable_cache_dir = os.getenv(\"POPLAR_EXECUTABLE_CACHE_DIR\", \"/tmp/exe_cache/\")\n",
    "dataset_directory = os.getenv(\"DATASET_DIR\", 'data')\n",
    "number_of_ipus = os.getenv(\"NUM_AVAILABLE_IPU\", 16)\n",
    "number_of_ipus = min(number_of_ipus, 16) # QM9 is too small to benefit from additional scaling"
   ]
  },
  {
   "cell_type": "markdown",
   "metadata": {},
   "source": [
    "### QM9 Dataset\n",
    "\n",
    "PyG provides a convenient dataset class that manages downloading the QM9 dataset to local storage. The QM9 dataset contains 130831 molecules with a number of different physical properties that we can train the SchNet model to predict.  For SchNet, a molecule with $n$ atoms is described by:\n",
    "\n",
    "* Nuclear charges $Z= (Z_1, Z_2, ..., Z_n)$, stored as a vector of integers of length `num_atoms`\n",
    "* Atomic positions $\\mathbf{r} = (\\mathbf{r}_1, \\mathbf{r}_2, \\ldots, \\mathbf{r}_n)$, stored as a tensor of real numbers of size `[num_atoms, 3]`\n",
    "\n",
    "We consider each molecule as an undirected graph where:\n",
    "* the atoms are the nodes or vertices of the graph.\n",
    "* the edges are inferred from the atomic positions by connecting atoms that are within a given cutoff radius to each other."
   ]
  },
  {
   "cell_type": "code",
   "execution_count": 2,
   "metadata": {},
   "outputs": [],
   "source": [
    "qm9_root = osp.join(dataset_directory, 'qm9')\n",
    "dataset = QM9(qm9_root)"
   ]
  },
  {
   "cell_type": "markdown",
   "metadata": {},
   "source": [
    "We can call `len` to see how many molecules are in the dataset"
   ]
  },
  {
   "cell_type": "code",
   "execution_count": 3,
   "metadata": {},
   "outputs": [
    {
     "data": {
      "text/plain": [
       "130831"
      ]
     },
     "execution_count": 3,
     "metadata": {},
     "output_type": "execute_result"
    }
   ],
   "source": [
    "len(dataset)"
   ]
  },
  {
   "cell_type": "markdown",
   "metadata": {},
   "source": [
    "We can inspect each molecule which is represented as an instance of a [torch_geometric.data.Data](https://pytorch-geometric.readthedocs.io/en/latest/modules/data.html#torch_geometric.data.Data) object.  The properties we are interested in for training our SchNet model are:\n",
    "* `z` contains the atomic number for each atom in the molecule.\n",
    "* `pos` contains the 3d structure of the molecule.\n",
    "* `y` contains the 19 regression targets.  The HOMO-LUMO gap is stored in the 4th column so can be accessed by slicing this tensor using `y[:,4]`\n",
    "\n",
    "Next we display the first example molecule from the QM9 dataset as a `Data` object, the atomic number tensor, the positions tensor, and slice the regression targets to get the HOMO-LUMO gap for this example."
   ]
  },
  {
   "cell_type": "code",
   "execution_count": 4,
   "metadata": {},
   "outputs": [
    {
     "data": {
      "text/plain": [
       "(Data(x=[13, 11], edge_index=[2, 28], edge_attr=[28, 4], y=[1, 19], pos=[13, 3], idx=[1], name='gdb_125563', z=[13]),\n",
       " tensor([6, 6, 7, 7, 6, 7, 7, 7, 7, 1, 1, 1, 1]),\n",
       " tensor([[-2.7500e-02,  1.4963e+00,  5.2800e-02],\n",
       "         [-9.1000e-03,  1.2800e-02,  2.6000e-03],\n",
       "         [-4.2200e-02, -7.5060e-01, -1.0686e+00],\n",
       "         [-9.3000e-03, -2.1018e+00, -7.2150e-01],\n",
       "         [ 4.3600e-02, -2.0859e+00,  5.8330e-01],\n",
       "         [ 1.0010e-01, -2.8658e+00,  1.7010e+00],\n",
       "         [ 1.3480e-01, -2.0775e+00,  2.8101e+00],\n",
       "         [ 1.0380e-01, -8.4570e-01,  2.4693e+00],\n",
       "         [ 4.7300e-02, -8.2400e-01,  1.1011e+00],\n",
       "         [ 8.7460e-01,  1.8923e+00,  5.3110e-01],\n",
       "         [-8.0800e-02,  1.8742e+00, -9.6890e-01],\n",
       "         [-8.9120e-01,  1.8675e+00,  6.1440e-01],\n",
       "         [ 1.1880e-01, -3.8660e+00,  1.7999e+00]]),\n",
       " tensor([5.2708]))"
      ]
     },
     "execution_count": 4,
     "metadata": {},
     "output_type": "execute_result"
    }
   ],
   "source": [
    "datum = dataset[123244]\n",
    "datum, datum.z, datum.pos, datum.y[:, 4]"
   ]
  },
  {
   "cell_type": "markdown",
   "metadata": {},
   "source": [
    "We can use the [py3Dmol](https://github.com/3dmol/3Dmol.js/tree/master/py3Dmol) package to visualise the molecule to get a better idea of the structure.  To do this we need to provide the simple `xyz` format to the `py3Dmol.view` function."
   ]
  },
  {
   "cell_type": "code",
   "execution_count": 5,
   "metadata": {},
   "outputs": [
    {
     "data": {
      "application/3dmoljs_load.v0": "<div id=\"3dmolviewer_1669912392458485\"  style=\"position: relative; width: 640px; height: 480px\">\n        <p id=\"3dmolwarning_1669912392458485\" style=\"background-color:#ffcccc;color:black\">You appear to be running in JupyterLab (or JavaScript failed to load for some other reason).  You need to install the 3dmol extension: <br>\n        <tt>jupyter labextension install jupyterlab_3dmol</tt></p>\n        </div>\n<script>\n\nvar loadScriptAsync = function(uri){\n  return new Promise((resolve, reject) => {\n    var tag = document.createElement('script');\n    tag.src = uri;\n    tag.async = true;\n    tag.onload = () => {\n      resolve();\n    };\n  var firstScriptTag = document.getElementsByTagName('script')[0];\n  firstScriptTag.parentNode.insertBefore(tag, firstScriptTag);\n});\n};\n\nif(typeof $3Dmolpromise === 'undefined') {\n$3Dmolpromise = null;\n  $3Dmolpromise = loadScriptAsync('https://cdn.jsdelivr.net/npm/3dmol@latest/build/3Dmol-min.min.js');\n}\n\nvar viewer_1669912392458485 = null;\nvar warn = document.getElementById(\"3dmolwarning_1669912392458485\");\nif(warn) {\n    warn.parentNode.removeChild(warn);\n}\n$3Dmolpromise.then(function() {\nviewer_1669912392458485 = $3Dmol.createViewer($(\"#3dmolviewer_1669912392458485\"),{backgroundColor:\"white\"});\nviewer_1669912392458485.addModel(\"13\\n\\nC\\t-0.02750000\\t 1.49629998\\t 0.05280000\\nC\\t-0.00910000\\t 0.01280000\\t 0.00260000\\nN\\t-0.04220000\\t-0.75059998\\t-1.06860006\\nN\\t-0.00930000\\t-2.10179996\\t-0.72149998\\nC\\t 0.04360000\\t-2.08590007\\t 0.58329999\\nN\\t 0.10010000\\t-2.86579990\\t 1.70099998\\nN\\t 0.13480000\\t-2.07750010\\t 2.81010008\\nN\\t 0.10380000\\t-0.84570003\\t 2.46930003\\nN\\t 0.04730000\\t-0.82400000\\t 1.10109997\\nH\\t 0.87459999\\t 1.89230001\\t 0.53109998\\nH\\t-0.08080000\\t 1.87419999\\t-0.96890002\\nH\\t-0.89120001\\t 1.86749995\\t 0.61440003\\nH\\t 0.11880000\\t-3.86599994\\t 1.79990005\\n\");\nviewer_1669912392458485.setStyle({\"stick\": {}});\nviewer_1669912392458485.zoomTo();\n\tviewer_1669912392458485.spin();\nviewer_1669912392458485.render();\n});\n</script>",
      "text/html": [
       "<div id=\"3dmolviewer_1669912392458485\"  style=\"position: relative; width: 640px; height: 480px\">\n",
       "        <p id=\"3dmolwarning_1669912392458485\" style=\"background-color:#ffcccc;color:black\">You appear to be running in JupyterLab (or JavaScript failed to load for some other reason).  You need to install the 3dmol extension: <br>\n",
       "        <tt>jupyter labextension install jupyterlab_3dmol</tt></p>\n",
       "        </div>\n",
       "<script>\n",
       "\n",
       "var loadScriptAsync = function(uri){\n",
       "  return new Promise((resolve, reject) => {\n",
       "    var tag = document.createElement('script');\n",
       "    tag.src = uri;\n",
       "    tag.async = true;\n",
       "    tag.onload = () => {\n",
       "      resolve();\n",
       "    };\n",
       "  var firstScriptTag = document.getElementsByTagName('script')[0];\n",
       "  firstScriptTag.parentNode.insertBefore(tag, firstScriptTag);\n",
       "});\n",
       "};\n",
       "\n",
       "if(typeof $3Dmolpromise === 'undefined') {\n",
       "$3Dmolpromise = null;\n",
       "  $3Dmolpromise = loadScriptAsync('https://cdn.jsdelivr.net/npm/3dmol@latest/build/3Dmol-min.min.js');\n",
       "}\n",
       "\n",
       "var viewer_1669912392458485 = null;\n",
       "var warn = document.getElementById(\"3dmolwarning_1669912392458485\");\n",
       "if(warn) {\n",
       "    warn.parentNode.removeChild(warn);\n",
       "}\n",
       "$3Dmolpromise.then(function() {\n",
       "viewer_1669912392458485 = $3Dmol.createViewer($(\"#3dmolviewer_1669912392458485\"),{backgroundColor:\"white\"});\n",
       "viewer_1669912392458485.addModel(\"13\\n\\nC\\t-0.02750000\\t 1.49629998\\t 0.05280000\\nC\\t-0.00910000\\t 0.01280000\\t 0.00260000\\nN\\t-0.04220000\\t-0.75059998\\t-1.06860006\\nN\\t-0.00930000\\t-2.10179996\\t-0.72149998\\nC\\t 0.04360000\\t-2.08590007\\t 0.58329999\\nN\\t 0.10010000\\t-2.86579990\\t 1.70099998\\nN\\t 0.13480000\\t-2.07750010\\t 2.81010008\\nN\\t 0.10380000\\t-0.84570003\\t 2.46930003\\nN\\t 0.04730000\\t-0.82400000\\t 1.10109997\\nH\\t 0.87459999\\t 1.89230001\\t 0.53109998\\nH\\t-0.08080000\\t 1.87419999\\t-0.96890002\\nH\\t-0.89120001\\t 1.86749995\\t 0.61440003\\nH\\t 0.11880000\\t-3.86599994\\t 1.79990005\\n\");\n",
       "viewer_1669912392458485.setStyle({\"stick\": {}});\n",
       "viewer_1669912392458485.zoomTo();\n",
       "\tviewer_1669912392458485.spin();\n",
       "viewer_1669912392458485.render();\n",
       "});\n",
       "</script>"
      ]
     },
     "metadata": {},
     "output_type": "display_data"
    },
    {
     "data": {
      "text/plain": [
       "<py3Dmol.view at 0x7f693541ee20>"
      ]
     },
     "execution_count": 5,
     "metadata": {},
     "output_type": "execute_result"
    }
   ],
   "source": [
    "num_atoms = int(datum.z.numel())\n",
    "xyz = f\"{num_atoms}\\n\\n\"\n",
    "\n",
    "for i in range(num_atoms):\n",
    "    sym = elements[datum.z[i].item()].symbol\n",
    "    r = datum.pos[i, :].tolist()\n",
    "    line = [sym] + [f\"{i: 0.08f}\" for i in r]\n",
    "    line = \"\\t\".join(line)\n",
    "    xyz += f\"{line}\\n\"\n",
    "\n",
    "view = py3Dmol.view(data=xyz, style={'stick': {}})\n",
    "view.spin()"
   ]
  },
  {
   "cell_type": "markdown",
   "metadata": {},
   "source": [
    "We can collect some statistics by iterating over the entire dataset and investigate the distribution of the number of atoms in each molecule and the HOMO-LUMO gap energy"
   ]
  },
  {
   "cell_type": "code",
   "execution_count": 6,
   "metadata": {},
   "outputs": [
    {
     "name": "stderr",
     "output_type": "stream",
     "text": [
      "100%|██████████| 130831/130831 [00:15<00:00, 8474.82it/s]\n"
     ]
    }
   ],
   "source": [
    "num_mols = len(dataset)\n",
    "num_atoms = []\n",
    "hl_gap = []\n",
    "\n",
    "for mol in tqdm(dataset):\n",
    "    num_atoms.append(mol.z.numel())\n",
    "    hl_gap.append(float(mol.y[:, 4]))"
   ]
  },
  {
   "cell_type": "markdown",
   "metadata": {},
   "source": [
    "Create a pandas dataframe from the collected statistics"
   ]
  },
  {
   "cell_type": "code",
   "execution_count": 7,
   "metadata": {},
   "outputs": [
    {
     "data": {
      "text/html": [
       "<div>\n",
       "<style scoped>\n",
       "    .dataframe tbody tr th:only-of-type {\n",
       "        vertical-align: middle;\n",
       "    }\n",
       "\n",
       "    .dataframe tbody tr th {\n",
       "        vertical-align: top;\n",
       "    }\n",
       "\n",
       "    .dataframe thead th {\n",
       "        text-align: right;\n",
       "    }\n",
       "</style>\n",
       "<table border=\"1\" class=\"dataframe\">\n",
       "  <thead>\n",
       "    <tr style=\"text-align: right;\">\n",
       "      <th></th>\n",
       "      <th>Number of atoms</th>\n",
       "      <th>HOMO-LUMO Gap (eV)</th>\n",
       "    </tr>\n",
       "  </thead>\n",
       "  <tbody>\n",
       "    <tr>\n",
       "      <th>count</th>\n",
       "      <td>130831.000000</td>\n",
       "      <td>130831.000000</td>\n",
       "    </tr>\n",
       "    <tr>\n",
       "      <th>mean</th>\n",
       "      <td>18.032500</td>\n",
       "      <td>6.858492</td>\n",
       "    </tr>\n",
       "    <tr>\n",
       "      <th>std</th>\n",
       "      <td>2.943715</td>\n",
       "      <td>1.284169</td>\n",
       "    </tr>\n",
       "    <tr>\n",
       "      <th>min</th>\n",
       "      <td>3.000000</td>\n",
       "      <td>0.669400</td>\n",
       "    </tr>\n",
       "    <tr>\n",
       "      <th>25%</th>\n",
       "      <td>16.000000</td>\n",
       "      <td>5.904871</td>\n",
       "    </tr>\n",
       "    <tr>\n",
       "      <th>50%</th>\n",
       "      <td>18.000000</td>\n",
       "      <td>6.808289</td>\n",
       "    </tr>\n",
       "    <tr>\n",
       "      <th>75%</th>\n",
       "      <td>20.000000</td>\n",
       "      <td>7.874975</td>\n",
       "    </tr>\n",
       "    <tr>\n",
       "      <th>max</th>\n",
       "      <td>29.000000</td>\n",
       "      <td>16.928204</td>\n",
       "    </tr>\n",
       "  </tbody>\n",
       "</table>\n",
       "</div>"
      ],
      "text/plain": [
       "       Number of atoms  HOMO-LUMO Gap (eV)\n",
       "count    130831.000000       130831.000000\n",
       "mean         18.032500            6.858492\n",
       "std           2.943715            1.284169\n",
       "min           3.000000            0.669400\n",
       "25%          16.000000            5.904871\n",
       "50%          18.000000            6.808289\n",
       "75%          20.000000            7.874975\n",
       "max          29.000000           16.928204"
      ]
     },
     "execution_count": 7,
     "metadata": {},
     "output_type": "execute_result"
    }
   ],
   "source": [
    "df = pd.DataFrame({'Number of atoms': num_atoms, 'HOMO-LUMO Gap (eV)': hl_gap})\n",
    "df.describe()"
   ]
  },
  {
   "cell_type": "markdown",
   "metadata": {},
   "source": [
    "The following figure shows how the number of atoms varies across the QM9 dataset as well as the kernel density estimate (KDE) of the HOMO-LUMO gap energy.The following histogram shows how the number of atoms varies across the QM9 dataset."
   ]
  },
  {
   "cell_type": "code",
   "execution_count": 8,
   "metadata": {},
   "outputs": [
    {
     "data": {
      "image/png": "[encoded data removed]",
      "image/svg+xml": "<?xml version=\"1.0\" encoding=\"utf-8\" standalone=\"no\"?>\n<!DOCTYPE svg PUBLIC \"-//W3C//DTD SVG 1.1//EN\"\n  \"http://www.w3.org/Graphics/SVG/1.1/DTD/svg11.dtd\">\n<svg xmlns:xlink=\"http://www.w3.org/1999/xlink\" width=\"632.5075pt\" height=\"272.76628pt\" viewBox=\"0 0 632.5075 272.76628\" xmlns=\"http://www.w3.org/2000/svg\" version=\"1.1\">\n <metadata>\n  <rdf:RDF xmlns:dc=\"http://purl.org/dc/elements/1.1/\" xmlns:cc=\"http://creativecommons.org/ns#\" xmlns:rdf=\"http://www.w3.org/1999/02/22-rdf-syntax-ns#\">\n   <cc:Work>\n    <dc:type rdf:resource=\"http://purl.org/dc/dcmitype/StillImage\"/>\n    <dc:date>2022-12-01T16:33:29.034773</dc:date>\n    <dc:format>image/svg+xml</dc:format>\n    <dc:creator>\n     <cc:Agent>\n      <dc:title>Matplotlib v3.6.0, https://matplotlib.org/</dc:title>\n     </cc:Agent>\n    </dc:creator>\n   </cc:Work>\n  </rdf:RDF>\n </metadata>\n <defs>\n  <style type=\"text/css\">*{stroke-linejoin: round; stroke-linecap: butt}</style>\n </defs>\n <g id=\"figure_1\">\n  <g id=\"patch_1\">\n   <path d=\"M -0 272.76628 \nL 632.5075 272.76628 \nL 632.5075 0 \nL -0 0 \nz\n\" style=\"fill: #ffffff\"/>\n  </g>\n  <g id=\"axes_1\">\n   <g id=\"patch_2\">\n    <path d=\"M 67.3075 229.806592 \nL 320.943864 229.806592 \nL 320.943864 8.046592 \nL 67.3075 8.046592 \nz\n\" style=\"fill: #eaeaf2\"/>\n   </g>\n   <g id=\"matplotlib.axis_1\">\n    <g id=\"xtick_1\">\n     <g id=\"line2d_1\">\n      <path d=\"M 100.186288 229.806592 \nL 100.186288 8.046592 \n\" clip-path=\"url(#pcfe8d9cca8)\" style=\"fill: none; stroke: #ffffff; stroke-linecap: round\"/>\n     </g>\n     <g id=\"text_1\">\n      <!-- 5 -->\n      <g style=\"fill: #262626\" transform=\"translate(96.686913 247.664873) scale(0.11 -0.11)\">\n       <defs>\n        <path id=\"DejaVuSans-35\" d=\"M 691 4666 \nL 3169 4666 \nL 3169 4134 \nL 1269 4134 \nL 1269 2991 \nQ 1406 3038 1543 3061 \nQ 1681 3084 1819 3084 \nQ 2600 3084 3056 2656 \nQ 3513 2228 3513 1497 \nQ 3513 744 3044 326 \nQ 2575 -91 1722 -91 \nQ 1428 -91 1123 -41 \nQ 819 9 494 109 \nL 494 744 \nQ 775 591 1075 516 \nQ 1375 441 1709 441 \nQ 2250 441 2565 725 \nQ 2881 1009 2881 1497 \nQ 2881 1984 2565 2268 \nQ 2250 2553 1709 2553 \nQ 1456 2553 1204 2497 \nQ 953 2441 691 2322 \nL 691 4666 \nz\n\" transform=\"scale(0.015625)\"/>\n       </defs>\n       <use xlink:href=\"#DejaVuSans-35\"/>\n      </g>\n     </g>\n    </g>\n    <g id=\"xtick_2\">\n     <g id=\"line2d_2\">\n      <path d=\"M 142.886012 229.806592 \nL 142.886012 8.046592 \n\" clip-path=\"url(#pcfe8d9cca8)\" style=\"fill: none; stroke: #ffffff; stroke-linecap: round\"/>\n     </g>\n     <g id=\"text_2\">\n      <!-- 10 -->\n      <g style=\"fill: #262626\" transform=\"translate(135.887262 247.664873) scale(0.11 -0.11)\">\n       <defs>\n        <path id=\"DejaVuSans-31\" d=\"M 794 531 \nL 1825 531 \nL 1825 4091 \nL 703 3866 \nL 703 4441 \nL 1819 4666 \nL 2450 4666 \nL 2450 531 \nL 3481 531 \nL 3481 0 \nL 794 0 \nL 794 531 \nz\n\" transform=\"scale(0.015625)\"/>\n        <path id=\"DejaVuSans-30\" d=\"M 2034 4250 \nQ 1547 4250 1301 3770 \nQ 1056 3291 1056 2328 \nQ 1056 1369 1301 889 \nQ 1547 409 2034 409 \nQ 2525 409 2770 889 \nQ 3016 1369 3016 2328 \nQ 3016 3291 2770 3770 \nQ 2525 4250 2034 4250 \nz\nM 2034 4750 \nQ 2819 4750 3233 4129 \nQ 3647 3509 3647 2328 \nQ 3647 1150 3233 529 \nQ 2819 -91 2034 -91 \nQ 1250 -91 836 529 \nQ 422 1150 422 2328 \nQ 422 3509 836 4129 \nQ 1250 4750 2034 4750 \nz\n\" transform=\"scale(0.015625)\"/>\n       </defs>\n       <use xlink:href=\"#DejaVuSans-31\"/>\n       <use xlink:href=\"#DejaVuSans-30\" x=\"63.623047\"/>\n      </g>\n     </g>\n    </g>\n    <g id=\"xtick_3\">\n     <g id=\"line2d_3\">\n      <path d=\"M 185.585737 229.806592 \nL 185.585737 8.046592 \n\" clip-path=\"url(#pcfe8d9cca8)\" style=\"fill: none; stroke: #ffffff; stroke-linecap: round\"/>\n     </g>\n     <g id=\"text_3\">\n      <!-- 15 -->\n      <g style=\"fill: #262626\" transform=\"translate(178.586987 247.664873) scale(0.11 -0.11)\">\n       <use xlink:href=\"#DejaVuSans-31\"/>\n       <use xlink:href=\"#DejaVuSans-35\" x=\"63.623047\"/>\n      </g>\n     </g>\n    </g>\n    <g id=\"xtick_4\">\n     <g id=\"line2d_4\">\n      <path d=\"M 228.285461 229.806592 \nL 228.285461 8.046592 \n\" clip-path=\"url(#pcfe8d9cca8)\" style=\"fill: none; stroke: #ffffff; stroke-linecap: round\"/>\n     </g>\n     <g id=\"text_4\">\n      <!-- 20 -->\n      <g style=\"fill: #262626\" transform=\"translate(221.286711 247.664873) scale(0.11 -0.11)\">\n       <defs>\n        <path id=\"DejaVuSans-32\" d=\"M 1228 531 \nL 3431 531 \nL 3431 0 \nL 469 0 \nL 469 531 \nQ 828 903 1448 1529 \nQ 2069 2156 2228 2338 \nQ 2531 2678 2651 2914 \nQ 2772 3150 2772 3378 \nQ 2772 3750 2511 3984 \nQ 2250 4219 1831 4219 \nQ 1534 4219 1204 4116 \nQ 875 4013 500 3803 \nL 500 4441 \nQ 881 4594 1212 4672 \nQ 1544 4750 1819 4750 \nQ 2544 4750 2975 4387 \nQ 3406 4025 3406 3419 \nQ 3406 3131 3298 2873 \nQ 3191 2616 2906 2266 \nQ 2828 2175 2409 1742 \nQ 1991 1309 1228 531 \nz\n\" transform=\"scale(0.015625)\"/>\n       </defs>\n       <use xlink:href=\"#DejaVuSans-32\"/>\n       <use xlink:href=\"#DejaVuSans-30\" x=\"63.623047\"/>\n      </g>\n     </g>\n    </g>\n    <g id=\"xtick_5\">\n     <g id=\"line2d_5\">\n      <path d=\"M 270.985186 229.806592 \nL 270.985186 8.046592 \n\" clip-path=\"url(#pcfe8d9cca8)\" style=\"fill: none; stroke: #ffffff; stroke-linecap: round\"/>\n     </g>\n     <g id=\"text_5\">\n      <!-- 25 -->\n      <g style=\"fill: #262626\" transform=\"translate(263.986436 247.664873) scale(0.11 -0.11)\">\n       <use xlink:href=\"#DejaVuSans-32\"/>\n       <use xlink:href=\"#DejaVuSans-35\" x=\"63.623047\"/>\n      </g>\n     </g>\n    </g>\n    <g id=\"xtick_6\">\n     <g id=\"line2d_6\">\n      <path d=\"M 313.68491 229.806592 \nL 313.68491 8.046592 \n\" clip-path=\"url(#pcfe8d9cca8)\" style=\"fill: none; stroke: #ffffff; stroke-linecap: round\"/>\n     </g>\n     <g id=\"text_6\">\n      <!-- 30 -->\n      <g style=\"fill: #262626\" transform=\"translate(306.68616 247.664873) scale(0.11 -0.11)\">\n       <defs>\n        <path id=\"DejaVuSans-33\" d=\"M 2597 2516 \nQ 3050 2419 3304 2112 \nQ 3559 1806 3559 1356 \nQ 3559 666 3084 287 \nQ 2609 -91 1734 -91 \nQ 1441 -91 1130 -33 \nQ 819 25 488 141 \nL 488 750 \nQ 750 597 1062 519 \nQ 1375 441 1716 441 \nQ 2309 441 2620 675 \nQ 2931 909 2931 1356 \nQ 2931 1769 2642 2001 \nQ 2353 2234 1838 2234 \nL 1294 2234 \nL 1294 2753 \nL 1863 2753 \nQ 2328 2753 2575 2939 \nQ 2822 3125 2822 3475 \nQ 2822 3834 2567 4026 \nQ 2313 4219 1838 4219 \nQ 1578 4219 1281 4162 \nQ 984 4106 628 3988 \nL 628 4550 \nQ 988 4650 1302 4700 \nQ 1616 4750 1894 4750 \nQ 2613 4750 3031 4423 \nQ 3450 4097 3450 3541 \nQ 3450 3153 3228 2886 \nQ 3006 2619 2597 2516 \nz\n\" transform=\"scale(0.015625)\"/>\n       </defs>\n       <use xlink:href=\"#DejaVuSans-33\"/>\n       <use xlink:href=\"#DejaVuSans-30\" x=\"63.623047\"/>\n      </g>\n     </g>\n    </g>\n    <g id=\"text_7\">\n     <!-- Number of atoms -->\n     <g style=\"fill: #262626\" transform=\"translate(141.755057 263.070655) scale(0.12 -0.12)\">\n      <defs>\n       <path id=\"DejaVuSans-4e\" d=\"M 628 4666 \nL 1478 4666 \nL 3547 763 \nL 3547 4666 \nL 4159 4666 \nL 4159 0 \nL 3309 0 \nL 1241 3903 \nL 1241 0 \nL 628 0 \nL 628 4666 \nz\n\" transform=\"scale(0.015625)\"/>\n       <path id=\"DejaVuSans-75\" d=\"M 544 1381 \nL 544 3500 \nL 1119 3500 \nL 1119 1403 \nQ 1119 906 1312 657 \nQ 1506 409 1894 409 \nQ 2359 409 2629 706 \nQ 2900 1003 2900 1516 \nL 2900 3500 \nL 3475 3500 \nL 3475 0 \nL 2900 0 \nL 2900 538 \nQ 2691 219 2414 64 \nQ 2138 -91 1772 -91 \nQ 1169 -91 856 284 \nQ 544 659 544 1381 \nz\nM 1991 3584 \nL 1991 3584 \nz\n\" transform=\"scale(0.015625)\"/>\n       <path id=\"DejaVuSans-6d\" d=\"M 3328 2828 \nQ 3544 3216 3844 3400 \nQ 4144 3584 4550 3584 \nQ 5097 3584 5394 3201 \nQ 5691 2819 5691 2113 \nL 5691 0 \nL 5113 0 \nL 5113 2094 \nQ 5113 2597 4934 2840 \nQ 4756 3084 4391 3084 \nQ 3944 3084 3684 2787 \nQ 3425 2491 3425 1978 \nL 3425 0 \nL 2847 0 \nL 2847 2094 \nQ 2847 2600 2669 2842 \nQ 2491 3084 2119 3084 \nQ 1678 3084 1418 2786 \nQ 1159 2488 1159 1978 \nL 1159 0 \nL 581 0 \nL 581 3500 \nL 1159 3500 \nL 1159 2956 \nQ 1356 3278 1631 3431 \nQ 1906 3584 2284 3584 \nQ 2666 3584 2933 3390 \nQ 3200 3197 3328 2828 \nz\n\" transform=\"scale(0.015625)\"/>\n       <path id=\"DejaVuSans-62\" d=\"M 3116 1747 \nQ 3116 2381 2855 2742 \nQ 2594 3103 2138 3103 \nQ 1681 3103 1420 2742 \nQ 1159 2381 1159 1747 \nQ 1159 1113 1420 752 \nQ 1681 391 2138 391 \nQ 2594 391 2855 752 \nQ 3116 1113 3116 1747 \nz\nM 1159 2969 \nQ 1341 3281 1617 3432 \nQ 1894 3584 2278 3584 \nQ 2916 3584 3314 3078 \nQ 3713 2572 3713 1747 \nQ 3713 922 3314 415 \nQ 2916 -91 2278 -91 \nQ 1894 -91 1617 61 \nQ 1341 213 1159 525 \nL 1159 0 \nL 581 0 \nL 581 4863 \nL 1159 4863 \nL 1159 2969 \nz\n\" transform=\"scale(0.015625)\"/>\n       <path id=\"DejaVuSans-65\" d=\"M 3597 1894 \nL 3597 1613 \nL 953 1613 \nQ 991 1019 1311 708 \nQ 1631 397 2203 397 \nQ 2534 397 2845 478 \nQ 3156 559 3463 722 \nL 3463 178 \nQ 3153 47 2828 -22 \nQ 2503 -91 2169 -91 \nQ 1331 -91 842 396 \nQ 353 884 353 1716 \nQ 353 2575 817 3079 \nQ 1281 3584 2069 3584 \nQ 2775 3584 3186 3129 \nQ 3597 2675 3597 1894 \nz\nM 3022 2063 \nQ 3016 2534 2758 2815 \nQ 2500 3097 2075 3097 \nQ 1594 3097 1305 2825 \nQ 1016 2553 972 2059 \nL 3022 2063 \nz\n\" transform=\"scale(0.015625)\"/>\n       <path id=\"DejaVuSans-72\" d=\"M 2631 2963 \nQ 2534 3019 2420 3045 \nQ 2306 3072 2169 3072 \nQ 1681 3072 1420 2755 \nQ 1159 2438 1159 1844 \nL 1159 0 \nL 581 0 \nL 581 3500 \nL 1159 3500 \nL 1159 2956 \nQ 1341 3275 1631 3429 \nQ 1922 3584 2338 3584 \nQ 2397 3584 2469 3576 \nQ 2541 3569 2628 3553 \nL 2631 2963 \nz\n\" transform=\"scale(0.015625)\"/>\n       <path id=\"DejaVuSans-20\" transform=\"scale(0.015625)\"/>\n       <path id=\"DejaVuSans-6f\" d=\"M 1959 3097 \nQ 1497 3097 1228 2736 \nQ 959 2375 959 1747 \nQ 959 1119 1226 758 \nQ 1494 397 1959 397 \nQ 2419 397 2687 759 \nQ 2956 1122 2956 1747 \nQ 2956 2369 2687 2733 \nQ 2419 3097 1959 3097 \nz\nM 1959 3584 \nQ 2709 3584 3137 3096 \nQ 3566 2609 3566 1747 \nQ 3566 888 3137 398 \nQ 2709 -91 1959 -91 \nQ 1206 -91 779 398 \nQ 353 888 353 1747 \nQ 353 2609 779 3096 \nQ 1206 3584 1959 3584 \nz\n\" transform=\"scale(0.015625)\"/>\n       <path id=\"DejaVuSans-66\" d=\"M 2375 4863 \nL 2375 4384 \nL 1825 4384 \nQ 1516 4384 1395 4259 \nQ 1275 4134 1275 3809 \nL 1275 3500 \nL 2222 3500 \nL 2222 3053 \nL 1275 3053 \nL 1275 0 \nL 697 0 \nL 697 3053 \nL 147 3053 \nL 147 3500 \nL 697 3500 \nL 697 3744 \nQ 697 4328 969 4595 \nQ 1241 4863 1831 4863 \nL 2375 4863 \nz\n\" transform=\"scale(0.015625)\"/>\n       <path id=\"DejaVuSans-61\" d=\"M 2194 1759 \nQ 1497 1759 1228 1600 \nQ 959 1441 959 1056 \nQ 959 750 1161 570 \nQ 1363 391 1709 391 \nQ 2188 391 2477 730 \nQ 2766 1069 2766 1631 \nL 2766 1759 \nL 2194 1759 \nz\nM 3341 1997 \nL 3341 0 \nL 2766 0 \nL 2766 531 \nQ 2569 213 2275 61 \nQ 1981 -91 1556 -91 \nQ 1019 -91 701 211 \nQ 384 513 384 1019 \nQ 384 1609 779 1909 \nQ 1175 2209 1959 2209 \nL 2766 2209 \nL 2766 2266 \nQ 2766 2663 2505 2880 \nQ 2244 3097 1772 3097 \nQ 1472 3097 1187 3025 \nQ 903 2953 641 2809 \nL 641 3341 \nQ 956 3463 1253 3523 \nQ 1550 3584 1831 3584 \nQ 2591 3584 2966 3190 \nQ 3341 2797 3341 1997 \nz\n\" transform=\"scale(0.015625)\"/>\n       <path id=\"DejaVuSans-74\" d=\"M 1172 4494 \nL 1172 3500 \nL 2356 3500 \nL 2356 3053 \nL 1172 3053 \nL 1172 1153 \nQ 1172 725 1289 603 \nQ 1406 481 1766 481 \nL 2356 481 \nL 2356 0 \nL 1766 0 \nQ 1100 0 847 248 \nQ 594 497 594 1153 \nL 594 3053 \nL 172 3053 \nL 172 3500 \nL 594 3500 \nL 594 4494 \nL 1172 4494 \nz\n\" transform=\"scale(0.015625)\"/>\n       <path id=\"DejaVuSans-73\" d=\"M 2834 3397 \nL 2834 2853 \nQ 2591 2978 2328 3040 \nQ 2066 3103 1784 3103 \nQ 1356 3103 1142 2972 \nQ 928 2841 928 2578 \nQ 928 2378 1081 2264 \nQ 1234 2150 1697 2047 \nL 1894 2003 \nQ 2506 1872 2764 1633 \nQ 3022 1394 3022 966 \nQ 3022 478 2636 193 \nQ 2250 -91 1575 -91 \nQ 1294 -91 989 -36 \nQ 684 19 347 128 \nL 347 722 \nQ 666 556 975 473 \nQ 1284 391 1588 391 \nQ 1994 391 2212 530 \nQ 2431 669 2431 922 \nQ 2431 1156 2273 1281 \nQ 2116 1406 1581 1522 \nL 1381 1569 \nQ 847 1681 609 1914 \nQ 372 2147 372 2553 \nQ 372 3047 722 3315 \nQ 1072 3584 1716 3584 \nQ 2034 3584 2315 3537 \nQ 2597 3491 2834 3397 \nz\n\" transform=\"scale(0.015625)\"/>\n      </defs>\n      <use xlink:href=\"#DejaVuSans-4e\"/>\n      <use xlink:href=\"#DejaVuSans-75\" x=\"74.804688\"/>\n      <use xlink:href=\"#DejaVuSans-6d\" x=\"138.183594\"/>\n      <use xlink:href=\"#DejaVuSans-62\" x=\"235.595703\"/>\n      <use xlink:href=\"#DejaVuSans-65\" x=\"299.072266\"/>\n      <use xlink:href=\"#DejaVuSans-72\" x=\"360.595703\"/>\n      <use xlink:href=\"#DejaVuSans-20\" x=\"401.708984\"/>\n      <use xlink:href=\"#DejaVuSans-6f\" x=\"433.496094\"/>\n      <use xlink:href=\"#DejaVuSans-66\" x=\"494.677734\"/>\n      <use xlink:href=\"#DejaVuSans-20\" x=\"529.882812\"/>\n      <use xlink:href=\"#DejaVuSans-61\" x=\"561.669922\"/>\n      <use xlink:href=\"#DejaVuSans-74\" x=\"622.949219\"/>\n      <use xlink:href=\"#DejaVuSans-6f\" x=\"662.158203\"/>\n      <use xlink:href=\"#DejaVuSans-6d\" x=\"723.339844\"/>\n      <use xlink:href=\"#DejaVuSans-73\" x=\"820.751953\"/>\n     </g>\n    </g>\n   </g>\n   <g id=\"matplotlib.axis_2\">\n    <g id=\"ytick_1\">\n     <g id=\"line2d_7\">\n      <path d=\"M 67.3075 229.806592 \nL 320.943864 229.806592 \n\" clip-path=\"url(#pcfe8d9cca8)\" style=\"fill: none; stroke: #ffffff; stroke-linecap: round\"/>\n     </g>\n     <g id=\"text_8\">\n      <!-- 0 -->\n      <g style=\"fill: #262626\" transform=\"translate(50.80875 233.985733) scale(0.11 -0.11)\">\n       <use xlink:href=\"#DejaVuSans-30\"/>\n      </g>\n     </g>\n    </g>\n    <g id=\"ytick_2\">\n     <g id=\"line2d_8\">\n      <path d=\"M 67.3075 200.709271 \nL 320.943864 200.709271 \n\" clip-path=\"url(#pcfe8d9cca8)\" style=\"fill: none; stroke: #ffffff; stroke-linecap: round\"/>\n     </g>\n     <g id=\"text_9\">\n      <!-- 2500 -->\n      <g style=\"fill: #262626\" transform=\"translate(29.8125 204.888411) scale(0.11 -0.11)\">\n       <use xlink:href=\"#DejaVuSans-32\"/>\n       <use xlink:href=\"#DejaVuSans-35\" x=\"63.623047\"/>\n       <use xlink:href=\"#DejaVuSans-30\" x=\"127.246094\"/>\n       <use xlink:href=\"#DejaVuSans-30\" x=\"190.869141\"/>\n      </g>\n     </g>\n    </g>\n    <g id=\"ytick_3\">\n     <g id=\"line2d_9\">\n      <path d=\"M 67.3075 171.611949 \nL 320.943864 171.611949 \n\" clip-path=\"url(#pcfe8d9cca8)\" style=\"fill: none; stroke: #ffffff; stroke-linecap: round\"/>\n     </g>\n     <g id=\"text_10\">\n      <!-- 5000 -->\n      <g style=\"fill: #262626\" transform=\"translate(29.8125 175.791089) scale(0.11 -0.11)\">\n       <use xlink:href=\"#DejaVuSans-35\"/>\n       <use xlink:href=\"#DejaVuSans-30\" x=\"63.623047\"/>\n       <use xlink:href=\"#DejaVuSans-30\" x=\"127.246094\"/>\n       <use xlink:href=\"#DejaVuSans-30\" x=\"190.869141\"/>\n      </g>\n     </g>\n    </g>\n    <g id=\"ytick_4\">\n     <g id=\"line2d_10\">\n      <path d=\"M 67.3075 142.514627 \nL 320.943864 142.514627 \n\" clip-path=\"url(#pcfe8d9cca8)\" style=\"fill: none; stroke: #ffffff; stroke-linecap: round\"/>\n     </g>\n     <g id=\"text_11\">\n      <!-- 7500 -->\n      <g style=\"fill: #262626\" transform=\"translate(29.8125 146.693768) scale(0.11 -0.11)\">\n       <defs>\n        <path id=\"DejaVuSans-37\" d=\"M 525 4666 \nL 3525 4666 \nL 3525 4397 \nL 1831 0 \nL 1172 0 \nL 2766 4134 \nL 525 4134 \nL 525 4666 \nz\n\" transform=\"scale(0.015625)\"/>\n       </defs>\n       <use xlink:href=\"#DejaVuSans-37\"/>\n       <use xlink:href=\"#DejaVuSans-35\" x=\"63.623047\"/>\n       <use xlink:href=\"#DejaVuSans-30\" x=\"127.246094\"/>\n       <use xlink:href=\"#DejaVuSans-30\" x=\"190.869141\"/>\n      </g>\n     </g>\n    </g>\n    <g id=\"ytick_5\">\n     <g id=\"line2d_11\">\n      <path d=\"M 67.3075 113.417305 \nL 320.943864 113.417305 \n\" clip-path=\"url(#pcfe8d9cca8)\" style=\"fill: none; stroke: #ffffff; stroke-linecap: round\"/>\n     </g>\n     <g id=\"text_12\">\n      <!-- 10000 -->\n      <g style=\"fill: #262626\" transform=\"translate(22.81375 117.596446) scale(0.11 -0.11)\">\n       <use xlink:href=\"#DejaVuSans-31\"/>\n       <use xlink:href=\"#DejaVuSans-30\" x=\"63.623047\"/>\n       <use xlink:href=\"#DejaVuSans-30\" x=\"127.246094\"/>\n       <use xlink:href=\"#DejaVuSans-30\" x=\"190.869141\"/>\n       <use xlink:href=\"#DejaVuSans-30\" x=\"254.492188\"/>\n      </g>\n     </g>\n    </g>\n    <g id=\"ytick_6\">\n     <g id=\"line2d_12\">\n      <path d=\"M 67.3075 84.319984 \nL 320.943864 84.319984 \n\" clip-path=\"url(#pcfe8d9cca8)\" style=\"fill: none; stroke: #ffffff; stroke-linecap: round\"/>\n     </g>\n     <g id=\"text_13\">\n      <!-- 12500 -->\n      <g style=\"fill: #262626\" transform=\"translate(22.81375 88.499124) scale(0.11 -0.11)\">\n       <use xlink:href=\"#DejaVuSans-31\"/>\n       <use xlink:href=\"#DejaVuSans-32\" x=\"63.623047\"/>\n       <use xlink:href=\"#DejaVuSans-35\" x=\"127.246094\"/>\n       <use xlink:href=\"#DejaVuSans-30\" x=\"190.869141\"/>\n       <use xlink:href=\"#DejaVuSans-30\" x=\"254.492188\"/>\n      </g>\n     </g>\n    </g>\n    <g id=\"ytick_7\">\n     <g id=\"line2d_13\">\n      <path d=\"M 67.3075 55.222662 \nL 320.943864 55.222662 \n\" clip-path=\"url(#pcfe8d9cca8)\" style=\"fill: none; stroke: #ffffff; stroke-linecap: round\"/>\n     </g>\n     <g id=\"text_14\">\n      <!-- 15000 -->\n      <g style=\"fill: #262626\" transform=\"translate(22.81375 59.401803) scale(0.11 -0.11)\">\n       <use xlink:href=\"#DejaVuSans-31\"/>\n       <use xlink:href=\"#DejaVuSans-35\" x=\"63.623047\"/>\n       <use xlink:href=\"#DejaVuSans-30\" x=\"127.246094\"/>\n       <use xlink:href=\"#DejaVuSans-30\" x=\"190.869141\"/>\n       <use xlink:href=\"#DejaVuSans-30\" x=\"254.492188\"/>\n      </g>\n     </g>\n    </g>\n    <g id=\"ytick_8\">\n     <g id=\"line2d_14\">\n      <path d=\"M 67.3075 26.12534 \nL 320.943864 26.12534 \n\" clip-path=\"url(#pcfe8d9cca8)\" style=\"fill: none; stroke: #ffffff; stroke-linecap: round\"/>\n     </g>\n     <g id=\"text_15\">\n      <!-- 17500 -->\n      <g style=\"fill: #262626\" transform=\"translate(22.81375 30.304481) scale(0.11 -0.11)\">\n       <use xlink:href=\"#DejaVuSans-31\"/>\n       <use xlink:href=\"#DejaVuSans-37\" x=\"63.623047\"/>\n       <use xlink:href=\"#DejaVuSans-35\" x=\"127.246094\"/>\n       <use xlink:href=\"#DejaVuSans-30\" x=\"190.869141\"/>\n       <use xlink:href=\"#DejaVuSans-30\" x=\"254.492188\"/>\n      </g>\n     </g>\n    </g>\n    <g id=\"text_16\">\n     <!-- Count -->\n     <g style=\"fill: #262626\" transform=\"translate(16.318125 136.744717) rotate(-90) scale(0.12 -0.12)\">\n      <defs>\n       <path id=\"DejaVuSans-43\" d=\"M 4122 4306 \nL 4122 3641 \nQ 3803 3938 3442 4084 \nQ 3081 4231 2675 4231 \nQ 1875 4231 1450 3742 \nQ 1025 3253 1025 2328 \nQ 1025 1406 1450 917 \nQ 1875 428 2675 428 \nQ 3081 428 3442 575 \nQ 3803 722 4122 1019 \nL 4122 359 \nQ 3791 134 3420 21 \nQ 3050 -91 2638 -91 \nQ 1578 -91 968 557 \nQ 359 1206 359 2328 \nQ 359 3453 968 4101 \nQ 1578 4750 2638 4750 \nQ 3056 4750 3426 4639 \nQ 3797 4528 4122 4306 \nz\n\" transform=\"scale(0.015625)\"/>\n       <path id=\"DejaVuSans-6e\" d=\"M 3513 2113 \nL 3513 0 \nL 2938 0 \nL 2938 2094 \nQ 2938 2591 2744 2837 \nQ 2550 3084 2163 3084 \nQ 1697 3084 1428 2787 \nQ 1159 2491 1159 1978 \nL 1159 0 \nL 581 0 \nL 581 3500 \nL 1159 3500 \nL 1159 2956 \nQ 1366 3272 1645 3428 \nQ 1925 3584 2291 3584 \nQ 2894 3584 3203 3211 \nQ 3513 2838 3513 2113 \nz\n\" transform=\"scale(0.015625)\"/>\n      </defs>\n      <use xlink:href=\"#DejaVuSans-43\"/>\n      <use xlink:href=\"#DejaVuSans-6f\" x=\"69.824219\"/>\n      <use xlink:href=\"#DejaVuSans-75\" x=\"131.005859\"/>\n      <use xlink:href=\"#DejaVuSans-6e\" x=\"194.384766\"/>\n      <use xlink:href=\"#DejaVuSans-74\" x=\"257.763672\"/>\n     </g>\n    </g>\n   </g>\n   <g id=\"patch_3\">\n    <path d=\"M 78.836426 229.806592 \nL 87.376371 229.806592 \nL 87.376371 229.783314 \nL 78.836426 229.783314 \nz\n\" clip-path=\"url(#pcfe8d9cca8)\" style=\"fill: #4c72b0; fill-opacity: 0.75; stroke: #ffffff; stroke-width: 0.853994; stroke-linejoin: miter\"/>\n   </g>\n   <g id=\"patch_4\">\n    <path d=\"M 87.376371 229.806592 \nL 95.916315 229.806592 \nL 95.916315 229.760037 \nL 87.376371 229.760037 \nz\n\" clip-path=\"url(#pcfe8d9cca8)\" style=\"fill: #4c72b0; fill-opacity: 0.75; stroke: #ffffff; stroke-width: 0.853994; stroke-linejoin: miter\"/>\n   </g>\n   <g id=\"patch_5\">\n    <path d=\"M 95.916315 229.806592 \nL 104.45626 229.806592 \nL 104.45626 229.748398 \nL 95.916315 229.748398 \nz\n\" clip-path=\"url(#pcfe8d9cca8)\" style=\"fill: #4c72b0; fill-opacity: 0.75; stroke: #ffffff; stroke-width: 0.853994; stroke-linejoin: miter\"/>\n   </g>\n   <g id=\"patch_6\">\n    <path d=\"M 104.45626 229.806592 \nL 112.996205 229.806592 \nL 112.996205 229.666925 \nL 104.45626 229.666925 \nz\n\" clip-path=\"url(#pcfe8d9cca8)\" style=\"fill: #4c72b0; fill-opacity: 0.75; stroke: #ffffff; stroke-width: 0.853994; stroke-linejoin: miter\"/>\n   </g>\n   <g id=\"patch_7\">\n    <path d=\"M 112.996205 229.806592 \nL 121.53615 229.806592 \nL 121.53615 229.573814 \nL 112.996205 229.573814 \nz\n\" clip-path=\"url(#pcfe8d9cca8)\" style=\"fill: #4c72b0; fill-opacity: 0.75; stroke: #ffffff; stroke-width: 0.853994; stroke-linejoin: miter\"/>\n   </g>\n   <g id=\"patch_8\">\n    <path d=\"M 121.53615 229.806592 \nL 130.076095 229.806592 \nL 130.076095 229.050062 \nL 121.53615 229.050062 \nz\n\" clip-path=\"url(#pcfe8d9cca8)\" style=\"fill: #4c72b0; fill-opacity: 0.75; stroke: #ffffff; stroke-width: 0.853994; stroke-linejoin: miter\"/>\n   </g>\n   <g id=\"patch_9\">\n    <path d=\"M 130.076095 229.806592 \nL 138.61604 229.806592 \nL 138.61604 227.804696 \nL 130.076095 227.804696 \nz\n\" clip-path=\"url(#pcfe8d9cca8)\" style=\"fill: #4c72b0; fill-opacity: 0.75; stroke: #ffffff; stroke-width: 0.853994; stroke-linejoin: miter\"/>\n   </g>\n   <g id=\"patch_10\">\n    <path d=\"M 138.61604 229.806592 \nL 147.155985 229.806592 \nL 147.155985 224.18499 \nL 138.61604 224.18499 \nz\n\" clip-path=\"url(#pcfe8d9cca8)\" style=\"fill: #4c72b0; fill-opacity: 0.75; stroke: #ffffff; stroke-width: 0.853994; stroke-linejoin: miter\"/>\n   </g>\n   <g id=\"patch_11\">\n    <path d=\"M 147.155985 229.806592 \nL 155.69593 229.806592 \nL 155.69593 217.5508 \nL 147.155985 217.5508 \nz\n\" clip-path=\"url(#pcfe8d9cca8)\" style=\"fill: #4c72b0; fill-opacity: 0.75; stroke: #ffffff; stroke-width: 0.853994; stroke-linejoin: miter\"/>\n   </g>\n   <g id=\"patch_12\">\n    <path d=\"M 155.69593 229.806592 \nL 164.235875 229.806592 \nL 164.235875 204.328977 \nL 155.69593 204.328977 \nz\n\" clip-path=\"url(#pcfe8d9cca8)\" style=\"fill: #4c72b0; fill-opacity: 0.75; stroke: #ffffff; stroke-width: 0.853994; stroke-linejoin: miter\"/>\n   </g>\n   <g id=\"patch_13\">\n    <path d=\"M 164.235875 229.806592 \nL 172.77582 229.806592 \nL 172.77582 182.936626 \nL 164.235875 182.936626 \nz\n\" clip-path=\"url(#pcfe8d9cca8)\" style=\"fill: #4c72b0; fill-opacity: 0.75; stroke: #ffffff; stroke-width: 0.853994; stroke-linejoin: miter\"/>\n   </g>\n   <g id=\"patch_14\">\n    <path d=\"M 172.77582 229.806592 \nL 181.315764 229.806592 \nL 181.315764 151.150712 \nL 172.77582 151.150712 \nz\n\" clip-path=\"url(#pcfe8d9cca8)\" style=\"fill: #4c72b0; fill-opacity: 0.75; stroke: #ffffff; stroke-width: 0.853994; stroke-linejoin: miter\"/>\n   </g>\n   <g id=\"patch_15\">\n    <path d=\"M 181.315764 229.806592 \nL 189.855709 229.806592 \nL 189.855709 110.903297 \nL 181.315764 110.903297 \nz\n\" clip-path=\"url(#pcfe8d9cca8)\" style=\"fill: #4c72b0; fill-opacity: 0.75; stroke: #ffffff; stroke-width: 0.853994; stroke-linejoin: miter\"/>\n   </g>\n   <g id=\"patch_16\">\n    <path d=\"M 189.855709 229.806592 \nL 198.395654 229.806592 \nL 198.395654 68.910042 \nL 189.855709 68.910042 \nz\n\" clip-path=\"url(#pcfe8d9cca8)\" style=\"fill: #4c72b0; fill-opacity: 0.75; stroke: #ffffff; stroke-width: 0.853994; stroke-linejoin: miter\"/>\n   </g>\n   <g id=\"patch_17\">\n    <path d=\"M 198.395654 229.806592 \nL 206.935599 229.806592 \nL 206.935599 32.305611 \nL 198.395654 32.305611 \nz\n\" clip-path=\"url(#pcfe8d9cca8)\" style=\"fill: #4c72b0; fill-opacity: 0.75; stroke: #ffffff; stroke-width: 0.853994; stroke-linejoin: miter\"/>\n   </g>\n   <g id=\"patch_18\">\n    <path d=\"M 206.935599 229.806592 \nL 215.475544 229.806592 \nL 215.475544 26.800398 \nL 206.935599 26.800398 \nz\n\" clip-path=\"url(#pcfe8d9cca8)\" style=\"fill: #4c72b0; fill-opacity: 0.75; stroke: #ffffff; stroke-width: 0.853994; stroke-linejoin: miter\"/>\n   </g>\n   <g id=\"patch_19\">\n    <path d=\"M 215.475544 229.806592 \nL 224.015489 229.806592 \nL 224.015489 18.606592 \nL 215.475544 18.606592 \nz\n\" clip-path=\"url(#pcfe8d9cca8)\" style=\"fill: #4c72b0; fill-opacity: 0.75; stroke: #ffffff; stroke-width: 0.853994; stroke-linejoin: miter\"/>\n   </g>\n   <g id=\"patch_20\">\n    <path d=\"M 224.015489 229.806592 \nL 232.555434 229.806592 \nL 232.555434 85.44896 \nL 224.015489 85.44896 \nz\n\" clip-path=\"url(#pcfe8d9cca8)\" style=\"fill: #4c72b0; fill-opacity: 0.75; stroke: #ffffff; stroke-width: 0.853994; stroke-linejoin: miter\"/>\n   </g>\n   <g id=\"patch_21\">\n    <path d=\"M 232.555434 229.806592 \nL 241.095379 229.806592 \nL 241.095379 76.568457 \nL 232.555434 76.568457 \nz\n\" clip-path=\"url(#pcfe8d9cca8)\" style=\"fill: #4c72b0; fill-opacity: 0.75; stroke: #ffffff; stroke-width: 0.853994; stroke-linejoin: miter\"/>\n   </g>\n   <g id=\"patch_22\">\n    <path d=\"M 241.095379 229.806592 \nL 249.635324 229.806592 \nL 249.635324 178.269416 \nL 241.095379 178.269416 \nz\n\" clip-path=\"url(#pcfe8d9cca8)\" style=\"fill: #4c72b0; fill-opacity: 0.75; stroke: #ffffff; stroke-width: 0.853994; stroke-linejoin: miter\"/>\n   </g>\n   <g id=\"patch_23\">\n    <path d=\"M 249.635324 229.806592 \nL 258.175269 229.806592 \nL 258.175269 155.759728 \nL 249.635324 155.759728 \nz\n\" clip-path=\"url(#pcfe8d9cca8)\" style=\"fill: #4c72b0; fill-opacity: 0.75; stroke: #ffffff; stroke-width: 0.853994; stroke-linejoin: miter\"/>\n   </g>\n   <g id=\"patch_24\">\n    <path d=\"M 258.175269 229.806592 \nL 266.715213 229.806592 \nL 266.715213 221.519675 \nL 258.175269 221.519675 \nz\n\" clip-path=\"url(#pcfe8d9cca8)\" style=\"fill: #4c72b0; fill-opacity: 0.75; stroke: #ffffff; stroke-width: 0.853994; stroke-linejoin: miter\"/>\n   </g>\n   <g id=\"patch_25\">\n    <path d=\"M 266.715213 229.806592 \nL 275.255158 229.806592 \nL 275.255158 207.424932 \nL 266.715213 207.424932 \nz\n\" clip-path=\"url(#pcfe8d9cca8)\" style=\"fill: #4c72b0; fill-opacity: 0.75; stroke: #ffffff; stroke-width: 0.853994; stroke-linejoin: miter\"/>\n   </g>\n   <g id=\"patch_26\">\n    <path d=\"M 275.255158 229.806592 \nL 283.795103 229.806592 \nL 283.795103 229.119895 \nL 275.255158 229.119895 \nz\n\" clip-path=\"url(#pcfe8d9cca8)\" style=\"fill: #4c72b0; fill-opacity: 0.75; stroke: #ffffff; stroke-width: 0.853994; stroke-linejoin: miter\"/>\n   </g>\n   <g id=\"patch_27\">\n    <path d=\"M 283.795103 229.806592 \nL 292.335048 229.806592 \nL 292.335048 225.663134 \nL 283.795103 225.663134 \nz\n\" clip-path=\"url(#pcfe8d9cca8)\" style=\"fill: #4c72b0; fill-opacity: 0.75; stroke: #ffffff; stroke-width: 0.853994; stroke-linejoin: miter\"/>\n   </g>\n   <g id=\"patch_28\">\n    <path d=\"M 292.335048 229.806592 \nL 300.874993 229.806592 \nL 300.874993 229.806592 \nL 292.335048 229.806592 \nz\n\" clip-path=\"url(#pcfe8d9cca8)\" style=\"fill: #4c72b0; fill-opacity: 0.75; stroke: #ffffff; stroke-width: 0.853994; stroke-linejoin: miter\"/>\n   </g>\n   <g id=\"patch_29\">\n    <path d=\"M 300.874993 229.806592 \nL 309.414938 229.806592 \nL 309.414938 229.39923 \nL 300.874993 229.39923 \nz\n\" clip-path=\"url(#pcfe8d9cca8)\" style=\"fill: #4c72b0; fill-opacity: 0.75; stroke: #ffffff; stroke-width: 0.853994; stroke-linejoin: miter\"/>\n   </g>\n   <g id=\"patch_30\">\n    <path d=\"M 67.3075 229.806592 \nL 67.3075 8.046592 \n\" style=\"fill: none; stroke: #ffffff; stroke-width: 1.25; stroke-linejoin: miter; stroke-linecap: square\"/>\n   </g>\n   <g id=\"patch_31\">\n    <path d=\"M 320.943864 229.806592 \nL 320.943864 8.046592 \n\" style=\"fill: none; stroke: #ffffff; stroke-width: 1.25; stroke-linejoin: miter; stroke-linecap: square\"/>\n   </g>\n   <g id=\"patch_32\">\n    <path d=\"M 67.3075 229.806592 \nL 320.943864 229.806592 \n\" style=\"fill: none; stroke: #ffffff; stroke-width: 1.25; stroke-linejoin: miter; stroke-linecap: square\"/>\n   </g>\n   <g id=\"patch_33\">\n    <path d=\"M 67.3075 8.046592 \nL 320.943864 8.046592 \n\" style=\"fill: none; stroke: #ffffff; stroke-width: 1.25; stroke-linejoin: miter; stroke-linecap: square\"/>\n   </g>\n  </g>\n  <g id=\"axes_2\">\n   <g id=\"patch_34\">\n    <path d=\"M 371.671136 229.806592 \nL 625.3075 229.806592 \nL 625.3075 8.046592 \nL 371.671136 8.046592 \nz\n\" style=\"fill: #eaeaf2\"/>\n   </g>\n   <g id=\"matplotlib.axis_3\">\n    <g id=\"xtick_7\">\n     <g id=\"line2d_15\">\n      <path d=\"M 379.069908 229.806592 \nL 379.069908 8.046592 \n\" clip-path=\"url(#pe7f9853f01)\" style=\"fill: none; stroke: #ffffff; stroke-linecap: round\"/>\n     </g>\n     <g id=\"text_17\">\n      <!-- 0 -->\n      <g style=\"fill: #262626\" transform=\"translate(375.570533 247.664873) scale(0.11 -0.11)\">\n       <use xlink:href=\"#DejaVuSans-30\"/>\n      </g>\n     </g>\n    </g>\n    <g id=\"xtick_8\">\n     <g id=\"line2d_16\">\n      <path d=\"M 446.931085 229.806592 \nL 446.931085 8.046592 \n\" clip-path=\"url(#pe7f9853f01)\" style=\"fill: none; stroke: #ffffff; stroke-linecap: round\"/>\n     </g>\n     <g id=\"text_18\">\n      <!-- 5 -->\n      <g style=\"fill: #262626\" transform=\"translate(443.43171 247.664873) scale(0.11 -0.11)\">\n       <use xlink:href=\"#DejaVuSans-35\"/>\n      </g>\n     </g>\n    </g>\n    <g id=\"xtick_9\">\n     <g id=\"line2d_17\">\n      <path d=\"M 514.792262 229.806592 \nL 514.792262 8.046592 \n\" clip-path=\"url(#pe7f9853f01)\" style=\"fill: none; stroke: #ffffff; stroke-linecap: round\"/>\n     </g>\n     <g id=\"text_19\">\n      <!-- 10 -->\n      <g style=\"fill: #262626\" transform=\"translate(507.793512 247.664873) scale(0.11 -0.11)\">\n       <use xlink:href=\"#DejaVuSans-31\"/>\n       <use xlink:href=\"#DejaVuSans-30\" x=\"63.623047\"/>\n      </g>\n     </g>\n    </g>\n    <g id=\"xtick_10\">\n     <g id=\"line2d_18\">\n      <path d=\"M 582.65344 229.806592 \nL 582.65344 8.046592 \n\" clip-path=\"url(#pe7f9853f01)\" style=\"fill: none; stroke: #ffffff; stroke-linecap: round\"/>\n     </g>\n     <g id=\"text_20\">\n      <!-- 15 -->\n      <g style=\"fill: #262626\" transform=\"translate(575.65469 247.664873) scale(0.11 -0.11)\">\n       <use xlink:href=\"#DejaVuSans-31\"/>\n       <use xlink:href=\"#DejaVuSans-35\" x=\"63.623047\"/>\n      </g>\n     </g>\n    </g>\n    <g id=\"text_21\">\n     <!-- HOMO-LUMO Gap (eV) -->\n     <g style=\"fill: #262626\" transform=\"translate(431.263068 263.070655) scale(0.12 -0.12)\">\n      <defs>\n       <path id=\"DejaVuSans-48\" d=\"M 628 4666 \nL 1259 4666 \nL 1259 2753 \nL 3553 2753 \nL 3553 4666 \nL 4184 4666 \nL 4184 0 \nL 3553 0 \nL 3553 2222 \nL 1259 2222 \nL 1259 0 \nL 628 0 \nL 628 4666 \nz\n\" transform=\"scale(0.015625)\"/>\n       <path id=\"DejaVuSans-4f\" d=\"M 2522 4238 \nQ 1834 4238 1429 3725 \nQ 1025 3213 1025 2328 \nQ 1025 1447 1429 934 \nQ 1834 422 2522 422 \nQ 3209 422 3611 934 \nQ 4013 1447 4013 2328 \nQ 4013 3213 3611 3725 \nQ 3209 4238 2522 4238 \nz\nM 2522 4750 \nQ 3503 4750 4090 4092 \nQ 4678 3434 4678 2328 \nQ 4678 1225 4090 567 \nQ 3503 -91 2522 -91 \nQ 1538 -91 948 565 \nQ 359 1222 359 2328 \nQ 359 3434 948 4092 \nQ 1538 4750 2522 4750 \nz\n\" transform=\"scale(0.015625)\"/>\n       <path id=\"DejaVuSans-4d\" d=\"M 628 4666 \nL 1569 4666 \nL 2759 1491 \nL 3956 4666 \nL 4897 4666 \nL 4897 0 \nL 4281 0 \nL 4281 4097 \nL 3078 897 \nL 2444 897 \nL 1241 4097 \nL 1241 0 \nL 628 0 \nL 628 4666 \nz\n\" transform=\"scale(0.015625)\"/>\n       <path id=\"DejaVuSans-2d\" d=\"M 313 2009 \nL 1997 2009 \nL 1997 1497 \nL 313 1497 \nL 313 2009 \nz\n\" transform=\"scale(0.015625)\"/>\n       <path id=\"DejaVuSans-4c\" d=\"M 628 4666 \nL 1259 4666 \nL 1259 531 \nL 3531 531 \nL 3531 0 \nL 628 0 \nL 628 4666 \nz\n\" transform=\"scale(0.015625)\"/>\n       <path id=\"DejaVuSans-55\" d=\"M 556 4666 \nL 1191 4666 \nL 1191 1831 \nQ 1191 1081 1462 751 \nQ 1734 422 2344 422 \nQ 2950 422 3222 751 \nQ 3494 1081 3494 1831 \nL 3494 4666 \nL 4128 4666 \nL 4128 1753 \nQ 4128 841 3676 375 \nQ 3225 -91 2344 -91 \nQ 1459 -91 1007 375 \nQ 556 841 556 1753 \nL 556 4666 \nz\n\" transform=\"scale(0.015625)\"/>\n       <path id=\"DejaVuSans-47\" d=\"M 3809 666 \nL 3809 1919 \nL 2778 1919 \nL 2778 2438 \nL 4434 2438 \nL 4434 434 \nQ 4069 175 3628 42 \nQ 3188 -91 2688 -91 \nQ 1594 -91 976 548 \nQ 359 1188 359 2328 \nQ 359 3472 976 4111 \nQ 1594 4750 2688 4750 \nQ 3144 4750 3555 4637 \nQ 3966 4525 4313 4306 \nL 4313 3634 \nQ 3963 3931 3569 4081 \nQ 3175 4231 2741 4231 \nQ 1884 4231 1454 3753 \nQ 1025 3275 1025 2328 \nQ 1025 1384 1454 906 \nQ 1884 428 2741 428 \nQ 3075 428 3337 486 \nQ 3600 544 3809 666 \nz\n\" transform=\"scale(0.015625)\"/>\n       <path id=\"DejaVuSans-70\" d=\"M 1159 525 \nL 1159 -1331 \nL 581 -1331 \nL 581 3500 \nL 1159 3500 \nL 1159 2969 \nQ 1341 3281 1617 3432 \nQ 1894 3584 2278 3584 \nQ 2916 3584 3314 3078 \nQ 3713 2572 3713 1747 \nQ 3713 922 3314 415 \nQ 2916 -91 2278 -91 \nQ 1894 -91 1617 61 \nQ 1341 213 1159 525 \nz\nM 3116 1747 \nQ 3116 2381 2855 2742 \nQ 2594 3103 2138 3103 \nQ 1681 3103 1420 2742 \nQ 1159 2381 1159 1747 \nQ 1159 1113 1420 752 \nQ 1681 391 2138 391 \nQ 2594 391 2855 752 \nQ 3116 1113 3116 1747 \nz\n\" transform=\"scale(0.015625)\"/>\n       <path id=\"DejaVuSans-28\" d=\"M 1984 4856 \nQ 1566 4138 1362 3434 \nQ 1159 2731 1159 2009 \nQ 1159 1288 1364 580 \nQ 1569 -128 1984 -844 \nL 1484 -844 \nQ 1016 -109 783 600 \nQ 550 1309 550 2009 \nQ 550 2706 781 3412 \nQ 1013 4119 1484 4856 \nL 1984 4856 \nz\n\" transform=\"scale(0.015625)\"/>\n       <path id=\"DejaVuSans-56\" d=\"M 1831 0 \nL 50 4666 \nL 709 4666 \nL 2188 738 \nL 3669 4666 \nL 4325 4666 \nL 2547 0 \nL 1831 0 \nz\n\" transform=\"scale(0.015625)\"/>\n       <path id=\"DejaVuSans-29\" d=\"M 513 4856 \nL 1013 4856 \nQ 1481 4119 1714 3412 \nQ 1947 2706 1947 2009 \nQ 1947 1309 1714 600 \nQ 1481 -109 1013 -844 \nL 513 -844 \nQ 928 -128 1133 580 \nQ 1338 1288 1338 2009 \nQ 1338 2731 1133 3434 \nQ 928 4138 513 4856 \nz\n\" transform=\"scale(0.015625)\"/>\n      </defs>\n      <use xlink:href=\"#DejaVuSans-48\"/>\n      <use xlink:href=\"#DejaVuSans-4f\" x=\"75.195312\"/>\n      <use xlink:href=\"#DejaVuSans-4d\" x=\"153.90625\"/>\n      <use xlink:href=\"#DejaVuSans-4f\" x=\"240.185547\"/>\n      <use xlink:href=\"#DejaVuSans-2d\" x=\"321.646484\"/>\n      <use xlink:href=\"#DejaVuSans-4c\" x=\"357.730469\"/>\n      <use xlink:href=\"#DejaVuSans-55\" x=\"408.443359\"/>\n      <use xlink:href=\"#DejaVuSans-4d\" x=\"481.636719\"/>\n      <use xlink:href=\"#DejaVuSans-4f\" x=\"567.916016\"/>\n      <use xlink:href=\"#DejaVuSans-20\" x=\"646.626953\"/>\n      <use xlink:href=\"#DejaVuSans-47\" x=\"678.414062\"/>\n      <use xlink:href=\"#DejaVuSans-61\" x=\"755.904297\"/>\n      <use xlink:href=\"#DejaVuSans-70\" x=\"817.183594\"/>\n      <use xlink:href=\"#DejaVuSans-20\" x=\"880.660156\"/>\n      <use xlink:href=\"#DejaVuSans-28\" x=\"912.447266\"/>\n      <use xlink:href=\"#DejaVuSans-65\" x=\"951.460938\"/>\n      <use xlink:href=\"#DejaVuSans-56\" x=\"1012.984375\"/>\n      <use xlink:href=\"#DejaVuSans-29\" x=\"1081.392578\"/>\n     </g>\n    </g>\n   </g>\n   <g id=\"matplotlib.axis_4\">\n    <g id=\"ytick_9\">\n     <g id=\"line2d_19\">\n      <path d=\"M 371.671136 229.806592 \nL 625.3075 229.806592 \n\" clip-path=\"url(#pe7f9853f01)\" style=\"fill: none; stroke: #ffffff; stroke-linecap: round\"/>\n     </g>\n     <g id=\"text_22\">\n      <!-- 0.00 -->\n      <g style=\"fill: #262626\" transform=\"translate(337.678949 233.985733) scale(0.11 -0.11)\">\n       <defs>\n        <path id=\"DejaVuSans-2e\" d=\"M 684 794 \nL 1344 794 \nL 1344 0 \nL 684 0 \nL 684 794 \nz\n\" transform=\"scale(0.015625)\"/>\n       </defs>\n       <use xlink:href=\"#DejaVuSans-30\"/>\n       <use xlink:href=\"#DejaVuSans-2e\" x=\"63.623047\"/>\n       <use xlink:href=\"#DejaVuSans-30\" x=\"95.410156\"/>\n       <use xlink:href=\"#DejaVuSans-30\" x=\"159.033203\"/>\n      </g>\n     </g>\n    </g>\n    <g id=\"ytick_10\">\n     <g id=\"line2d_20\">\n      <path d=\"M 371.671136 198.602671 \nL 625.3075 198.602671 \n\" clip-path=\"url(#pe7f9853f01)\" style=\"fill: none; stroke: #ffffff; stroke-linecap: round\"/>\n     </g>\n     <g id=\"text_23\">\n      <!-- 0.05 -->\n      <g style=\"fill: #262626\" transform=\"translate(337.678949 202.781811) scale(0.11 -0.11)\">\n       <use xlink:href=\"#DejaVuSans-30\"/>\n       <use xlink:href=\"#DejaVuSans-2e\" x=\"63.623047\"/>\n       <use xlink:href=\"#DejaVuSans-30\" x=\"95.410156\"/>\n       <use xlink:href=\"#DejaVuSans-35\" x=\"159.033203\"/>\n      </g>\n     </g>\n    </g>\n    <g id=\"ytick_11\">\n     <g id=\"line2d_21\">\n      <path d=\"M 371.671136 167.398749 \nL 625.3075 167.398749 \n\" clip-path=\"url(#pe7f9853f01)\" style=\"fill: none; stroke: #ffffff; stroke-linecap: round\"/>\n     </g>\n     <g id=\"text_24\">\n      <!-- 0.10 -->\n      <g style=\"fill: #262626\" transform=\"translate(337.678949 171.57789) scale(0.11 -0.11)\">\n       <use xlink:href=\"#DejaVuSans-30\"/>\n       <use xlink:href=\"#DejaVuSans-2e\" x=\"63.623047\"/>\n       <use xlink:href=\"#DejaVuSans-31\" x=\"95.410156\"/>\n       <use xlink:href=\"#DejaVuSans-30\" x=\"159.033203\"/>\n      </g>\n     </g>\n    </g>\n    <g id=\"ytick_12\">\n     <g id=\"line2d_22\">\n      <path d=\"M 371.671136 136.194827 \nL 625.3075 136.194827 \n\" clip-path=\"url(#pe7f9853f01)\" style=\"fill: none; stroke: #ffffff; stroke-linecap: round\"/>\n     </g>\n     <g id=\"text_25\">\n      <!-- 0.15 -->\n      <g style=\"fill: #262626\" transform=\"translate(337.678949 140.373968) scale(0.11 -0.11)\">\n       <use xlink:href=\"#DejaVuSans-30\"/>\n       <use xlink:href=\"#DejaVuSans-2e\" x=\"63.623047\"/>\n       <use xlink:href=\"#DejaVuSans-31\" x=\"95.410156\"/>\n       <use xlink:href=\"#DejaVuSans-35\" x=\"159.033203\"/>\n      </g>\n     </g>\n    </g>\n    <g id=\"ytick_13\">\n     <g id=\"line2d_23\">\n      <path d=\"M 371.671136 104.990906 \nL 625.3075 104.990906 \n\" clip-path=\"url(#pe7f9853f01)\" style=\"fill: none; stroke: #ffffff; stroke-linecap: round\"/>\n     </g>\n     <g id=\"text_26\">\n      <!-- 0.20 -->\n      <g style=\"fill: #262626\" transform=\"translate(337.678949 109.170046) scale(0.11 -0.11)\">\n       <use xlink:href=\"#DejaVuSans-30\"/>\n       <use xlink:href=\"#DejaVuSans-2e\" x=\"63.623047\"/>\n       <use xlink:href=\"#DejaVuSans-32\" x=\"95.410156\"/>\n       <use xlink:href=\"#DejaVuSans-30\" x=\"159.033203\"/>\n      </g>\n     </g>\n    </g>\n    <g id=\"ytick_14\">\n     <g id=\"line2d_24\">\n      <path d=\"M 371.671136 73.786984 \nL 625.3075 73.786984 \n\" clip-path=\"url(#pe7f9853f01)\" style=\"fill: none; stroke: #ffffff; stroke-linecap: round\"/>\n     </g>\n     <g id=\"text_27\">\n      <!-- 0.25 -->\n      <g style=\"fill: #262626\" transform=\"translate(337.678949 77.966125) scale(0.11 -0.11)\">\n       <use xlink:href=\"#DejaVuSans-30\"/>\n       <use xlink:href=\"#DejaVuSans-2e\" x=\"63.623047\"/>\n       <use xlink:href=\"#DejaVuSans-32\" x=\"95.410156\"/>\n       <use xlink:href=\"#DejaVuSans-35\" x=\"159.033203\"/>\n      </g>\n     </g>\n    </g>\n    <g id=\"ytick_15\">\n     <g id=\"line2d_25\">\n      <path d=\"M 371.671136 42.583062 \nL 625.3075 42.583062 \n\" clip-path=\"url(#pe7f9853f01)\" style=\"fill: none; stroke: #ffffff; stroke-linecap: round\"/>\n     </g>\n     <g id=\"text_28\">\n      <!-- 0.30 -->\n      <g style=\"fill: #262626\" transform=\"translate(337.678949 46.762203) scale(0.11 -0.11)\">\n       <use xlink:href=\"#DejaVuSans-30\"/>\n       <use xlink:href=\"#DejaVuSans-2e\" x=\"63.623047\"/>\n       <use xlink:href=\"#DejaVuSans-33\" x=\"95.410156\"/>\n       <use xlink:href=\"#DejaVuSans-30\" x=\"159.033203\"/>\n      </g>\n     </g>\n    </g>\n    <g id=\"ytick_16\">\n     <g id=\"line2d_26\">\n      <path d=\"M 371.671136 11.379141 \nL 625.3075 11.379141 \n\" clip-path=\"url(#pe7f9853f01)\" style=\"fill: none; stroke: #ffffff; stroke-linecap: round\"/>\n     </g>\n     <g id=\"text_29\">\n      <!-- 0.35 -->\n      <g style=\"fill: #262626\" transform=\"translate(337.678949 15.558281) scale(0.11 -0.11)\">\n       <use xlink:href=\"#DejaVuSans-30\"/>\n       <use xlink:href=\"#DejaVuSans-2e\" x=\"63.623047\"/>\n       <use xlink:href=\"#DejaVuSans-33\" x=\"95.410156\"/>\n       <use xlink:href=\"#DejaVuSans-35\" x=\"159.033203\"/>\n      </g>\n     </g>\n    </g>\n    <g id=\"text_30\">\n     <!-- Density -->\n     <g style=\"fill: #262626\" transform=\"translate(331.183324 141.736905) rotate(-90) scale(0.12 -0.12)\">\n      <defs>\n       <path id=\"DejaVuSans-44\" d=\"M 1259 4147 \nL 1259 519 \nL 2022 519 \nQ 2988 519 3436 956 \nQ 3884 1394 3884 2338 \nQ 3884 3275 3436 3711 \nQ 2988 4147 2022 4147 \nL 1259 4147 \nz\nM 628 4666 \nL 1925 4666 \nQ 3281 4666 3915 4102 \nQ 4550 3538 4550 2338 \nQ 4550 1131 3912 565 \nQ 3275 0 1925 0 \nL 628 0 \nL 628 4666 \nz\n\" transform=\"scale(0.015625)\"/>\n       <path id=\"DejaVuSans-69\" d=\"M 603 3500 \nL 1178 3500 \nL 1178 0 \nL 603 0 \nL 603 3500 \nz\nM 603 4863 \nL 1178 4863 \nL 1178 4134 \nL 603 4134 \nL 603 4863 \nz\n\" transform=\"scale(0.015625)\"/>\n       <path id=\"DejaVuSans-79\" d=\"M 2059 -325 \nQ 1816 -950 1584 -1140 \nQ 1353 -1331 966 -1331 \nL 506 -1331 \nL 506 -850 \nL 844 -850 \nQ 1081 -850 1212 -737 \nQ 1344 -625 1503 -206 \nL 1606 56 \nL 191 3500 \nL 800 3500 \nL 1894 763 \nL 2988 3500 \nL 3597 3500 \nL 2059 -325 \nz\n\" transform=\"scale(0.015625)\"/>\n      </defs>\n      <use xlink:href=\"#DejaVuSans-44\"/>\n      <use xlink:href=\"#DejaVuSans-65\" x=\"77.001953\"/>\n      <use xlink:href=\"#DejaVuSans-6e\" x=\"138.525391\"/>\n      <use xlink:href=\"#DejaVuSans-73\" x=\"201.904297\"/>\n      <use xlink:href=\"#DejaVuSans-69\" x=\"254.003906\"/>\n      <use xlink:href=\"#DejaVuSans-74\" x=\"281.787109\"/>\n      <use xlink:href=\"#DejaVuSans-79\" x=\"320.996094\"/>\n     </g>\n    </g>\n   </g>\n   <g id=\"line2d_27\">\n    <path d=\"M 383.200062 229.806419 \nL 405.215096 229.692685 \nL 416.801956 229.383927 \nL 421.4367 228.801716 \nL 423.754072 228.271513 \nL 424.912758 227.895006 \nL 426.071444 227.381021 \nL 427.23013 226.640365 \nL 428.388816 225.556283 \nL 429.547502 224.015652 \nL 430.706188 221.906608 \nL 431.864874 219.179812 \nL 433.02356 215.854089 \nL 435.340932 207.809758 \nL 439.975676 190.777164 \nL 442.293048 183.343383 \nL 444.61042 174.328286 \nL 445.769106 169.416696 \nL 446.927792 163.827616 \nL 448.086478 156.940384 \nL 450.40385 140.30365 \nL 451.562536 130.010276 \nL 452.721222 116.916579 \nL 455.038593 83.635945 \nL 458.514651 34.36344 \nL 459.673337 22.103921 \nL 460.832023 18.606592 \nL 461.990709 26.264402 \nL 463.149395 42.376219 \nL 464.308081 60.652231 \nL 465.466767 74.958829 \nL 466.625453 82.583851 \nL 467.784139 83.825383 \nL 468.942825 80.811423 \nL 470.101511 77.30682 \nL 471.260197 76.095337 \nL 472.418883 76.575912 \nL 473.577569 76.687843 \nL 474.736255 75.957402 \nL 475.894941 74.986349 \nL 477.053627 73.864041 \nL 478.212313 73.162185 \nL 479.370999 74.471364 \nL 480.529685 78.816376 \nL 481.688371 86.115588 \nL 484.005743 104.11885 \nL 485.164429 110.712151 \nL 486.323115 114.002053 \nL 487.481801 113.229887 \nL 488.640487 108.763637 \nL 489.799173 102.834805 \nL 490.957859 98.311238 \nL 492.116545 96.362965 \nL 493.275231 96.2744 \nL 494.433917 98.025653 \nL 495.592603 102.900043 \nL 496.751289 111.207716 \nL 497.909975 121.685045 \nL 500.227347 145.618208 \nL 503.703405 184.531023 \nL 504.862091 195.965677 \nL 506.020777 205.577759 \nL 507.179463 212.826731 \nL 508.338149 217.776349 \nL 509.496835 221.013065 \nL 510.655521 223.097143 \nL 511.814207 224.412726 \nL 512.972893 225.256254 \nL 516.448951 227.032639 \nL 519.925009 228.67965 \nL 521.083695 229.029588 \nL 523.401067 229.366642 \nL 526.877125 229.603318 \nL 544.257415 229.782043 \nL 559.320333 229.803242 \nL 606.826458 229.799063 \nL 613.778574 229.806419 \nL 613.778574 229.806419 \n\" clip-path=\"url(#pe7f9853f01)\" style=\"fill: none; stroke: #4c72b0; stroke-width: 1.5; stroke-linecap: round\"/>\n   </g>\n   <g id=\"patch_35\">\n    <path d=\"M 371.671136 229.806592 \nL 371.671136 8.046592 \n\" style=\"fill: none; stroke: #ffffff; stroke-width: 1.25; stroke-linejoin: miter; stroke-linecap: square\"/>\n   </g>\n   <g id=\"patch_36\">\n    <path d=\"M 625.3075 229.806592 \nL 625.3075 8.046592 \n\" style=\"fill: none; stroke: #ffffff; stroke-width: 1.25; stroke-linejoin: miter; stroke-linecap: square\"/>\n   </g>\n   <g id=\"patch_37\">\n    <path d=\"M 371.671136 229.806592 \nL 625.3075 229.806592 \n\" style=\"fill: none; stroke: #ffffff; stroke-width: 1.25; stroke-linejoin: miter; stroke-linecap: square\"/>\n   </g>\n   <g id=\"patch_38\">\n    <path d=\"M 371.671136 8.046592 \nL 625.3075 8.046592 \n\" style=\"fill: none; stroke: #ffffff; stroke-width: 1.25; stroke-linejoin: miter; stroke-linecap: square\"/>\n   </g>\n  </g>\n </g>\n <defs>\n  <clipPath id=\"pcfe8d9cca8\">\n   <rect x=\"67.3075\" y=\"8.046592\" width=\"253.636364\" height=\"221.76\"/>\n  </clipPath>\n  <clipPath id=\"pe7f9853f01\">\n   <rect x=\"371.671136\" y=\"8.046592\" width=\"253.636364\" height=\"221.76\"/>\n  </clipPath>\n </defs>\n</svg>\n",
      "text/plain": [
       "<Figure size 1000x400 with 2 Axes>"
      ]
     },
     "metadata": {},
     "output_type": "display_data"
    }
   ],
   "source": [
    "h = plt.figure(figsize=[10, 4])\n",
    "sns.histplot(data=df, x=df.columns[0], ax=plt.subplot(1, 2, 1), discrete=True)\n",
    "sns.kdeplot(data=df, x=df.columns[1], ax=plt.subplot(1, 2, 2));"
   ]
  },
  {
   "cell_type": "markdown",
   "metadata": {},
   "source": [
    "## Data Loading and Batching\n",
    "\n",
    "PyG provides a specialized version of the native PyTorch [torch.utils.data.DataLoader](https://pytorch.org/docs/stable/data.html):\n",
    "\n",
    "* [torch_geometric.data.DataLoader](https://pytorch-geometric.readthedocs.io/en/latest/modules/data.html#torch_geometric.data.DataLoader)\n",
    "\n",
    "\n",
    "The PyG dataloader supports a form of mini-batching which is [described here](https://pytorch-geometric.readthedocs.io/en/latest/notes/batching.html).  Effectively each mini-batch is a concatenation of multiple graphs (molecules in QM9).  Another way to understand this is that each mini-batch is one large graph comprised of multiple disconnected sub-graphs.  The PyG dataloader will generate a `batch` vector that assigns each feature in the mini-batch into a distinct subgraph.  This is useful for message passing networks (such as SchNet) and pooling layers to produce a distinct regression prediction for each molecule. Refer to the following tutorials for additional background:\n",
    "\n",
    "* [Creating message passing networks](https://pytorch-geometric.readthedocs.io/en/latest/notes/create_gnn.html)\n",
    "* [Global Pooling Layers](https://pytorch-geometric.readthedocs.io/en/latest/modules/nn.html?highlight=pooling#global-pooling-layers)\n",
    "\n",
    "This mini-batching approach needs to be adapted for the IPU since the tensor sizes will vary from batch to batch.  This can be observed in the following cell where tensors such as `batch`, `z`, and `pos` all have different sizes between the first two batches of the QM9 dataset. "
   ]
  },
  {
   "cell_type": "code",
   "execution_count": 9,
   "metadata": {},
   "outputs": [
    {
     "data": {
      "text/plain": [
       "(DataBatch(x=[16, 11], edge_index=[2, 24], edge_attr=[24, 4], y=[4, 19], pos=[16, 3], idx=[4], name=[4], z=[16], batch=[16], ptr=[5]),\n",
       " DataBatch(x=[21, 11], edge_index=[2, 34], edge_attr=[34, 4], y=[4, 19], pos=[21, 3], idx=[4], name=[4], z=[21], batch=[21], ptr=[5]))"
      ]
     },
     "execution_count": 9,
     "metadata": {},
     "output_type": "execute_result"
    }
   ],
   "source": [
    "loader = DataLoader(dataset, batch_size=4)\n",
    "\n",
    "it = iter(loader)\n",
    "next(it), next(it)"
   ]
  },
  {
   "cell_type": "markdown",
   "metadata": {},
   "source": [
    "### SchNet Model Architecture\n",
    "\n",
    "![SchNet Architecture](./static_resources/schnet_arch.png \"SchNet Architecture\")\n",
    "\n",
    "The diagram above demonstrates the overall architecture of the SchNet model.  The main inputs to the model are:\n",
    "* $(Z_1, Z_2, \\ldots, Z_n)$ : A vector of atomic numbers which are used as input to the atom-wise embedding layer.\n",
    "* $(\\mathbf{r}_1, \\mathbf{r}_2, \\ldots, \\mathbf{r}_n)$: An `[n, 3]` tensor of atomic positions.\n",
    "\n",
    "The graph is defined by considering each atom as a node and the edges are defined by:\n",
    "* placing a sphere of radius $r_\\textrm{cut}$ centered on each atom.\n",
    "* connecting neighbouring atoms that fall within the cutoff sphere with an undirected edge.\n",
    "\n",
    "The rationale for using this cutoff sphere is to bound the maximum number of atoms that are connected to each other so that the computational cost grows linearly with the number of atoms in the system.\n",
    "\n",
    "By default the inter-atomic interaction graph will be computed using the `radius_graph` [method](https://pytorch-geometric.readthedocs.io/en/latest/modules/nn.html#torch_geometric.nn.pool.radius_graph) in PyTorch Geometric."
   ]
  },
  {
   "cell_type": "markdown",
   "metadata": {},
   "source": [
    "### IPU implementation of SchNet\n",
    "\n",
    "General support for PyTorch on the IPU is accomplished through ahead-of-time compilation with PopTorch. The compiler performs static analysis over the input tensors and the computational graph to optimise the evaluation on the IPU.  To fully leverage these optimisations for the SchNet architecture we need to enforce consistent tensors sizes for all:\n",
    "* operations used within the model.\n",
    "* mini-batches of molecular graphs that are inputs to the model.\n",
    "\n",
    "We first identify that the default interaction graph method using `radius_graph` will by definition create a variable number of edges depending on the geometric structure of the molecule.  This is unfriendly for the ahead-of-time compilation in PopTorch but we can reformulate the interaction graph as a k-nearest neighbours search.  We use the `interaction_graph` argument to the PyTorch Geometric SchNet [implementation](https://pytorch-geometric.readthedocs.io/en/latest/modules/nn.html#torch_geometric.nn.models.SchNet) to compute the pairwise interaction graph and interatomic distances.\n",
    "\n",
    "We can use a simple \"pad-to-max\" method for preparing mini-batches with consistent tensor shapes.  To accomplish this we need to define non-interacting padding atoms.  These padding atoms are defined as having atomic charge zero and are placed far enough away from any real atoms to avoid any edges between these padding atoms and any real atoms.\n",
    "\n",
    "Refer `pyg_schnet_util.py` file for the implementation details that are needed to fully realise an efficient evaulation of the SchNet GNN on the IPU."
   ]
  },
  {
   "cell_type": "code",
   "execution_count": 10,
   "metadata": {},
   "outputs": [],
   "source": [
    "from pyg_schnet_util import (TrainingModule, KNNInteractionGraph,\n",
    "                             create_transform, create_dataloader)"
   ]
  },
  {
   "cell_type": "markdown",
   "metadata": {},
   "source": [
    "As a basic sanity check we can compile the SchNet model with PopTorch and check that we get the same prediction as running the model on the host CPU.\n",
    "\n",
    "Prepare a mock batch consisting of a single graph. The transforms generate the implicit edges between all pairs of atoms in the molecule."
   ]
  },
  {
   "cell_type": "code",
   "execution_count": 11,
   "metadata": {},
   "outputs": [
    {
     "data": {
      "text/plain": [
       "DataBatch(x=[5, 11], edge_index=[2, 8], edge_attr=[8, 4], y=[1, 19], pos=[5, 3], idx=[1], name=[1], z=[5], batch=[5], ptr=[2])"
      ]
     },
     "execution_count": 11,
     "metadata": {},
     "output_type": "execute_result"
    }
   ],
   "source": [
    "batch = Batch.from_data_list([dataset[0]])\n",
    "batch"
   ]
  },
  {
   "cell_type": "markdown",
   "metadata": {},
   "source": [
    "Evaluate the network on the CPU with randomly initialised weights using a fixed random seed"
   ]
  },
  {
   "cell_type": "code",
   "execution_count": 12,
   "metadata": {},
   "outputs": [
    {
     "data": {
      "text/plain": [
       "tensor([[6.9818]], grad_fn=<ScatterAddBackward0>)"
      ]
     },
     "execution_count": 12,
     "metadata": {},
     "output_type": "execute_result"
    }
   ],
   "source": [
    "torch.manual_seed(0)\n",
    "cutoff = 10.0\n",
    "model = SchNet(cutoff=cutoff)\n",
    "model.eval()\n",
    "cpu = model(batch.z, batch.pos, batch.batch)\n",
    "cpu"
   ]
  },
  {
   "cell_type": "markdown",
   "metadata": {},
   "source": [
    "Now evaluate the network on the IPU"
   ]
  },
  {
   "cell_type": "code",
   "execution_count": 13,
   "metadata": {},
   "outputs": [
    {
     "name": "stderr",
     "output_type": "stream",
     "text": [
      "Graph compilation: 100%|██████████| 100/100 [00:00<00:00]\n"
     ]
    },
    {
     "data": {
      "text/plain": [
       "tensor([[6.9818]])"
      ]
     },
     "execution_count": 13,
     "metadata": {},
     "output_type": "execute_result"
    }
   ],
   "source": [
    "from torch_geometric import optional_validation\n",
    "\n",
    "with optional_validation(False):\n",
    "    poptorch.setLogLevel('ERR')\n",
    "    torch.manual_seed(0)\n",
    "    knn_graph = KNNInteractionGraph(cutoff=cutoff, k=batch.num_nodes - 1)\n",
    "    model = SchNet(cutoff=cutoff, interaction_graph=knn_graph)\n",
    "    model = to_fixed_size(model, batch_size=1)\n",
    "    options = poptorch.Options()\n",
    "    options.enableExecutableCaching(executable_cache_dir)\n",
    "    pop_model = poptorch.inferenceModel(model, options)\n",
    "    ipu = pop_model(batch.z, batch.pos, batch.batch)\n",
    "\n",
    "ipu\n"
   ]
  },
  {
   "cell_type": "markdown",
   "metadata": {},
   "source": [
    "The predictions must be the same"
   ]
  },
  {
   "cell_type": "code",
   "execution_count": 14,
   "metadata": {},
   "outputs": [
    {
     "data": {
      "text/plain": [
       "True"
      ]
     },
     "execution_count": 14,
     "metadata": {},
     "output_type": "execute_result"
    }
   ],
   "source": [
    "torch.allclose(cpu, ipu)"
   ]
  },
  {
   "cell_type": "markdown",
   "metadata": {},
   "source": [
    "### Padding\n",
    "The easiest way to get up and running on the IPU with the QM9 dataset is just to apply padding to the input tensors. This results in every example in the dataset being expanded up to the size of the largest molecule.  This expansion comes at the cost of additional padding nodes and edges.\n",
    "\n",
    "We use the `PadMolecule` [transform](https://pytorch-geometric.readthedocs.io/en/latest/modules/transforms.html).  This transform modifies each `Data` instance in the dataset to have `max_num_atoms` nodes.\n",
    "\n",
    "The `PadMolecule` transform is defined in `pyg_schnet_util.py` along with a function that builds an entire data pre-processing pipeline.\n",
    "\n",
    "We can explore how the pipeline converts an input molecule into one that is padded up to the maximum graph size in the dataset.  An experiment to try is to change the value of `i` to explore the data."
   ]
  },
  {
   "cell_type": "code",
   "execution_count": 15,
   "metadata": {},
   "outputs": [
    {
     "data": {
      "text/plain": [
       "(Data(x=[4, 11], edge_index=[2, 6], edge_attr=[6, 4], y=[1, 19], pos=[4, 3], idx=[1], name='gdb_2', z=[4]),\n",
       " Data(y=9.249149322509766, pos=[32, 3], z=[32], num_nodes=32))"
      ]
     },
     "execution_count": 15,
     "metadata": {},
     "output_type": "execute_result"
    }
   ],
   "source": [
    "transform = create_transform(cutoff=cutoff, max_num_atoms=32)\n",
    "\n",
    "i = 1\n",
    "dataset[i], transform(dataset[i])"
   ]
  },
  {
   "cell_type": "markdown",
   "metadata": {},
   "source": [
    "The next sanity check is to verify that the padding hasn't introduced any numerical artifacts in the resulting prediction.  Once again we prepare a mock batch consisting of a single graph but apply the transform we made earlier by calling `create_transform`"
   ]
  },
  {
   "cell_type": "code",
   "execution_count": 16,
   "metadata": {},
   "outputs": [
    {
     "data": {
      "text/plain": [
       "DataBatch(y=[1], pos=[32, 3], z=[32], num_nodes=32, batch=[32], ptr=[2])"
      ]
     },
     "execution_count": 16,
     "metadata": {},
     "output_type": "execute_result"
    }
   ],
   "source": [
    "data = transform(dataset[0])\n",
    "batch = Batch.from_data_list([data])\n",
    "batch"
   ]
  },
  {
   "cell_type": "markdown",
   "metadata": {},
   "source": [
    "Evaluate the network on the host with randomly initialised weights using a fixed random seed and the padded batch"
   ]
  },
  {
   "cell_type": "code",
   "execution_count": 17,
   "metadata": {},
   "outputs": [
    {
     "data": {
      "text/plain": [
       "tensor([[6.9818]], grad_fn=<ScatterAddBackward0>)"
      ]
     },
     "execution_count": 17,
     "metadata": {},
     "output_type": "execute_result"
    }
   ],
   "source": [
    "torch.manual_seed(0)\n",
    "model = SchNet(cutoff=cutoff)\n",
    "model.eval()\n",
    "padded_cpu = model(batch.z, batch.pos, batch.batch)\n",
    "padded_cpu"
   ]
  },
  {
   "cell_type": "markdown",
   "metadata": {},
   "source": [
    "The result should be the same as the one we calculated earlier without any padding"
   ]
  },
  {
   "cell_type": "code",
   "execution_count": 18,
   "metadata": {},
   "outputs": [
    {
     "data": {
      "text/plain": [
       "True"
      ]
     },
     "execution_count": 18,
     "metadata": {},
     "output_type": "execute_result"
    }
   ],
   "source": [
    "torch.allclose(cpu, padded_cpu)"
   ]
  },
  {
   "cell_type": "markdown",
   "metadata": {},
   "source": [
    "Now evaluate the same test using the IPU"
   ]
  },
  {
   "cell_type": "code",
   "execution_count": 19,
   "metadata": {},
   "outputs": [
    {
     "name": "stderr",
     "output_type": "stream",
     "text": [
      "Graph compilation: 100%|██████████| 100/100 [00:00<00:00]\n"
     ]
    },
    {
     "data": {
      "text/plain": [
       "tensor([[6.9818]])"
      ]
     },
     "execution_count": 19,
     "metadata": {},
     "output_type": "execute_result"
    }
   ],
   "source": [
    "with optional_validation(False):\n",
    "    torch.manual_seed(0)\n",
    "    knn_graph = KNNInteractionGraph(cutoff=cutoff, k=batch.num_nodes - 1)\n",
    "    model = SchNet(cutoff=cutoff, interaction_graph=knn_graph)\n",
    "    model = to_fixed_size(model, batch_size=1)\n",
    "    options = poptorch.Options()\n",
    "    options.enableExecutableCaching(executable_cache_dir)\n",
    "    pop_model = poptorch.inferenceModel(model, options)\n",
    "    padded_ipu = pop_model(batch.z, batch.pos, batch.batch)\n",
    "\n",
    "padded_ipu"
   ]
  },
  {
   "cell_type": "markdown",
   "metadata": {},
   "source": [
    "The predictions must be the same as calculated earlier without any paddding"
   ]
  },
  {
   "cell_type": "code",
   "execution_count": 20,
   "metadata": {},
   "outputs": [
    {
     "data": {
      "text/plain": [
       "True"
      ]
     },
     "execution_count": 20,
     "metadata": {},
     "output_type": "execute_result"
    }
   ],
   "source": [
    "torch.allclose(ipu, padded_ipu)"
   ]
  },
  {
   "cell_type": "markdown",
   "metadata": {},
   "source": [
    "### Efficient data loading for the IPU\n",
    "\n",
    "PopTorch provides a custom data loader implementation that can be used for efficient data batching and transfers between the host and IPU device.  Please refer to the following resources for additional background:\n",
    "* PopTorch documentation [Efficient data batching](https://docs.graphcore.ai/projects/poptorch-user-guide/en/latest/batching.html#efficient-data-batching)\n",
    "* PopTorch tutorial: [Efficient data loading](https://github.com/graphcore/tutorials/tree/sdk-release-2.5/tutorials/pytorch/tut2_efficient_data_loading)\n",
    "\n",
    "Below we define a custom collater that leverages the PyG graph batching for the IPU.  This collator ensures that advanced batching scenarios such as data-parallel training, multiple device iterations, and gradient accumulation are handled correctly. These concepts are all covered in much greater detail in the resources above."
   ]
  },
  {
   "cell_type": "markdown",
   "metadata": {},
   "source": [
    "Next we define a helper function that creates an instance of `poptorch.DataLoader` that uses the collator defined above."
   ]
  },
  {
   "cell_type": "markdown",
   "metadata": {},
   "source": [
    "### Putting everything together to train SchNet\n",
    "\n",
    "We can now train SchNet on the IPU using all of the concepts introduced earlier.  To start with we shuffle and split the dataset into testing, validation, and training splits."
   ]
  },
  {
   "cell_type": "code",
   "execution_count": 21,
   "metadata": {},
   "outputs": [
    {
     "name": "stdout",
     "output_type": "stream",
     "text": [
      "Number of test molecules: 10000\n",
      "Number of validation molecules: 10000\n",
      "Number of training molecules: 110831\n"
     ]
    }
   ],
   "source": [
    "num_test = 10000\n",
    "num_val = 10000\n",
    "torch.manual_seed(0)\n",
    "dataset.transform = create_transform(cutoff, 32)\n",
    "dataset = dataset.shuffle()\n",
    "test_dataset = dataset[:num_test]\n",
    "val_dataset = dataset[num_test:num_test + num_val]\n",
    "train_dataset = dataset[num_test + num_val:]\n",
    "\n",
    "print(f\"Number of test molecules: {len(test_dataset)}\\n\"\n",
    "      f\"Number of validation molecules: {len(val_dataset)}\\n\"\n",
    "      f\"Number of training molecules: {len(train_dataset)}\")\n"
   ]
  },
  {
   "cell_type": "markdown",
   "metadata": {},
   "source": [
    "Setup the hyperparameters for training the network.  These can be changed to explore the different trade-offs they offer in terms of training accuracy and performance throughput."
   ]
  },
  {
   "cell_type": "code",
   "execution_count": 22,
   "metadata": {},
   "outputs": [],
   "source": [
    "batch_size = 16\n",
    "replication_factor = number_of_ipus\n",
    "device_iterations = 16\n",
    "gradient_accumulation = 1\n",
    "num_dataloader_workers = 8\n",
    "learning_rate = 1e-3\n",
    "num_epochs = 20"
   ]
  },
  {
   "cell_type": "markdown",
   "metadata": {},
   "source": [
    "Create the `poptorch.Options` object with the right parameters setup"
   ]
  },
  {
   "cell_type": "code",
   "execution_count": 23,
   "metadata": {},
   "outputs": [],
   "source": [
    "options = poptorch.Options()\n",
    "options.enableExecutableCaching(executable_cache_dir)\n",
    "options.outputMode(poptorch.OutputMode.All)\n",
    "options.deviceIterations(device_iterations)\n",
    "options.replicationFactor(replication_factor)\n",
    "options.Training.gradientAccumulation(gradient_accumulation);\n"
   ]
  },
  {
   "cell_type": "markdown",
   "metadata": {},
   "source": [
    "Create the SchNet model and pre-compile for the IPU"
   ]
  },
  {
   "cell_type": "code",
   "execution_count": 24,
   "metadata": {},
   "outputs": [
    {
     "name": "stderr",
     "output_type": "stream",
     "text": [
      "Graph compilation: 100%|██████████| 100/100 [00:01<00:00]\n",
      "WARNING: The compile time engine option debug.branchRecordTile is set to \"23551\" when creating the Engine. (At compile-tile it was set to 1471)\n"
     ]
    }
   ],
   "source": [
    "train_loader = create_dataloader(train_dataset,\n",
    "                                 options,\n",
    "                                 batch_size,\n",
    "                                 shuffle=True,\n",
    "                                 num_workers=num_dataloader_workers)\n",
    "\n",
    "torch.manual_seed(0)\n",
    "knn_graph = KNNInteractionGraph(cutoff=cutoff, k=32)\n",
    "model = SchNet(cutoff=cutoff, interaction_graph=knn_graph)\n",
    "model.train()\n",
    "model = TrainingModule(model, batch_size=batch_size)\n",
    "optimizer = poptorch.optim.AdamW(model.parameters(), lr=learning_rate)\n",
    "model = poptorch.trainingModel(model, options, optimizer)\n",
    "\n",
    "data = next(iter(train_loader))\n",
    "with optional_validation(False):\n",
    "    model.compile(*data)"
   ]
  },
  {
   "cell_type": "markdown",
   "metadata": {},
   "source": [
    "Train the model with the selected hyperparameters and log the mean loss from each batch."
   ]
  },
  {
   "cell_type": "code",
   "execution_count": 25,
   "metadata": {},
   "outputs": [
    {
     "name": "stderr",
     "output_type": "stream",
     "text": [
      "Epoch 0 loss: 0.452845: 100%|██████████| 27/27 [00:05<00:00,  4.92it/s] \n",
      "Epoch 1 loss: 0.332811: 100%|██████████| 27/27 [00:03<00:00,  7.38it/s]\n",
      "Epoch 2 loss: 0.306375: 100%|██████████| 27/27 [00:03<00:00,  7.62it/s]\n",
      "Epoch 3 loss: 0.258212: 100%|██████████| 27/27 [00:03<00:00,  7.53it/s]\n",
      "Epoch 4 loss: 0.242286: 100%|██████████| 27/27 [00:03<00:00,  7.63it/s]\n",
      "Epoch 5 loss: 0.202138: 100%|██████████| 27/27 [00:04<00:00,  5.87it/s]\n",
      "Epoch 6 loss: 0.190190: 100%|██████████| 27/27 [00:03<00:00,  7.56it/s]\n",
      "Epoch 7 loss: 0.168588: 100%|██████████| 27/27 [00:03<00:00,  7.43it/s]\n",
      "Epoch 8 loss: 0.153015: 100%|██████████| 27/27 [00:03<00:00,  7.55it/s]\n",
      "Epoch 9 loss: 0.157754: 100%|██████████| 27/27 [00:04<00:00,  5.94it/s]\n",
      "Epoch 10 loss: 0.137397: 100%|██████████| 27/27 [00:03<00:00,  7.27it/s]\n",
      "Epoch 11 loss: 0.133227: 100%|██████████| 27/27 [00:03<00:00,  7.37it/s]\n",
      "Epoch 12 loss: 0.137626: 100%|██████████| 27/27 [00:03<00:00,  7.47it/s]\n",
      "Epoch 13 loss: 0.119036: 100%|██████████| 27/27 [00:04<00:00,  6.51it/s]\n",
      "Epoch 14 loss: 0.100096: 100%|██████████| 27/27 [00:04<00:00,  5.97it/s]\n",
      "Epoch 15 loss: 0.098911: 100%|██████████| 27/27 [00:03<00:00,  7.56it/s]\n",
      "Epoch 16 loss: 0.111370: 100%|██████████| 27/27 [00:03<00:00,  7.61it/s]\n",
      "Epoch 17 loss: 0.088091: 100%|██████████| 27/27 [00:03<00:00,  7.29it/s]\n",
      "Epoch 18 loss: 0.080742: 100%|██████████| 27/27 [00:04<00:00,  5.41it/s]\n",
      "Epoch 19 loss: 0.079391: 100%|██████████| 27/27 [00:03<00:00,  7.52it/s]\n"
     ]
    }
   ],
   "source": [
    "train = []\n",
    "\n",
    "for epoch in range(num_epochs):\n",
    "    bar = tqdm(train_loader)\n",
    "    for i, data in enumerate(bar):\n",
    "        _, mini_batch_loss = model(*data)\n",
    "        loss = float(mini_batch_loss.mean())\n",
    "        train.append({'epoch': epoch, 'step': i, 'loss': loss})\n",
    "        bar.set_description(f\"Epoch {epoch} loss: {loss:0.6f}\")\n"
   ]
  },
  {
   "cell_type": "markdown",
   "metadata": {},
   "source": [
    "Plot the mean of the loss"
   ]
  },
  {
   "cell_type": "code",
   "execution_count": 26,
   "metadata": {},
   "outputs": [
    {
     "data": {
      "image/png": "[encoded data removed]",
      "image/svg+xml": "<?xml version=\"1.0\" encoding=\"utf-8\" standalone=\"no\"?>\n<!DOCTYPE svg PUBLIC \"-//W3C//DTD SVG 1.1//EN\"\n  \"http://www.w3.org/Graphics/SVG/1.1/DTD/svg11.dtd\">\n<svg xmlns:xlink=\"http://www.w3.org/1999/xlink\" width=\"421.125937pt\" height=\"316.271687pt\" viewBox=\"0 0 421.125937 316.271687\" xmlns=\"http://www.w3.org/2000/svg\" version=\"1.1\">\n <metadata>\n  <rdf:RDF xmlns:dc=\"http://purl.org/dc/elements/1.1/\" xmlns:cc=\"http://creativecommons.org/ns#\" xmlns:rdf=\"http://www.w3.org/1999/02/22-rdf-syntax-ns#\">\n   <cc:Work>\n    <dc:type rdf:resource=\"http://purl.org/dc/dcmitype/StillImage\"/>\n    <dc:date>2022-12-01T16:35:14.056521</dc:date>\n    <dc:format>image/svg+xml</dc:format>\n    <dc:creator>\n     <cc:Agent>\n      <dc:title>Matplotlib v3.6.0, https://matplotlib.org/</dc:title>\n     </cc:Agent>\n    </dc:creator>\n   </cc:Work>\n  </rdf:RDF>\n </metadata>\n <defs>\n  <style type=\"text/css\">*{stroke-linejoin: round; stroke-linecap: butt}</style>\n </defs>\n <g id=\"figure_1\">\n  <g id=\"patch_1\">\n   <path d=\"M 0 316.271687 \nL 421.125937 316.271687 \nL 421.125937 0 \nL 0 0 \nz\n\" style=\"fill: #ffffff\"/>\n  </g>\n  <g id=\"axes_1\">\n   <g id=\"patch_2\">\n    <path d=\"M 56.805937 273.312 \nL 413.925938 273.312 \nL 413.925938 7.2 \nL 56.805937 7.2 \nz\n\" style=\"fill: #eaeaf2\"/>\n   </g>\n   <g id=\"matplotlib.axis_1\">\n    <g id=\"xtick_1\">\n     <g id=\"line2d_1\">\n      <path d=\"M 56.805937 273.312 \nL 56.805937 7.2 \n\" clip-path=\"url(#p2249da0436)\" style=\"fill: none; stroke: #ffffff; stroke-linecap: round\"/>\n     </g>\n     <g id=\"text_1\">\n      <!-- 0 -->\n      <g style=\"fill: #262626\" transform=\"translate(53.306562 291.170281) scale(0.11 -0.11)\">\n       <defs>\n        <path id=\"DejaVuSans-30\" d=\"M 2034 4250 \nQ 1547 4250 1301 3770 \nQ 1056 3291 1056 2328 \nQ 1056 1369 1301 889 \nQ 1547 409 2034 409 \nQ 2525 409 2770 889 \nQ 3016 1369 3016 2328 \nQ 3016 3291 2770 3770 \nQ 2525 4250 2034 4250 \nz\nM 2034 4750 \nQ 2819 4750 3233 4129 \nQ 3647 3509 3647 2328 \nQ 3647 1150 3233 529 \nQ 2819 -91 2034 -91 \nQ 1250 -91 836 529 \nQ 422 1150 422 2328 \nQ 422 3509 836 4129 \nQ 1250 4750 2034 4750 \nz\n\" transform=\"scale(0.015625)\"/>\n       </defs>\n       <use xlink:href=\"#DejaVuSans-30\"/>\n      </g>\n     </g>\n    </g>\n    <g id=\"xtick_2\">\n     <g id=\"line2d_2\">\n      <path d=\"M 92.697395 273.312 \nL 92.697395 7.2 \n\" clip-path=\"url(#p2249da0436)\" style=\"fill: none; stroke: #ffffff; stroke-linecap: round\"/>\n     </g>\n     <g id=\"text_2\">\n      <!-- 2 -->\n      <g style=\"fill: #262626\" transform=\"translate(89.19802 291.170281) scale(0.11 -0.11)\">\n       <defs>\n        <path id=\"DejaVuSans-32\" d=\"M 1228 531 \nL 3431 531 \nL 3431 0 \nL 469 0 \nL 469 531 \nQ 828 903 1448 1529 \nQ 2069 2156 2228 2338 \nQ 2531 2678 2651 2914 \nQ 2772 3150 2772 3378 \nQ 2772 3750 2511 3984 \nQ 2250 4219 1831 4219 \nQ 1534 4219 1204 4116 \nQ 875 4013 500 3803 \nL 500 4441 \nQ 881 4594 1212 4672 \nQ 1544 4750 1819 4750 \nQ 2544 4750 2975 4387 \nQ 3406 4025 3406 3419 \nQ 3406 3131 3298 2873 \nQ 3191 2616 2906 2266 \nQ 2828 2175 2409 1742 \nQ 1991 1309 1228 531 \nz\n\" transform=\"scale(0.015625)\"/>\n       </defs>\n       <use xlink:href=\"#DejaVuSans-32\"/>\n      </g>\n     </g>\n    </g>\n    <g id=\"xtick_3\">\n     <g id=\"line2d_3\">\n      <path d=\"M 128.588852 273.312 \nL 128.588852 7.2 \n\" clip-path=\"url(#p2249da0436)\" style=\"fill: none; stroke: #ffffff; stroke-linecap: round\"/>\n     </g>\n     <g id=\"text_3\">\n      <!-- 4 -->\n      <g style=\"fill: #262626\" transform=\"translate(125.089477 291.170281) scale(0.11 -0.11)\">\n       <defs>\n        <path id=\"DejaVuSans-34\" d=\"M 2419 4116 \nL 825 1625 \nL 2419 1625 \nL 2419 4116 \nz\nM 2253 4666 \nL 3047 4666 \nL 3047 1625 \nL 3713 1625 \nL 3713 1100 \nL 3047 1100 \nL 3047 0 \nL 2419 0 \nL 2419 1100 \nL 313 1100 \nL 313 1709 \nL 2253 4666 \nz\n\" transform=\"scale(0.015625)\"/>\n       </defs>\n       <use xlink:href=\"#DejaVuSans-34\"/>\n      </g>\n     </g>\n    </g>\n    <g id=\"xtick_4\">\n     <g id=\"line2d_4\">\n      <path d=\"M 164.480309 273.312 \nL 164.480309 7.2 \n\" clip-path=\"url(#p2249da0436)\" style=\"fill: none; stroke: #ffffff; stroke-linecap: round\"/>\n     </g>\n     <g id=\"text_4\">\n      <!-- 6 -->\n      <g style=\"fill: #262626\" transform=\"translate(160.980934 291.170281) scale(0.11 -0.11)\">\n       <defs>\n        <path id=\"DejaVuSans-36\" d=\"M 2113 2584 \nQ 1688 2584 1439 2293 \nQ 1191 2003 1191 1497 \nQ 1191 994 1439 701 \nQ 1688 409 2113 409 \nQ 2538 409 2786 701 \nQ 3034 994 3034 1497 \nQ 3034 2003 2786 2293 \nQ 2538 2584 2113 2584 \nz\nM 3366 4563 \nL 3366 3988 \nQ 3128 4100 2886 4159 \nQ 2644 4219 2406 4219 \nQ 1781 4219 1451 3797 \nQ 1122 3375 1075 2522 \nQ 1259 2794 1537 2939 \nQ 1816 3084 2150 3084 \nQ 2853 3084 3261 2657 \nQ 3669 2231 3669 1497 \nQ 3669 778 3244 343 \nQ 2819 -91 2113 -91 \nQ 1303 -91 875 529 \nQ 447 1150 447 2328 \nQ 447 3434 972 4092 \nQ 1497 4750 2381 4750 \nQ 2619 4750 2861 4703 \nQ 3103 4656 3366 4563 \nz\n\" transform=\"scale(0.015625)\"/>\n       </defs>\n       <use xlink:href=\"#DejaVuSans-36\"/>\n      </g>\n     </g>\n    </g>\n    <g id=\"xtick_5\">\n     <g id=\"line2d_5\">\n      <path d=\"M 200.371767 273.312 \nL 200.371767 7.2 \n\" clip-path=\"url(#p2249da0436)\" style=\"fill: none; stroke: #ffffff; stroke-linecap: round\"/>\n     </g>\n     <g id=\"text_5\">\n      <!-- 8 -->\n      <g style=\"fill: #262626\" transform=\"translate(196.872392 291.170281) scale(0.11 -0.11)\">\n       <defs>\n        <path id=\"DejaVuSans-38\" d=\"M 2034 2216 \nQ 1584 2216 1326 1975 \nQ 1069 1734 1069 1313 \nQ 1069 891 1326 650 \nQ 1584 409 2034 409 \nQ 2484 409 2743 651 \nQ 3003 894 3003 1313 \nQ 3003 1734 2745 1975 \nQ 2488 2216 2034 2216 \nz\nM 1403 2484 \nQ 997 2584 770 2862 \nQ 544 3141 544 3541 \nQ 544 4100 942 4425 \nQ 1341 4750 2034 4750 \nQ 2731 4750 3128 4425 \nQ 3525 4100 3525 3541 \nQ 3525 3141 3298 2862 \nQ 3072 2584 2669 2484 \nQ 3125 2378 3379 2068 \nQ 3634 1759 3634 1313 \nQ 3634 634 3220 271 \nQ 2806 -91 2034 -91 \nQ 1263 -91 848 271 \nQ 434 634 434 1313 \nQ 434 1759 690 2068 \nQ 947 2378 1403 2484 \nz\nM 1172 3481 \nQ 1172 3119 1398 2916 \nQ 1625 2713 2034 2713 \nQ 2441 2713 2670 2916 \nQ 2900 3119 2900 3481 \nQ 2900 3844 2670 4047 \nQ 2441 4250 2034 4250 \nQ 1625 4250 1398 4047 \nQ 1172 3844 1172 3481 \nz\n\" transform=\"scale(0.015625)\"/>\n       </defs>\n       <use xlink:href=\"#DejaVuSans-38\"/>\n      </g>\n     </g>\n    </g>\n    <g id=\"xtick_6\">\n     <g id=\"line2d_6\">\n      <path d=\"M 236.263224 273.312 \nL 236.263224 7.2 \n\" clip-path=\"url(#p2249da0436)\" style=\"fill: none; stroke: #ffffff; stroke-linecap: round\"/>\n     </g>\n     <g id=\"text_6\">\n      <!-- 10 -->\n      <g style=\"fill: #262626\" transform=\"translate(229.264474 291.170281) scale(0.11 -0.11)\">\n       <defs>\n        <path id=\"DejaVuSans-31\" d=\"M 794 531 \nL 1825 531 \nL 1825 4091 \nL 703 3866 \nL 703 4441 \nL 1819 4666 \nL 2450 4666 \nL 2450 531 \nL 3481 531 \nL 3481 0 \nL 794 0 \nL 794 531 \nz\n\" transform=\"scale(0.015625)\"/>\n       </defs>\n       <use xlink:href=\"#DejaVuSans-31\"/>\n       <use xlink:href=\"#DejaVuSans-30\" x=\"63.623047\"/>\n      </g>\n     </g>\n    </g>\n    <g id=\"xtick_7\">\n     <g id=\"line2d_7\">\n      <path d=\"M 272.154681 273.312 \nL 272.154681 7.2 \n\" clip-path=\"url(#p2249da0436)\" style=\"fill: none; stroke: #ffffff; stroke-linecap: round\"/>\n     </g>\n     <g id=\"text_7\">\n      <!-- 12 -->\n      <g style=\"fill: #262626\" transform=\"translate(265.155931 291.170281) scale(0.11 -0.11)\">\n       <use xlink:href=\"#DejaVuSans-31\"/>\n       <use xlink:href=\"#DejaVuSans-32\" x=\"63.623047\"/>\n      </g>\n     </g>\n    </g>\n    <g id=\"xtick_8\">\n     <g id=\"line2d_8\">\n      <path d=\"M 308.046139 273.312 \nL 308.046139 7.2 \n\" clip-path=\"url(#p2249da0436)\" style=\"fill: none; stroke: #ffffff; stroke-linecap: round\"/>\n     </g>\n     <g id=\"text_8\">\n      <!-- 14 -->\n      <g style=\"fill: #262626\" transform=\"translate(301.047389 291.170281) scale(0.11 -0.11)\">\n       <use xlink:href=\"#DejaVuSans-31\"/>\n       <use xlink:href=\"#DejaVuSans-34\" x=\"63.623047\"/>\n      </g>\n     </g>\n    </g>\n    <g id=\"xtick_9\">\n     <g id=\"line2d_9\">\n      <path d=\"M 343.937596 273.312 \nL 343.937596 7.2 \n\" clip-path=\"url(#p2249da0436)\" style=\"fill: none; stroke: #ffffff; stroke-linecap: round\"/>\n     </g>\n     <g id=\"text_9\">\n      <!-- 16 -->\n      <g style=\"fill: #262626\" transform=\"translate(336.938846 291.170281) scale(0.11 -0.11)\">\n       <use xlink:href=\"#DejaVuSans-31\"/>\n       <use xlink:href=\"#DejaVuSans-36\" x=\"63.623047\"/>\n      </g>\n     </g>\n    </g>\n    <g id=\"xtick_10\">\n     <g id=\"line2d_10\">\n      <path d=\"M 379.829053 273.312 \nL 379.829053 7.2 \n\" clip-path=\"url(#p2249da0436)\" style=\"fill: none; stroke: #ffffff; stroke-linecap: round\"/>\n     </g>\n     <g id=\"text_10\">\n      <!-- 18 -->\n      <g style=\"fill: #262626\" transform=\"translate(372.830303 291.170281) scale(0.11 -0.11)\">\n       <use xlink:href=\"#DejaVuSans-31\"/>\n       <use xlink:href=\"#DejaVuSans-38\" x=\"63.623047\"/>\n      </g>\n     </g>\n    </g>\n    <g id=\"text_11\">\n     <!-- epoch -->\n     <g style=\"fill: #262626\" transform=\"translate(217.092187 306.576062) scale(0.12 -0.12)\">\n      <defs>\n       <path id=\"DejaVuSans-65\" d=\"M 3597 1894 \nL 3597 1613 \nL 953 1613 \nQ 991 1019 1311 708 \nQ 1631 397 2203 397 \nQ 2534 397 2845 478 \nQ 3156 559 3463 722 \nL 3463 178 \nQ 3153 47 2828 -22 \nQ 2503 -91 2169 -91 \nQ 1331 -91 842 396 \nQ 353 884 353 1716 \nQ 353 2575 817 3079 \nQ 1281 3584 2069 3584 \nQ 2775 3584 3186 3129 \nQ 3597 2675 3597 1894 \nz\nM 3022 2063 \nQ 3016 2534 2758 2815 \nQ 2500 3097 2075 3097 \nQ 1594 3097 1305 2825 \nQ 1016 2553 972 2059 \nL 3022 2063 \nz\n\" transform=\"scale(0.015625)\"/>\n       <path id=\"DejaVuSans-70\" d=\"M 1159 525 \nL 1159 -1331 \nL 581 -1331 \nL 581 3500 \nL 1159 3500 \nL 1159 2969 \nQ 1341 3281 1617 3432 \nQ 1894 3584 2278 3584 \nQ 2916 3584 3314 3078 \nQ 3713 2572 3713 1747 \nQ 3713 922 3314 415 \nQ 2916 -91 2278 -91 \nQ 1894 -91 1617 61 \nQ 1341 213 1159 525 \nz\nM 3116 1747 \nQ 3116 2381 2855 2742 \nQ 2594 3103 2138 3103 \nQ 1681 3103 1420 2742 \nQ 1159 2381 1159 1747 \nQ 1159 1113 1420 752 \nQ 1681 391 2138 391 \nQ 2594 391 2855 752 \nQ 3116 1113 3116 1747 \nz\n\" transform=\"scale(0.015625)\"/>\n       <path id=\"DejaVuSans-6f\" d=\"M 1959 3097 \nQ 1497 3097 1228 2736 \nQ 959 2375 959 1747 \nQ 959 1119 1226 758 \nQ 1494 397 1959 397 \nQ 2419 397 2687 759 \nQ 2956 1122 2956 1747 \nQ 2956 2369 2687 2733 \nQ 2419 3097 1959 3097 \nz\nM 1959 3584 \nQ 2709 3584 3137 3096 \nQ 3566 2609 3566 1747 \nQ 3566 888 3137 398 \nQ 2709 -91 1959 -91 \nQ 1206 -91 779 398 \nQ 353 888 353 1747 \nQ 353 2609 779 3096 \nQ 1206 3584 1959 3584 \nz\n\" transform=\"scale(0.015625)\"/>\n       <path id=\"DejaVuSans-63\" d=\"M 3122 3366 \nL 3122 2828 \nQ 2878 2963 2633 3030 \nQ 2388 3097 2138 3097 \nQ 1578 3097 1268 2742 \nQ 959 2388 959 1747 \nQ 959 1106 1268 751 \nQ 1578 397 2138 397 \nQ 2388 397 2633 464 \nQ 2878 531 3122 666 \nL 3122 134 \nQ 2881 22 2623 -34 \nQ 2366 -91 2075 -91 \nQ 1284 -91 818 406 \nQ 353 903 353 1747 \nQ 353 2603 823 3093 \nQ 1294 3584 2113 3584 \nQ 2378 3584 2631 3529 \nQ 2884 3475 3122 3366 \nz\n\" transform=\"scale(0.015625)\"/>\n       <path id=\"DejaVuSans-68\" d=\"M 3513 2113 \nL 3513 0 \nL 2938 0 \nL 2938 2094 \nQ 2938 2591 2744 2837 \nQ 2550 3084 2163 3084 \nQ 1697 3084 1428 2787 \nQ 1159 2491 1159 1978 \nL 1159 0 \nL 581 0 \nL 581 4863 \nL 1159 4863 \nL 1159 2956 \nQ 1366 3272 1645 3428 \nQ 1925 3584 2291 3584 \nQ 2894 3584 3203 3211 \nQ 3513 2838 3513 2113 \nz\n\" transform=\"scale(0.015625)\"/>\n      </defs>\n      <use xlink:href=\"#DejaVuSans-65\"/>\n      <use xlink:href=\"#DejaVuSans-70\" x=\"61.523438\"/>\n      <use xlink:href=\"#DejaVuSans-6f\" x=\"125\"/>\n      <use xlink:href=\"#DejaVuSans-63\" x=\"186.181641\"/>\n      <use xlink:href=\"#DejaVuSans-68\" x=\"241.162109\"/>\n     </g>\n    </g>\n   </g>\n   <g id=\"matplotlib.axis_2\">\n    <g id=\"ytick_1\">\n     <g id=\"line2d_11\">\n      <path d=\"M 56.805937 242.113767 \nL 413.925938 242.113767 \n\" clip-path=\"url(#p2249da0436)\" style=\"fill: none; stroke: #ffffff; stroke-linecap: round\"/>\n     </g>\n     <g id=\"text_12\">\n      <!-- 0.10 -->\n      <g style=\"fill: #262626\" transform=\"translate(22.81375 246.292908) scale(0.11 -0.11)\">\n       <defs>\n        <path id=\"DejaVuSans-2e\" d=\"M 684 794 \nL 1344 794 \nL 1344 0 \nL 684 0 \nL 684 794 \nz\n\" transform=\"scale(0.015625)\"/>\n       </defs>\n       <use xlink:href=\"#DejaVuSans-30\"/>\n       <use xlink:href=\"#DejaVuSans-2e\" x=\"63.623047\"/>\n       <use xlink:href=\"#DejaVuSans-31\" x=\"95.410156\"/>\n       <use xlink:href=\"#DejaVuSans-30\" x=\"159.033203\"/>\n      </g>\n     </g>\n    </g>\n    <g id=\"ytick_2\">\n     <g id=\"line2d_12\">\n      <path d=\"M 56.805937 206.569996 \nL 413.925938 206.569996 \n\" clip-path=\"url(#p2249da0436)\" style=\"fill: none; stroke: #ffffff; stroke-linecap: round\"/>\n     </g>\n     <g id=\"text_13\">\n      <!-- 0.15 -->\n      <g style=\"fill: #262626\" transform=\"translate(22.81375 210.749137) scale(0.11 -0.11)\">\n       <defs>\n        <path id=\"DejaVuSans-35\" d=\"M 691 4666 \nL 3169 4666 \nL 3169 4134 \nL 1269 4134 \nL 1269 2991 \nQ 1406 3038 1543 3061 \nQ 1681 3084 1819 3084 \nQ 2600 3084 3056 2656 \nQ 3513 2228 3513 1497 \nQ 3513 744 3044 326 \nQ 2575 -91 1722 -91 \nQ 1428 -91 1123 -41 \nQ 819 9 494 109 \nL 494 744 \nQ 775 591 1075 516 \nQ 1375 441 1709 441 \nQ 2250 441 2565 725 \nQ 2881 1009 2881 1497 \nQ 2881 1984 2565 2268 \nQ 2250 2553 1709 2553 \nQ 1456 2553 1204 2497 \nQ 953 2441 691 2322 \nL 691 4666 \nz\n\" transform=\"scale(0.015625)\"/>\n       </defs>\n       <use xlink:href=\"#DejaVuSans-30\"/>\n       <use xlink:href=\"#DejaVuSans-2e\" x=\"63.623047\"/>\n       <use xlink:href=\"#DejaVuSans-31\" x=\"95.410156\"/>\n       <use xlink:href=\"#DejaVuSans-35\" x=\"159.033203\"/>\n      </g>\n     </g>\n    </g>\n    <g id=\"ytick_3\">\n     <g id=\"line2d_13\">\n      <path d=\"M 56.805937 171.026225 \nL 413.925938 171.026225 \n\" clip-path=\"url(#p2249da0436)\" style=\"fill: none; stroke: #ffffff; stroke-linecap: round\"/>\n     </g>\n     <g id=\"text_14\">\n      <!-- 0.20 -->\n      <g style=\"fill: #262626\" transform=\"translate(22.81375 175.205366) scale(0.11 -0.11)\">\n       <use xlink:href=\"#DejaVuSans-30\"/>\n       <use xlink:href=\"#DejaVuSans-2e\" x=\"63.623047\"/>\n       <use xlink:href=\"#DejaVuSans-32\" x=\"95.410156\"/>\n       <use xlink:href=\"#DejaVuSans-30\" x=\"159.033203\"/>\n      </g>\n     </g>\n    </g>\n    <g id=\"ytick_4\">\n     <g id=\"line2d_14\">\n      <path d=\"M 56.805937 135.482454 \nL 413.925938 135.482454 \n\" clip-path=\"url(#p2249da0436)\" style=\"fill: none; stroke: #ffffff; stroke-linecap: round\"/>\n     </g>\n     <g id=\"text_15\">\n      <!-- 0.25 -->\n      <g style=\"fill: #262626\" transform=\"translate(22.81375 139.661594) scale(0.11 -0.11)\">\n       <use xlink:href=\"#DejaVuSans-30\"/>\n       <use xlink:href=\"#DejaVuSans-2e\" x=\"63.623047\"/>\n       <use xlink:href=\"#DejaVuSans-32\" x=\"95.410156\"/>\n       <use xlink:href=\"#DejaVuSans-35\" x=\"159.033203\"/>\n      </g>\n     </g>\n    </g>\n    <g id=\"ytick_5\">\n     <g id=\"line2d_15\">\n      <path d=\"M 56.805937 99.938683 \nL 413.925938 99.938683 \n\" clip-path=\"url(#p2249da0436)\" style=\"fill: none; stroke: #ffffff; stroke-linecap: round\"/>\n     </g>\n     <g id=\"text_16\">\n      <!-- 0.30 -->\n      <g style=\"fill: #262626\" transform=\"translate(22.81375 104.117823) scale(0.11 -0.11)\">\n       <defs>\n        <path id=\"DejaVuSans-33\" d=\"M 2597 2516 \nQ 3050 2419 3304 2112 \nQ 3559 1806 3559 1356 \nQ 3559 666 3084 287 \nQ 2609 -91 1734 -91 \nQ 1441 -91 1130 -33 \nQ 819 25 488 141 \nL 488 750 \nQ 750 597 1062 519 \nQ 1375 441 1716 441 \nQ 2309 441 2620 675 \nQ 2931 909 2931 1356 \nQ 2931 1769 2642 2001 \nQ 2353 2234 1838 2234 \nL 1294 2234 \nL 1294 2753 \nL 1863 2753 \nQ 2328 2753 2575 2939 \nQ 2822 3125 2822 3475 \nQ 2822 3834 2567 4026 \nQ 2313 4219 1838 4219 \nQ 1578 4219 1281 4162 \nQ 984 4106 628 3988 \nL 628 4550 \nQ 988 4650 1302 4700 \nQ 1616 4750 1894 4750 \nQ 2613 4750 3031 4423 \nQ 3450 4097 3450 3541 \nQ 3450 3153 3228 2886 \nQ 3006 2619 2597 2516 \nz\n\" transform=\"scale(0.015625)\"/>\n       </defs>\n       <use xlink:href=\"#DejaVuSans-30\"/>\n       <use xlink:href=\"#DejaVuSans-2e\" x=\"63.623047\"/>\n       <use xlink:href=\"#DejaVuSans-33\" x=\"95.410156\"/>\n       <use xlink:href=\"#DejaVuSans-30\" x=\"159.033203\"/>\n      </g>\n     </g>\n    </g>\n    <g id=\"ytick_6\">\n     <g id=\"line2d_16\">\n      <path d=\"M 56.805937 64.394912 \nL 413.925938 64.394912 \n\" clip-path=\"url(#p2249da0436)\" style=\"fill: none; stroke: #ffffff; stroke-linecap: round\"/>\n     </g>\n     <g id=\"text_17\">\n      <!-- 0.35 -->\n      <g style=\"fill: #262626\" transform=\"translate(22.81375 68.574052) scale(0.11 -0.11)\">\n       <use xlink:href=\"#DejaVuSans-30\"/>\n       <use xlink:href=\"#DejaVuSans-2e\" x=\"63.623047\"/>\n       <use xlink:href=\"#DejaVuSans-33\" x=\"95.410156\"/>\n       <use xlink:href=\"#DejaVuSans-35\" x=\"159.033203\"/>\n      </g>\n     </g>\n    </g>\n    <g id=\"ytick_7\">\n     <g id=\"line2d_17\">\n      <path d=\"M 56.805937 28.851141 \nL 413.925938 28.851141 \n\" clip-path=\"url(#p2249da0436)\" style=\"fill: none; stroke: #ffffff; stroke-linecap: round\"/>\n     </g>\n     <g id=\"text_18\">\n      <!-- 0.40 -->\n      <g style=\"fill: #262626\" transform=\"translate(22.81375 33.030281) scale(0.11 -0.11)\">\n       <use xlink:href=\"#DejaVuSans-30\"/>\n       <use xlink:href=\"#DejaVuSans-2e\" x=\"63.623047\"/>\n       <use xlink:href=\"#DejaVuSans-34\" x=\"95.410156\"/>\n       <use xlink:href=\"#DejaVuSans-30\" x=\"159.033203\"/>\n      </g>\n     </g>\n    </g>\n    <g id=\"text_19\">\n     <!-- loss -->\n     <g style=\"fill: #262626\" transform=\"translate(16.318125 151.845375) rotate(-90) scale(0.12 -0.12)\">\n      <defs>\n       <path id=\"DejaVuSans-6c\" d=\"M 603 4863 \nL 1178 4863 \nL 1178 0 \nL 603 0 \nL 603 4863 \nz\n\" transform=\"scale(0.015625)\"/>\n       <path id=\"DejaVuSans-73\" d=\"M 2834 3397 \nL 2834 2853 \nQ 2591 2978 2328 3040 \nQ 2066 3103 1784 3103 \nQ 1356 3103 1142 2972 \nQ 928 2841 928 2578 \nQ 928 2378 1081 2264 \nQ 1234 2150 1697 2047 \nL 1894 2003 \nQ 2506 1872 2764 1633 \nQ 3022 1394 3022 966 \nQ 3022 478 2636 193 \nQ 2250 -91 1575 -91 \nQ 1294 -91 989 -36 \nQ 684 19 347 128 \nL 347 722 \nQ 666 556 975 473 \nQ 1284 391 1588 391 \nQ 1994 391 2212 530 \nQ 2431 669 2431 922 \nQ 2431 1156 2273 1281 \nQ 2116 1406 1581 1522 \nL 1381 1569 \nQ 847 1681 609 1914 \nQ 372 2147 372 2553 \nQ 372 3047 722 3315 \nQ 1072 3584 1716 3584 \nQ 2034 3584 2315 3537 \nQ 2597 3491 2834 3397 \nz\n\" transform=\"scale(0.015625)\"/>\n      </defs>\n      <use xlink:href=\"#DejaVuSans-6c\"/>\n      <use xlink:href=\"#DejaVuSans-6f\" x=\"27.783203\"/>\n      <use xlink:href=\"#DejaVuSans-73\" x=\"88.964844\"/>\n      <use xlink:href=\"#DejaVuSans-73\" x=\"141.064453\"/>\n     </g>\n    </g>\n   </g>\n   <g id=\"PolyCollection_1\">\n    <defs>\n     <path id=\"mbb040dc087\" d=\"M 74.751666 -296.975687 \nL 74.751666 -250.754403 \nL 92.697395 -217.0435 \nL 110.643123 -189.732249 \nL 128.588852 -169.69265 \nL 146.534581 -152.16382 \nL 164.480309 -142.101555 \nL 182.426038 -127.84687 \nL 200.371767 -112.90012 \nL 218.317495 -104.389537 \nL 236.263224 -97.531339 \nL 254.208953 -88.305816 \nL 272.154681 -86.761217 \nL 290.10041 -75.433806 \nL 308.046139 -69.389313 \nL 325.991867 -64.184089 \nL 343.937596 -62.283075 \nL 361.883324 -59.336399 \nL 379.829053 -55.055687 \nL 397.774782 -55.448677 \nL 397.774782 -66.640512 \nL 397.774782 -66.640512 \nL 379.829053 -70.407834 \nL 361.883324 -75.337956 \nL 343.937596 -77.989546 \nL 325.991867 -84.29385 \nL 308.046139 -101.788259 \nL 290.10041 -101.819551 \nL 272.154681 -111.41823 \nL 254.208953 -111.026324 \nL 236.263224 -116.733649 \nL 218.317495 -142.249395 \nL 200.371767 -164.618135 \nL 182.426038 -152.868138 \nL 164.480309 -162.17444 \nL 146.534581 -182.001487 \nL 128.588852 -189.450177 \nL 110.643123 -214.175798 \nL 92.697395 -235.520497 \nL 74.751666 -296.975687 \nz\n\" style=\"stroke: #4c72b0; stroke-opacity: 0.2\"/>\n    </defs>\n    <g clip-path=\"url(#p2249da0436)\">\n     <use xlink:href=\"#mbb040dc087\" x=\"0\" y=\"316.271687\" style=\"fill: #4c72b0; fill-opacity: 0.2; stroke: #4c72b0; stroke-opacity: 0.2\"/>\n    </g>\n   </g>\n   <g id=\"line2d_18\">\n    <path d=\"M 74.751666 42.406642 \nL 92.697395 89.989689 \nL 110.643123 114.317664 \nL 128.588852 136.700274 \nL 146.534581 149.189034 \nL 164.480309 164.13369 \nL 182.426038 175.914183 \nL 200.371767 177.51256 \nL 218.317495 192.952221 \nL 236.263224 209.139193 \nL 254.208953 216.605618 \nL 272.154681 217.181964 \nL 290.10041 227.645009 \nL 308.046139 230.682901 \nL 325.991867 242.032718 \nL 343.937596 246.135377 \nL 361.883324 248.93451 \nL 379.829053 253.539927 \nL 397.774782 255.227093 \n\" clip-path=\"url(#p2249da0436)\" style=\"fill: none; stroke: #4c72b0; stroke-width: 1.5; stroke-linecap: round\"/>\n   </g>\n   <g id=\"patch_3\">\n    <path d=\"M 56.805937 273.312 \nL 56.805937 7.2 \n\" style=\"fill: none; stroke: #ffffff; stroke-width: 1.25; stroke-linejoin: miter; stroke-linecap: square\"/>\n   </g>\n   <g id=\"patch_4\">\n    <path d=\"M 413.925938 273.312 \nL 413.925938 7.2 \n\" style=\"fill: none; stroke: #ffffff; stroke-width: 1.25; stroke-linejoin: miter; stroke-linecap: square\"/>\n   </g>\n   <g id=\"patch_5\">\n    <path d=\"M 56.805937 273.312 \nL 413.925938 273.312 \n\" style=\"fill: none; stroke: #ffffff; stroke-width: 1.25; stroke-linejoin: miter; stroke-linecap: square\"/>\n   </g>\n   <g id=\"patch_6\">\n    <path d=\"M 56.805937 7.2 \nL 413.925938 7.2 \n\" style=\"fill: none; stroke: #ffffff; stroke-width: 1.25; stroke-linejoin: miter; stroke-linecap: square\"/>\n   </g>\n  </g>\n </g>\n <defs>\n  <clipPath id=\"p2249da0436\">\n   <rect x=\"56.805937\" y=\"7.2\" width=\"357.12\" height=\"266.112\"/>\n  </clipPath>\n </defs>\n</svg>\n",
      "text/plain": [
       "<Figure size 640x480 with 1 Axes>"
      ]
     },
     "metadata": {},
     "output_type": "display_data"
    }
   ],
   "source": [
    "df = pd.DataFrame(train)\n",
    "g = sns.lineplot(data=df[df.epoch > 0], x='epoch', y='loss', errorbar='sd')\n",
    "g.set_xticks(range(0, 20, 2));"
   ]
  },
  {
   "cell_type": "markdown",
   "metadata": {},
   "source": [
    "## Follow up\n",
    "The training loss looks like it is descreasing nicely over a relatively small number of epochs, try measuring the validation accuracy.  The following publications demonstrate using IPUs to train SchNet\n",
    "\n",
    "* [Reducing Down(stream)time: Pretraining Molecular GNNs using Heterogeneous AI Accelerators](https://arxiv.org/abs/2211.04598)\n",
    "* [Extreme Acceleration of Graph Neural Network-based Prediction Models for Quantum Chemistry](https://arxiv.org/abs/2211.13853)\n",
    "\n",
    "The dataset used in these papers is available in PyG as [HydroNet](https://pytorch-geometric.readthedocs.io/en/latest/modules/datasets.html#torch_geometric.datasets.HydroNet).\n"
   ]
  }
 ],
 "metadata": {
  "kernelspec": {
   "display_name": "Python 3.8.10 ('poppyg')",
   "language": "python",
   "name": "python3"
  },
  "language_info": {
   "codemirror_mode": {
    "name": "ipython",
    "version": 3
   },
   "file_extension": ".py",
   "mimetype": "text/x-python",
   "name": "python",
   "nbconvert_exporter": "python",
   "pygments_lexer": "ipython3",
   "version": "3.8.10"
  },
  "vscode": {
   "interpreter": {
    "hash": "37ec9b3d2f8f5b3a78030f09cb15a59167b99abc9aec6add55a24b6c46c49541"
   }
  }
 },
 "nbformat": 4,
 "nbformat_minor": 4
}
